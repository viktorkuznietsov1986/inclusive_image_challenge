{
 "cells": [
  {
   "cell_type": "code",
   "execution_count": 1,
   "metadata": {},
   "outputs": [],
   "source": [
    "import pandas as pd"
   ]
  },
  {
   "cell_type": "code",
   "execution_count": 2,
   "metadata": {},
   "outputs": [
    {
     "data": {
      "text/html": [
       "<div>\n",
       "<style scoped>\n",
       "    .dataframe tbody tr th:only-of-type {\n",
       "        vertical-align: middle;\n",
       "    }\n",
       "\n",
       "    .dataframe tbody tr th {\n",
       "        vertical-align: top;\n",
       "    }\n",
       "\n",
       "    .dataframe thead th {\n",
       "        text-align: right;\n",
       "    }\n",
       "</style>\n",
       "<table border=\"1\" class=\"dataframe\">\n",
       "  <thead>\n",
       "    <tr style=\"text-align: right;\">\n",
       "      <th></th>\n",
       "      <th>image_id</th>\n",
       "      <th>labels</th>\n",
       "    </tr>\n",
       "  </thead>\n",
       "  <tbody>\n",
       "    <tr>\n",
       "      <th>0</th>\n",
       "      <td>6b4f7a4a36436b6f43756f3d</td>\n",
       "      <td>/m/016xt7 /m/018p4k /m/0199g /m/01bqgn /m/01bq...</td>\n",
       "    </tr>\n",
       "    <tr>\n",
       "      <th>1</th>\n",
       "      <td>315a7361613553644731383d</td>\n",
       "      <td>/m/05s2s /m/07j7r</td>\n",
       "    </tr>\n",
       "    <tr>\n",
       "      <th>2</th>\n",
       "      <td>6d70644465556c77774b303d</td>\n",
       "      <td>/m/01g317 /m/0215n /m/02_n6y /m/05y5lj /m/07yv...</td>\n",
       "    </tr>\n",
       "    <tr>\n",
       "      <th>3</th>\n",
       "      <td>416274316f492f646852773d</td>\n",
       "      <td>/m/05s2s /m/07j7r</td>\n",
       "    </tr>\n",
       "    <tr>\n",
       "      <th>4</th>\n",
       "      <td>7747456f38626e546676453d</td>\n",
       "      <td>NaN</td>\n",
       "    </tr>\n",
       "  </tbody>\n",
       "</table>\n",
       "</div>"
      ],
      "text/plain": [
       "                   image_id                                             labels\n",
       "0  6b4f7a4a36436b6f43756f3d  /m/016xt7 /m/018p4k /m/0199g /m/01bqgn /m/01bq...\n",
       "1  315a7361613553644731383d                                  /m/05s2s /m/07j7r\n",
       "2  6d70644465556c77774b303d  /m/01g317 /m/0215n /m/02_n6y /m/05y5lj /m/07yv...\n",
       "3  416274316f492f646852773d                                  /m/05s2s /m/07j7r\n",
       "4  7747456f38626e546676453d                                                NaN"
      ]
     },
     "execution_count": 2,
     "metadata": {},
     "output_type": "execute_result"
    }
   ],
   "source": [
    "submission_file_name = './inception_450x450_1_epoch.csv'\n",
    "submission = pd.read_csv(submission_file_name)\n",
    "submission.head()"
   ]
  },
  {
   "cell_type": "code",
   "execution_count": 3,
   "metadata": {},
   "outputs": [
    {
     "data": {
      "text/html": [
       "<div>\n",
       "<style scoped>\n",
       "    .dataframe tbody tr th:only-of-type {\n",
       "        vertical-align: middle;\n",
       "    }\n",
       "\n",
       "    .dataframe tbody tr th {\n",
       "        vertical-align: top;\n",
       "    }\n",
       "\n",
       "    .dataframe thead th {\n",
       "        text-align: right;\n",
       "    }\n",
       "</style>\n",
       "<table border=\"1\" class=\"dataframe\">\n",
       "  <thead>\n",
       "    <tr style=\"text-align: right;\">\n",
       "      <th></th>\n",
       "      <th>image_id</th>\n",
       "      <th>labels</th>\n",
       "    </tr>\n",
       "  </thead>\n",
       "  <tbody>\n",
       "    <tr>\n",
       "      <th>0</th>\n",
       "      <td>2b2b327132556c767a736b3d</td>\n",
       "      <td>/m/0sgh53y /m/0g4cd0</td>\n",
       "    </tr>\n",
       "    <tr>\n",
       "      <th>1</th>\n",
       "      <td>2b2b394755692f303963553d</td>\n",
       "      <td>/m/0sgh53y /m/0g4cd0</td>\n",
       "    </tr>\n",
       "    <tr>\n",
       "      <th>2</th>\n",
       "      <td>2b2b42584e6d445937444d3d</td>\n",
       "      <td>/m/0sgh53y /m/0g4cd0</td>\n",
       "    </tr>\n",
       "    <tr>\n",
       "      <th>3</th>\n",
       "      <td>2b2b44744e57674270616f3d</td>\n",
       "      <td>/m/0sgh53y /m/0g4cd0</td>\n",
       "    </tr>\n",
       "    <tr>\n",
       "      <th>4</th>\n",
       "      <td>2b2b4b425a592b683059493d</td>\n",
       "      <td>/m/0sgh53y /m/0g4cd0</td>\n",
       "    </tr>\n",
       "  </tbody>\n",
       "</table>\n",
       "</div>"
      ],
      "text/plain": [
       "                   image_id                labels\n",
       "0  2b2b327132556c767a736b3d  /m/0sgh53y /m/0g4cd0\n",
       "1  2b2b394755692f303963553d  /m/0sgh53y /m/0g4cd0\n",
       "2  2b2b42584e6d445937444d3d  /m/0sgh53y /m/0g4cd0\n",
       "3  2b2b44744e57674270616f3d  /m/0sgh53y /m/0g4cd0\n",
       "4  2b2b4b425a592b683059493d  /m/0sgh53y /m/0g4cd0"
      ]
     },
     "execution_count": 3,
     "metadata": {},
     "output_type": "execute_result"
    }
   ],
   "source": [
    "sample_submission_file_name = './stage_1_sample_submission.csv'\n",
    "sample_submission = pd.read_csv(sample_submission_file_name)\n",
    "sample_submission.head()"
   ]
  },
  {
   "cell_type": "code",
   "execution_count": 4,
   "metadata": {},
   "outputs": [
    {
     "name": "stderr",
     "output_type": "stream",
     "text": [
      "IOPub data rate exceeded.\n",
      "The notebook server will temporarily stop sending output\n",
      "to the client in order to avoid crashing it.\n",
      "To change this limit, set the config variable\n",
      "`--NotebookApp.iopub_data_rate_limit`.\n",
      "\n",
      "Current values:\n",
      "NotebookApp.iopub_data_rate_limit=1000000.0 (bytes/sec)\n",
      "NotebookApp.rate_limit_window=3.0 (secs)\n",
      "\n"
     ]
    }
   ],
   "source": [
    "submission_dict = submission.to_dict('list')\n",
    "#print (submission_dict['labels'])\n",
    "\n",
    "submission_dict_other = {submission_dict['image_id'][i]:submission_dict['labels'][i] for i in range(len(submission_dict['image_id']))}\n",
    "\n",
    "print (submission_dict_other)"
   ]
  },
  {
   "cell_type": "code",
   "execution_count": 5,
   "metadata": {},
   "outputs": [],
   "source": [
    "misplaced_items = 0\n",
    "\n",
    "for index, row in sample_submission.iterrows():\n",
    "    \n",
    "    if row['image_id'] in submission_dict_other:\n",
    "        row['labels'] = submission_dict_other[row['image_id']]\n",
    "    else:\n",
    "        misplaced_items += 1\n",
    "    "
   ]
  },
  {
   "cell_type": "code",
   "execution_count": 6,
   "metadata": {},
   "outputs": [
    {
     "name": "stdout",
     "output_type": "stream",
     "text": [
      "44\n"
     ]
    }
   ],
   "source": [
    "print (misplaced_items)"
   ]
  },
  {
   "cell_type": "code",
   "execution_count": 7,
   "metadata": {},
   "outputs": [],
   "source": [
    "submission = sample_submission"
   ]
  },
  {
   "cell_type": "code",
   "execution_count": 8,
   "metadata": {},
   "outputs": [
    {
     "data": {
      "text/html": [
       "<div>\n",
       "<style scoped>\n",
       "    .dataframe tbody tr th:only-of-type {\n",
       "        vertical-align: middle;\n",
       "    }\n",
       "\n",
       "    .dataframe tbody tr th {\n",
       "        vertical-align: top;\n",
       "    }\n",
       "\n",
       "    .dataframe thead th {\n",
       "        text-align: right;\n",
       "    }\n",
       "</style>\n",
       "<table border=\"1\" class=\"dataframe\">\n",
       "  <thead>\n",
       "    <tr style=\"text-align: right;\">\n",
       "      <th></th>\n",
       "      <th>image_id</th>\n",
       "      <th>labels</th>\n",
       "    </tr>\n",
       "  </thead>\n",
       "  <tbody>\n",
       "    <tr>\n",
       "      <th>0</th>\n",
       "      <td>2b2b327132556c767a736b3d</td>\n",
       "      <td>/m/01bqvp /m/05s2s /m/07j7r /m/0838f /m/09d_r</td>\n",
       "    </tr>\n",
       "    <tr>\n",
       "      <th>1</th>\n",
       "      <td>2b2b394755692f303963553d</td>\n",
       "      <td>/m/01lynh /m/01s105 /m/03jm5 /m/04bcr3 /m/05s2...</td>\n",
       "    </tr>\n",
       "    <tr>\n",
       "      <th>2</th>\n",
       "      <td>2b2b42584e6d445937444d3d</td>\n",
       "      <td>/m/01bqvp /m/05s2s /m/07j7r /m/0838f /m/09d_r</td>\n",
       "    </tr>\n",
       "    <tr>\n",
       "      <th>3</th>\n",
       "      <td>2b2b44744e57674270616f3d</td>\n",
       "      <td>/m/01bqvp /m/05s2s /m/07j7r /m/09d_r</td>\n",
       "    </tr>\n",
       "    <tr>\n",
       "      <th>4</th>\n",
       "      <td>2b2b4b425a592b683059493d</td>\n",
       "      <td>/m/01prls /m/07yv9 /m/0k4j</td>\n",
       "    </tr>\n",
       "  </tbody>\n",
       "</table>\n",
       "</div>"
      ],
      "text/plain": [
       "                   image_id                                             labels\n",
       "0  2b2b327132556c767a736b3d      /m/01bqvp /m/05s2s /m/07j7r /m/0838f /m/09d_r\n",
       "1  2b2b394755692f303963553d  /m/01lynh /m/01s105 /m/03jm5 /m/04bcr3 /m/05s2...\n",
       "2  2b2b42584e6d445937444d3d      /m/01bqvp /m/05s2s /m/07j7r /m/0838f /m/09d_r\n",
       "3  2b2b44744e57674270616f3d               /m/01bqvp /m/05s2s /m/07j7r /m/09d_r\n",
       "4  2b2b4b425a592b683059493d                         /m/01prls /m/07yv9 /m/0k4j"
      ]
     },
     "execution_count": 8,
     "metadata": {},
     "output_type": "execute_result"
    }
   ],
   "source": [
    "submission.head()"
   ]
  },
  {
   "cell_type": "code",
   "execution_count": 9,
   "metadata": {},
   "outputs": [],
   "source": [
    "submission.to_csv('./inception_submission_450x450.csv', index=False)"
   ]
  },
  {
   "cell_type": "code",
   "execution_count": null,
   "metadata": {},
   "outputs": [],
   "source": []
  }
 ],
 "metadata": {
  "kernelspec": {
   "display_name": "Python 3",
   "language": "python",
   "name": "python3"
  },
  "language_info": {
   "codemirror_mode": {
    "name": "ipython",
    "version": 3
   },
   "file_extension": ".py",
   "mimetype": "text/x-python",
   "name": "python",
   "nbconvert_exporter": "python",
   "pygments_lexer": "ipython3",
   "version": "3.6.6"
  }
 },
 "nbformat": 4,
 "nbformat_minor": 1
}
