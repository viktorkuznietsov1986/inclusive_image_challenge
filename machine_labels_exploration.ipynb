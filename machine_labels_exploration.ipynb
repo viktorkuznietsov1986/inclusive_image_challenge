{
 "cells": [
  {
   "cell_type": "code",
   "execution_count": 1,
   "metadata": {},
   "outputs": [],
   "source": [
    "# necessary imports\n",
    "import numpy as np\n",
    "import pandas as pd\n",
    "import sklearn"
   ]
  },
  {
   "cell_type": "code",
   "execution_count": 2,
   "metadata": {},
   "outputs": [],
   "source": [
    "import os"
   ]
  },
  {
   "cell_type": "code",
   "execution_count": 3,
   "metadata": {},
   "outputs": [],
   "source": [
    "labels_file_name = './data/train_machine_labels.csv'"
   ]
  },
  {
   "cell_type": "code",
   "execution_count": 4,
   "metadata": {},
   "outputs": [
    {
     "data": {
      "text/html": [
       "<div>\n",
       "<style scoped>\n",
       "    .dataframe tbody tr th:only-of-type {\n",
       "        vertical-align: middle;\n",
       "    }\n",
       "\n",
       "    .dataframe tbody tr th {\n",
       "        vertical-align: top;\n",
       "    }\n",
       "\n",
       "    .dataframe thead th {\n",
       "        text-align: right;\n",
       "    }\n",
       "</style>\n",
       "<table border=\"1\" class=\"dataframe\">\n",
       "  <thead>\n",
       "    <tr style=\"text-align: right;\">\n",
       "      <th></th>\n",
       "      <th>ImageID</th>\n",
       "      <th>Source</th>\n",
       "      <th>LabelName</th>\n",
       "      <th>Confidence</th>\n",
       "    </tr>\n",
       "  </thead>\n",
       "  <tbody>\n",
       "    <tr>\n",
       "      <th>0</th>\n",
       "      <td>000002b66c9c498e</td>\n",
       "      <td>machine</td>\n",
       "      <td>/m/05_4_</td>\n",
       "      <td>0.7</td>\n",
       "    </tr>\n",
       "    <tr>\n",
       "      <th>1</th>\n",
       "      <td>000002b66c9c498e</td>\n",
       "      <td>machine</td>\n",
       "      <td>/m/0krfg</td>\n",
       "      <td>0.7</td>\n",
       "    </tr>\n",
       "    <tr>\n",
       "      <th>2</th>\n",
       "      <td>000002b66c9c498e</td>\n",
       "      <td>machine</td>\n",
       "      <td>/m/01kcnl</td>\n",
       "      <td>0.5</td>\n",
       "    </tr>\n",
       "    <tr>\n",
       "      <th>3</th>\n",
       "      <td>000002b97e5471a0</td>\n",
       "      <td>machine</td>\n",
       "      <td>/m/05_5t0l</td>\n",
       "      <td>0.9</td>\n",
       "    </tr>\n",
       "    <tr>\n",
       "      <th>4</th>\n",
       "      <td>000002b97e5471a0</td>\n",
       "      <td>machine</td>\n",
       "      <td>/m/0cgh4</td>\n",
       "      <td>0.8</td>\n",
       "    </tr>\n",
       "  </tbody>\n",
       "</table>\n",
       "</div>"
      ],
      "text/plain": [
       "            ImageID   Source   LabelName  Confidence\n",
       "0  000002b66c9c498e  machine    /m/05_4_         0.7\n",
       "1  000002b66c9c498e  machine    /m/0krfg         0.7\n",
       "2  000002b66c9c498e  machine   /m/01kcnl         0.5\n",
       "3  000002b97e5471a0  machine  /m/05_5t0l         0.9\n",
       "4  000002b97e5471a0  machine    /m/0cgh4         0.8"
      ]
     },
     "execution_count": 4,
     "metadata": {},
     "output_type": "execute_result"
    }
   ],
   "source": [
    "# quick lookup on the the contents of the file\n",
    "labels_file = pd.read_csv(labels_file_name)\n",
    "labels_file.head()"
   ]
  },
  {
   "cell_type": "code",
   "execution_count": 5,
   "metadata": {},
   "outputs": [],
   "source": [
    "classes_file_name = './data/classes-trainable.csv'"
   ]
  },
  {
   "cell_type": "code",
   "execution_count": 6,
   "metadata": {},
   "outputs": [
    {
     "data": {
      "text/html": [
       "<div>\n",
       "<style scoped>\n",
       "    .dataframe tbody tr th:only-of-type {\n",
       "        vertical-align: middle;\n",
       "    }\n",
       "\n",
       "    .dataframe tbody tr th {\n",
       "        vertical-align: top;\n",
       "    }\n",
       "\n",
       "    .dataframe thead th {\n",
       "        text-align: right;\n",
       "    }\n",
       "</style>\n",
       "<table border=\"1\" class=\"dataframe\">\n",
       "  <thead>\n",
       "    <tr style=\"text-align: right;\">\n",
       "      <th></th>\n",
       "      <th>label_code</th>\n",
       "    </tr>\n",
       "  </thead>\n",
       "  <tbody>\n",
       "    <tr>\n",
       "      <th>0</th>\n",
       "      <td>/m/0108_09c</td>\n",
       "    </tr>\n",
       "    <tr>\n",
       "      <th>1</th>\n",
       "      <td>/m/010dmf</td>\n",
       "    </tr>\n",
       "    <tr>\n",
       "      <th>2</th>\n",
       "      <td>/m/010jjr</td>\n",
       "    </tr>\n",
       "    <tr>\n",
       "      <th>3</th>\n",
       "      <td>/m/010l12</td>\n",
       "    </tr>\n",
       "    <tr>\n",
       "      <th>4</th>\n",
       "      <td>/m/010lq47b</td>\n",
       "    </tr>\n",
       "  </tbody>\n",
       "</table>\n",
       "</div>"
      ],
      "text/plain": [
       "    label_code\n",
       "0  /m/0108_09c\n",
       "1    /m/010dmf\n",
       "2    /m/010jjr\n",
       "3    /m/010l12\n",
       "4  /m/010lq47b"
      ]
     },
     "execution_count": 6,
     "metadata": {},
     "output_type": "execute_result"
    }
   ],
   "source": [
    "classes_file = pd.read_csv(classes_file_name)\n",
    "classes_file.head()"
   ]
  },
  {
   "cell_type": "code",
   "execution_count": 7,
   "metadata": {},
   "outputs": [
    {
     "name": "stdout",
     "output_type": "stream",
     "text": [
      "The number of unique labels is 7178\n"
     ]
    }
   ],
   "source": [
    "all_labels = classes_file['label_code']\n",
    "print ('The number of unique labels is {}'.format(len(all_labels)))"
   ]
  },
  {
   "cell_type": "code",
   "execution_count": 8,
   "metadata": {},
   "outputs": [],
   "source": [
    "# set the number of labels which will be used as an output layer size for a model\n",
    "num_labels = len(all_labels)\n",
    "\n",
    "# build the index dictionary based on the labels collection\n",
    "labels_index = {label:idx for idx, label in enumerate(all_labels)}"
   ]
  },
  {
   "cell_type": "code",
   "execution_count": 9,
   "metadata": {},
   "outputs": [],
   "source": [
    "# retrieve the list of labels assigned to all images\n",
    "labels_set = set(all_labels)\n",
    "\n",
    "images_with_labels = {}\n"
   ]
  },
  {
   "cell_type": "code",
   "execution_count": 10,
   "metadata": {},
   "outputs": [],
   "source": [
    "# set up the threshold for the confidence of the machine label\n",
    "machine_label_threshold = .5"
   ]
  },
  {
   "cell_type": "code",
   "execution_count": 11,
   "metadata": {},
   "outputs": [],
   "source": [
    "train_images_dir = './data/train/scaled/'"
   ]
  },
  {
   "cell_type": "code",
   "execution_count": 12,
   "metadata": {},
   "outputs": [
    {
     "name": "stdout",
     "output_type": "stream",
     "text": [
      "f001f505a3549449.jpg\n"
     ]
    }
   ],
   "source": [
    "scaled_train_images = os.listdir(train_images_dir)\n",
    "image_file_name = scaled_train_images[0]\n",
    "print (image_file_name)"
   ]
  },
  {
   "cell_type": "code",
   "execution_count": 13,
   "metadata": {},
   "outputs": [
    {
     "name": "stdout",
     "output_type": "stream",
     "text": [
      "f001f505a3549449\n"
     ]
    }
   ],
   "source": [
    "image_file_name_wo_ext = image_file_name[:-4]\n",
    "print (image_file_name_wo_ext)"
   ]
  },
  {
   "cell_type": "code",
   "execution_count": 14,
   "metadata": {},
   "outputs": [
    {
     "name": "stderr",
     "output_type": "stream",
     "text": [
      "C:\\ProgramData\\Anaconda3\\envs\\tensorflow\\lib\\site-packages\\ipykernel_launcher.py:1: UserWarning: Boolean Series key will be reindexed to match DataFrame index.\n",
      "  \"\"\"Entry point for launching an IPython kernel.\n"
     ]
    },
    {
     "name": "stdout",
     "output_type": "stream",
     "text": [
      "['/m/0k4j', '/m/07yv9', '/m/01prls', '/m/07ywl', '/m/088l6h', '/m/021mp2', '/m/02ht342', '/m/02pdc4', '/m/0h8ls87', '/m/01lcwm']\n"
     ]
    }
   ],
   "source": [
    "print (labels_file.loc[labels_file['ImageID'] == image_file_name_wo_ext][labels_file['Confidence'] > machine_label_threshold]['LabelName'].tolist())"
   ]
  },
  {
   "cell_type": "code",
   "execution_count": 15,
   "metadata": {},
   "outputs": [
    {
     "name": "stderr",
     "output_type": "stream",
     "text": [
      "C:\\ProgramData\\Anaconda3\\envs\\tensorflow\\lib\\site-packages\\ipykernel_launcher.py:9: UserWarning: Boolean Series key will be reindexed to match DataFrame index.\n",
      "  if __name__ == '__main__':\n"
     ]
    },
    {
     "ename": "KeyboardInterrupt",
     "evalue": "",
     "output_type": "error",
     "traceback": [
      "\u001b[0;31m---------------------------------------------------------------------------\u001b[0m",
      "\u001b[0;31mKeyboardInterrupt\u001b[0m                         Traceback (most recent call last)",
      "\u001b[0;32m<ipython-input-15-a8741d889182>\u001b[0m in \u001b[0;36m<module>\u001b[0;34m()\u001b[0m\n\u001b[1;32m      7\u001b[0m     \u001b[0mimage_file_name_wo_ext\u001b[0m \u001b[0;34m=\u001b[0m \u001b[0mimage_file_name\u001b[0m\u001b[0;34m[\u001b[0m\u001b[0;34m:\u001b[0m\u001b[0;34m-\u001b[0m\u001b[0;36m4\u001b[0m\u001b[0;34m]\u001b[0m\u001b[0;34m\u001b[0m\u001b[0m\n\u001b[1;32m      8\u001b[0m     \u001b[0;31m#print (image_file_name_wo_ext)\u001b[0m\u001b[0;34m\u001b[0m\u001b[0;34m\u001b[0m\u001b[0m\n\u001b[0;32m----> 9\u001b[0;31m     \u001b[0mlst\u001b[0m \u001b[0;34m=\u001b[0m \u001b[0mlabels_file\u001b[0m\u001b[0;34m.\u001b[0m\u001b[0mloc\u001b[0m\u001b[0;34m[\u001b[0m\u001b[0mlabels_file\u001b[0m\u001b[0;34m[\u001b[0m\u001b[0;34m'ImageID'\u001b[0m\u001b[0;34m]\u001b[0m \u001b[0;34m==\u001b[0m \u001b[0mimage_file_name_wo_ext\u001b[0m\u001b[0;34m]\u001b[0m\u001b[0;34m[\u001b[0m\u001b[0mlabels_file\u001b[0m\u001b[0;34m[\u001b[0m\u001b[0;34m'Confidence'\u001b[0m\u001b[0;34m]\u001b[0m \u001b[0;34m>\u001b[0m \u001b[0mmachine_label_threshold\u001b[0m\u001b[0;34m]\u001b[0m\u001b[0;34m[\u001b[0m\u001b[0;34m'LabelName'\u001b[0m\u001b[0;34m]\u001b[0m\u001b[0;34m.\u001b[0m\u001b[0mtolist\u001b[0m\u001b[0;34m(\u001b[0m\u001b[0;34m)\u001b[0m\u001b[0;34m\u001b[0m\u001b[0m\n\u001b[0m\u001b[1;32m     10\u001b[0m     \u001b[0mimages_dict\u001b[0m\u001b[0;34m[\u001b[0m\u001b[0mimage_file_name_wo_ext\u001b[0m\u001b[0;34m]\u001b[0m \u001b[0;34m=\u001b[0m \u001b[0mlst\u001b[0m\u001b[0;34m\u001b[0m\u001b[0m\n\u001b[1;32m     11\u001b[0m \u001b[0;34m\u001b[0m\u001b[0m\n",
      "\u001b[0;32mC:\\ProgramData\\Anaconda3\\envs\\tensorflow\\lib\\site-packages\\pandas\\core\\ops.py\u001b[0m in \u001b[0;36mwrapper\u001b[0;34m(self, other, axis)\u001b[0m\n\u001b[1;32m   1281\u001b[0m \u001b[0;34m\u001b[0m\u001b[0m\n\u001b[1;32m   1282\u001b[0m             \u001b[0;32mwith\u001b[0m \u001b[0mnp\u001b[0m\u001b[0;34m.\u001b[0m\u001b[0merrstate\u001b[0m\u001b[0;34m(\u001b[0m\u001b[0mall\u001b[0m\u001b[0;34m=\u001b[0m\u001b[0;34m'ignore'\u001b[0m\u001b[0;34m)\u001b[0m\u001b[0;34m:\u001b[0m\u001b[0;34m\u001b[0m\u001b[0m\n\u001b[0;32m-> 1283\u001b[0;31m                 \u001b[0mres\u001b[0m \u001b[0;34m=\u001b[0m \u001b[0mna_op\u001b[0m\u001b[0;34m(\u001b[0m\u001b[0mvalues\u001b[0m\u001b[0;34m,\u001b[0m \u001b[0mother\u001b[0m\u001b[0;34m)\u001b[0m\u001b[0;34m\u001b[0m\u001b[0m\n\u001b[0m\u001b[1;32m   1284\u001b[0m             \u001b[0;32mif\u001b[0m \u001b[0mis_scalar\u001b[0m\u001b[0;34m(\u001b[0m\u001b[0mres\u001b[0m\u001b[0;34m)\u001b[0m\u001b[0;34m:\u001b[0m\u001b[0;34m\u001b[0m\u001b[0m\n\u001b[1;32m   1285\u001b[0m                 raise TypeError('Could not compare {typ} type with Series'\n",
      "\u001b[0;32mC:\\ProgramData\\Anaconda3\\envs\\tensorflow\\lib\\site-packages\\pandas\\core\\ops.py\u001b[0m in \u001b[0;36mna_op\u001b[0;34m(x, y)\u001b[0m\n\u001b[1;32m   1141\u001b[0m \u001b[0;34m\u001b[0m\u001b[0m\n\u001b[1;32m   1142\u001b[0m         \u001b[0;32melif\u001b[0m \u001b[0mis_object_dtype\u001b[0m\u001b[0;34m(\u001b[0m\u001b[0mx\u001b[0m\u001b[0;34m.\u001b[0m\u001b[0mdtype\u001b[0m\u001b[0;34m)\u001b[0m\u001b[0;34m:\u001b[0m\u001b[0;34m\u001b[0m\u001b[0m\n\u001b[0;32m-> 1143\u001b[0;31m             \u001b[0mresult\u001b[0m \u001b[0;34m=\u001b[0m \u001b[0m_comp_method_OBJECT_ARRAY\u001b[0m\u001b[0;34m(\u001b[0m\u001b[0mop\u001b[0m\u001b[0;34m,\u001b[0m \u001b[0mx\u001b[0m\u001b[0;34m,\u001b[0m \u001b[0my\u001b[0m\u001b[0;34m)\u001b[0m\u001b[0;34m\u001b[0m\u001b[0m\n\u001b[0m\u001b[1;32m   1144\u001b[0m \u001b[0;34m\u001b[0m\u001b[0m\n\u001b[1;32m   1145\u001b[0m         \u001b[0;32melif\u001b[0m \u001b[0mis_datetimelike_v_numeric\u001b[0m\u001b[0;34m(\u001b[0m\u001b[0mx\u001b[0m\u001b[0;34m,\u001b[0m \u001b[0my\u001b[0m\u001b[0;34m)\u001b[0m\u001b[0;34m:\u001b[0m\u001b[0;34m\u001b[0m\u001b[0m\n",
      "\u001b[0;31mKeyboardInterrupt\u001b[0m: "
     ]
    }
   ],
   "source": [
    "images_dict = {}\n",
    "\n",
    "for index, image_file_name in enumerate(scaled_train_images):\n",
    "    #if index > 10:\n",
    "    #    break\n",
    "    \n",
    "    image_file_name_wo_ext = image_file_name[:-4]\n",
    "    #print (image_file_name_wo_ext)\n",
    "    lst = labels_file.loc[labels_file['ImageID'] == image_file_name_wo_ext][labels_file['Confidence'] > machine_label_threshold]['LabelName'].tolist()\n",
    "    images_dict[image_file_name_wo_ext] = lst\n",
    "    \n",
    "    \n",
    "   \n",
    "    \n",
    "    \n",
    "    "
   ]
  },
  {
   "cell_type": "code",
   "execution_count": 15,
   "metadata": {},
   "outputs": [],
   "source": [
    "import pickle"
   ]
  },
  {
   "cell_type": "code",
   "execution_count": 16,
   "metadata": {},
   "outputs": [],
   "source": [
    "\n",
    "#f = open(\"./data/train.pkl\",\"wb\")\n",
    "#pickle.dump(images_dict,f)\n",
    "#f.close() "
   ]
  },
  {
   "cell_type": "code",
   "execution_count": 17,
   "metadata": {},
   "outputs": [
    {
     "name": "stdout",
     "output_type": "stream",
     "text": [
      "{'f001f505a3549449': ['/m/0k4j', '/m/07yv9', '/m/01prls', '/m/07ywl', '/m/088l6h', '/m/021mp2', '/m/02ht342', '/m/02pdc4', '/m/0h8ls87', '/m/01lcwm'], 'f003077089515631': ['/m/03jm5', '/m/0dx1j', '/m/0866r', '/m/0cgh4', '/m/0f0q9', '/m/01f4td', '/m/09d_r'], 'f0047c7d0029f384': ['/m/07bsy', '/m/06gfj', '/m/033j3c', '/m/039jbq', '/m/01c8br', '/m/017kvv'], 'f0066912698a5791': ['/m/01sdr', '/m/06fvc', '/m/0jg24', '/m/0n68_', '/m/09qqq', '/m/0bmgjqz', '/m/01zbnw'], 'f01497ef0c14eb43': ['/m/0271t', '/m/06z04', '/m/0lqk', '/m/012mj', '/m/01599', '/m/0b_fd'], 'f01b9c7197d32733': ['/m/017r8p', '/m/01nd_n'], 'f01cbc88aa5d06ea': ['/m/09j2d', '/m/012h24', '/m/032tl', '/m/0250x', '/m/0138tl'], 'f01e561f19dd75eb': ['/m/06fvc', '/m/0ytgt', '/m/06wtgq', '/m/05_4_', '/m/01bgsw'], 'f01fcfa6bba17a06': ['/m/011s0', '/m/0bkqqh', '/m/01knjb', '/m/0cz_0', '/m/06zsq', '/m/023907r'], 'f025fb38a9ab40cc': ['/m/05h0n', '/m/0hkf', '/m/0brn2d', '/m/04_5sg', '/m/01lxd', '/m/01w5c_', '/m/08t9c_', '/m/01f4td', '/m/06cnp', '/m/09d_r', '/m/025s3q0', '/m/06npx', '/m/0c9ph5', '/m/011yvr'], 'f02c0cd607b4b28b': ['/m/0215n', '/m/03gq5hm', '/m/01jwgf', '/m/02v0m2', '/m/01cd9', '/m/081rb', '/m/03scnj'], 'f0381736f9be0ca8': ['/m/01jwgf', '/m/02cwm', '/m/01cd9', '/m/02mf1n'], 'f03bec2f3626794b': ['/m/039v1', '/m/019sc', '/m/01g6gs', '/m/01g317', '/m/09jwl', '/m/01gq53', '/m/0gbbt', '/m/04rlf', '/m/02jjt', '/m/01jddz', '/m/01mwkf', '/m/0342h', '/m/03d49p1', '/m/016z4k', '/m/09lbv', '/m/015lz1'], 'f047a27ed791c69d': ['/m/06npx', '/m/0d1n2', '/m/05_5t0l', '/m/01lxd', '/m/01fdzj', '/m/0b3yr', '/m/05kq4', '/m/02jwqh', '/m/04ggh49', '/m/02fm9k', '/m/01cs_p', '/m/080byt0'], 'f04aa3b2d42808be': ['/m/06gfj', '/m/019sc', '/m/083jv', '/m/01g6gs', '/m/01c8br', '/m/068jd', '/m/01lwf0', '/m/039jbq', '/m/01mwkf', '/m/05wkw', '/m/03jm5', '/m/03d49p1', '/m/0dx1j', '/m/01kyr8', '/m/017kvv', '/m/02xh1', '/m/016nqd'], 'f04dfe9ff6932a1b': ['/m/0215n'], 'f0558995510b698b': ['/m/01gq53', '/m/09jwl', '/m/015lz1', '/m/01jddz', '/m/04rlf', '/m/02jjt', '/m/04_5hy', '/m/0b_fd', '/m/016z4k'], 'f057dc22f2e81fb8': ['/m/01jwgf', '/m/01fklc'], 'f0581a4f1fe4f706': ['/m/07bx10', '/m/09cynt', '/m/01qls', '/m/01h6cb', '/m/03233l'], 'f062c5e3ab5e4adb': ['/m/03xbw', '/m/0wgq98_', '/m/06ntj', '/m/09qf5', '/m/05b0n7k', '/m/03w7hp', '/m/06bm2'], 'f06a0ca7afc7d305': ['/m/038hg', '/m/05s2s', '/m/07j7r', '/m/02wbm', '/m/01bwr', '/m/036qh8', '/m/01v728', '/m/0c9ph5', '/m/09t49', '/m/04sjm', '/m/0htd3'], 'f06c1c08d469de7b': ['/m/01n32', '/m/0fpdgl', '/m/06l8d', '/m/01c8br', '/m/07bxq'], 'f073dc0459df78e9': ['/m/0c9ph5', '/m/05s2s', '/m/03bmqb', '/m/01bwr', '/m/01v728', '/m/0j7ty', '/m/01fklc', '/m/03rbf6', '/m/04sjm', '/m/016q19', '/m/06m11', '/m/0gqbt'], 'f0740483ccb07bb6': ['/m/02bbq'], 'f081506164c8a650': ['/m/0j_s4', '/m/079cl', '/m/056mk', '/m/01d74z', '/m/05_5t0l', '/m/034z7h', '/m/01n32', '/m/04k84', '/m/0fpdgl', '/m/02l215', '/m/0204fg', '/m/019sc6', '/m/01l7t2', '/m/04mx32', '/m/033rq4'], 'f08666b9c3331d5b': ['/m/03qtwd', '/m/083jv', '/m/019sc', '/m/01g6gs', '/m/068jd', '/m/09g5pq', '/m/06gfj', '/m/06pg22', '/m/01c8br', '/m/01mwkf', '/m/03d49p1', '/m/017kvv'], 'f08c36f9f4b5970d': ['/m/083jv', '/m/019sc', '/m/0jjw', '/m/019sc6', '/m/029zz6', '/m/0bkqqh'], 'f08fc58431fb4474': ['/m/02q08p0', '/m/0krfg', '/m/02wbm', '/m/01ykh', '/m/0hyyb', '/m/03vc65', '/m/01csdn', '/m/06l8d', '/m/0663v', '/m/01r1z5'], 'f0906891bc662986': ['/m/01b4q9', '/m/09g5pq', '/m/021dfr', '/m/0557q', '/m/033lpr'], 'f0918cabde736373': ['/m/06gfj', '/m/07bsy', '/m/0dx1j', '/m/033j3c', '/m/01c8br', '/m/0180xr', '/m/039jbq', '/m/01n32', '/m/07yv9', '/m/0fpdgl', '/m/01l7t2', '/m/017kvv', '/m/017r8p', '/m/04_sv'], 'f0944a46c2de3276': ['/m/07bsy'], 'f09e9ef6cf5bf25d': ['/m/01g6gs', '/m/019sc', '/m/07bsy', '/m/01kyr8', '/m/01mwkf', '/m/03d49p1', '/m/01d74z', '/m/01vk9q', '/m/07yv9', '/m/06d_3', '/m/016nqd'], 'f0a06289f83add0c': ['/m/09j2d', '/m/0250x', '/m/014ht3', '/m/09cynt'], 'f0b219c34af8afd6': ['/m/01rh7y', '/m/07yv9', '/m/034qg', '/m/0138tl', '/m/0fzyg', '/m/0k5j', '/m/032rk'], 'f0b41ec06b15a76f': ['/m/02wbm', '/m/036qh8', '/m/0f4s2w', '/m/02g7g2', '/m/0cjs7', '/m/01ttd6'], 'f0bcd04ce21fee0e': ['/m/01fklc', '/m/0c9ph5', '/m/016q19', '/m/07bg4p', '/m/0463sg', '/m/09ggk', '/m/0k65p'], 'f0dbd56700870563': ['/m/01n5jq', '/m/0jjw', '/m/067408', '/m/0djmp'], 'f0dd9aed6e2c84da': ['/m/07bx10'], 'f0dfbfbf05aef94d': ['/m/07bsy', '/m/039jbq', '/m/07yv9', '/m/05npqn'], 'f0e21fc75d0edf5f': ['/m/01d74z', '/m/04mx32'], 'f0fc5835c4105b84': ['/m/0557q'], 'f109dbbbf575f7b5': ['/m/01gq53', '/m/05qjc', '/m/02jjt', '/m/04_5hy', '/m/015lz1', '/m/09jwl', '/m/032tl', '/m/0557q'], 'f10f703bdd6bdf6f': ['/m/0btp2', '/m/01d74z', '/m/033j3c', '/m/0cz_0', '/m/017kvv', '/m/01zbnw'], 'f10fcbfcfca86725': ['/m/01sdr', '/m/06fvc', '/m/05s2s', '/m/02wbm', '/m/036qh8', '/m/0c9ph5', '/m/0b_fd'], 'f11362d5a714aa1f': ['/m/01k74n', '/m/03q69', '/m/07p82rh', '/m/0dzct', '/m/01g317', '/m/0k0pj', '/m/02pkb8', '/m/019nj4', '/m/0294jb', '/m/0jyfg', '/m/09cx8', '/m/04hgtk', '/m/0283dt1', '/m/02ksmb', '/m/0ds4x', '/m/016c68', '/m/0k65p', '/m/03c0bxg', '/m/0b_fd', '/m/0h8jxfl'], 'f1151b3ab39e56fa': ['/m/09cynt', '/m/081pkj'], 'f11e35eeacd40678': ['/m/07p82rh', '/m/06ntj', '/m/06h7j', '/m/03xwlw', '/m/06d4_', '/m/0hr5k'], 'f11fbebe08dd6390': ['/m/0n68_', '/m/05_5t0l'], 'f1241dd0ff5575d0': ['/m/06msq'], 'f126488bc6bc8ed2': ['/m/07yv9', '/m/0cmf2', '/m/0k5j', '/m/0fzyg', '/m/01qnxs'], 'f1277668ca77091c': ['/m/016br2', '/m/0n68_', '/m/03gfsp', '/m/083wq', '/m/0k2n5', '/m/0dpvm', '/m/01vkl', '/m/0f28m'], 'f12b82a622774928': ['/m/0k4j', '/m/012f08', '/m/07yv9', '/m/01prls', '/m/068mqj', '/m/0369ss', '/m/0h8ls87', '/m/03y_qy', '/m/02ht342', '/m/03txxp'], 'f133b3730a9a7522': ['/m/021mh_', '/m/025rgl', '/m/0138tl', '/m/0dnr7', '/m/09q2t', '/m/01l0y0'], 'f137409b1732f591': ['/m/05fblh', '/m/01gd91', '/m/03hh2k', '/m/04rky', '/m/01c7cq', '/m/02py09', '/m/035qhg', '/m/02mhj', '/m/0jzz1', '/m/01280g', '/m/03vd46', '/m/08t9c_', '/m/01xq0k1', '/m/0jbk', '/m/0hkvx', '/m/0brn2d', '/m/025st_8', '/m/01f4td', '/m/0g8p9'], 'f139ae1361d18bed': ['/m/01g317', '/m/09x0r'], 'f1459e16636a16d3': ['/m/06ht1', '/m/05wrt', '/m/01j2bj', '/m/01l0mw', '/m/038t8_', '/m/0d4wf', '/m/03nxtz', '/m/02rfdq', '/m/0l7_8', '/m/01s105', '/m/080sjd'], 'f1468e61913ebefa': ['/m/0krfg', '/m/01h6cb', '/m/0jfd5', '/m/07bx10', '/m/03233l'], 'f14841bba770246e': [], 'f14e314879c804d5': ['/m/01n32', '/m/0fpdgl', '/m/02nfxt', '/m/0hr8', '/m/01jm2n', '/m/01wkk9'], 'f15149ab0cd16e3c': ['/m/0dx1j', '/m/05_5t0l', '/m/0cgh4', '/m/0fpdgl', '/m/03nfmq', '/m/0180xr', '/m/0grl_', '/m/038t8_'], 'f152185d6deb72ed': ['/m/03qtwd', '/m/033lpr', '/m/07bx10', '/m/09cynt'], 'f1552324558926c5': ['/m/019jd', '/m/07yv9', '/m/06npx', '/m/03m4wn', '/m/03h5wy', '/m/04ggh49', '/m/01rzcn', '/m/01lxd'], 'f1571b82d26a0ec2': ['/m/07bsy', '/m/039jbq', '/m/0btp2', '/m/07yv9', '/m/01l7t2', '/m/01c8br', '/m/019sc6', '/m/05zdp'], 'f1595a08a063bc9a': ['/m/015p6', '/m/09ddx', '/m/01c_0l', '/m/09686', '/m/01c4rd', '/m/0jbk', '/m/0gg8brk', '/m/035qhg', '/m/02p0_xl', '/m/01280g'], 'f1623743cb77810c': ['/m/07bsy', '/m/039jbq', '/m/06gfj', '/m/07yv9', '/m/03nfmq', '/m/01l7t2', '/m/01c8br', '/m/01x314'], 'f167a8585cbfd8a9': ['/m/03q69', '/m/01g317', '/m/0ds5b', '/m/0ds4x', '/m/01xgsv', '/m/016c68', '/m/015h_t', '/m/0sgh53y', '/m/0b_fd'], 'f1699df24adb43cd': ['/m/015p6', '/m/05h0n', '/m/09686', '/m/01c4rd', '/m/0jbk', '/m/0h23m', '/m/01280g', '/m/035qhg', '/m/01bwb9', '/m/0336h', '/m/01gxtf', '/m/0cjvf', '/m/01_6mc', '/m/0gk3_', '/m/0b5gs'], 'f16b89bca41b4ef5': ['/m/0220r2', '/m/01klb9', '/m/05_5t0l', '/m/090j23', '/m/02ljgl', '/m/01wkk9', '/m/02q3d5', '/m/0166ls'], 'f173184e91b7ef88': ['/m/0cmf2', '/m/0k5j', '/m/07yv9', '/m/0fzyg', '/m/0j_5b', '/m/01rh7y', '/m/0l8fl', '/m/07txbq', '/m/083s2'], 'f1752a27fbc49371': ['/m/07p82rh', '/m/06ntj', '/m/0by3w', '/m/02pyg'], 'f17574f5f63ece2b': ['/m/03cjrt', '/m/05fblh', '/m/01fnns', '/m/0355cw', '/m/043rvww', '/m/023bbt', '/m/01c7cq', '/m/02mhj', '/m/02py09', '/m/09d_r', '/m/04_5sg', '/m/0280nh', '/m/0hm03', '/m/05sm1', '/m/0hkvx', '/m/02mwzg', '/m/09dv7', '/m/025st_8', '/m/04p25', '/m/01f4td', '/m/020wcz', '/m/0h_m', '/m/083mg', '/m/0f45l'], 'f17eaeb3bdd6b3e6': ['/m/01d74z', '/m/05_5t0l', '/m/0cgh4', '/m/04k84', '/m/01kyr8', '/m/04mx32', '/m/0cfs8', '/m/02nvjx', '/m/01wb7', '/m/0djmp', '/m/04rjz'], 'f1848d11cac36f48': [], 'f185342b746450a5': ['/m/06z37_', '/m/015r61', '/m/0jjw', '/m/05qdh', '/m/016nqd', '/m/02csf'], 'f188d60cfb4ef213': ['/m/02hcw1', '/m/0c9ph5', '/m/0bl0l', '/m/049_3v'], 'f189fdc1f50d764b': [], 'f18c4d5cf657613c': ['/m/0dx1j', '/m/0180xr', '/m/06gfj', '/m/01n32', '/m/039jbq', '/m/0fpdgl', '/m/01c8br', '/m/02nfxt', '/m/02jwqh', '/m/034z7h', '/m/07bxq', '/m/01wkk9', '/m/01l7t2', '/m/017m8l'], 'f18e521152563394': ['/m/01sdr', '/m/0jg24', '/m/04k84', '/m/09qqq', '/m/01kyr8', '/m/083vt', '/m/0jjw', '/m/013y0j', '/m/016nqd'], 'f18e8a1c7359a40f': ['/m/0k4j', '/m/07yv9', '/m/01prls', '/m/02mk9', '/m/02ht342', '/m/0h8ls87', '/m/021mp2', '/m/02swz_'], 'f19283c864295f9a': ['/m/068hy', '/m/0bt9lr', '/m/01z5f'], 'f196b68d0340c64f': ['/m/02wbm', '/m/06z04'], 'f19b7f06bc616116': ['/m/07bsy', '/m/07yv9', '/m/07r04', '/m/0hr8'], 'f19c560a96e1dbc6': ['/m/0l7_8', '/m/04bcr3', '/m/083vt', '/m/019sc6', '/m/03gfsp', '/m/02pkr5', '/m/0c_jw', '/m/0j62f', '/m/0130jx'], 'f19c76d6205b047d': ['/m/0gjkl', '/m/019sc', '/m/01g6gs', '/m/05wkw', '/m/03d49p1', '/m/0k65p', '/m/01mwkf'], 'f19d2fb60b3c032a': ['/m/068jd', '/m/01350r', '/m/02jjt', '/m/05qjc', '/m/09jwl', '/m/04_5hy', '/m/015lz1', '/m/0342h'], 'f1a12620f80adc2f': ['/m/019sc', '/m/01g6gs', '/m/068jd', '/m/05wkw', '/m/03d49p1', '/m/01mwkf', '/m/01kyr8', '/m/02xh1', '/m/01c8br', '/m/02vxn'], 'f1a2e63a9298add8': ['/m/0jbk', '/m/03vt0', '/m/035qhg', '/m/03xxp', '/m/0_k2', '/m/01dqkc', '/m/02cqfm', '/m/03mp1', '/m/03rbf6', '/m/0zkm'], 'f1a9e9903fa54e8b': ['/m/02wbm', '/m/02q08p0', '/m/01ykh', '/m/0krfg', '/m/0hz4q', '/m/0663v', '/m/036qh8'], 'f1b25cfff1c05b03': ['/m/0g2z8', '/m/01bqwh', '/m/07pw27b', '/m/01b2q6', '/m/0866r', '/m/01b3kg', '/m/0d1n2', '/m/03xxq7', '/m/09d_r', '/m/02_ktj', '/m/05sm1', '/m/0csby', '/m/04_5sg', '/m/04mx32', '/m/01b3l7'], 'f1b2ad0a4ed3a0c9': ['/m/01dv4h', '/m/05qdh', '/m/0jjw', '/m/02csf'], 'f1b7b12cd15dcbf6': ['/m/0c9ph5', '/m/01bwr', '/m/0bl0l', '/m/03nxtz', '/m/0hrcj2p'], 'f1bcdc8079a8ddc6': ['/m/0dx1j', '/m/06gfj', '/m/01n32', '/m/05_5t0l', '/m/01c8br', '/m/01klb9', '/m/0180xr', '/m/01wkk9', '/m/039jbq', '/m/0fpdgl', '/m/034z7h', '/m/01l7t2', '/m/03nfmq', '/m/017kvv'], 'f1bd292f0de7284a': ['/m/04rky', '/m/09686', '/m/0jbk', '/m/068hy', '/m/035qhg', '/m/0bt9lr', '/m/01280g', '/m/08t9c_', '/m/01z5f'], 'f1bdd566bb510976': ['/m/03qtwd', '/m/01gq53', '/m/033lpr', '/m/04_5hy', '/m/01jddz', '/m/0557q'], 'f1c22b8f3936ca9b': ['/m/0k4j', '/m/07yv9', '/m/01prls', '/m/012f08', '/m/01xq49', '/m/025qfg', '/m/02ht342', '/m/037n8x'], 'f1c3041545115f5d': ['/m/03gq5hm', '/m/01jwgf', '/m/01cd9', '/m/02cwm'], 'f1c3bd079ba4e5a3': ['/m/0d4v4', '/m/02rfdq', '/m/01l0mw', '/m/07yv9', '/m/01x314', '/m/031bff', '/m/039jq'], 'f1c631f7c7f1b18d': ['/m/01mfj', '/m/01r9v', '/m/0541p', '/m/0643t', '/m/029zz6', '/m/07c1v', '/m/02522', '/m/0bs7_0t'], 'f1c8c80d913fb7f6': ['/m/02vzx9', '/m/06ntj', '/m/0gl2ny2', '/m/0n68_', '/m/03x045', '/m/020m7t', '/m/02vx4', '/m/02wg8', '/m/0b9qm2', '/m/0bmgjqz', '/m/011l78', '/m/012sbd', '/m/018xm', '/m/0dpm1v', '/m/019cfy'], 'f1ca0deb8bf4189d': ['/m/06_dn', '/m/0866r', '/m/0hr8', '/m/09qqq', '/m/0l7_8', '/m/086mh', '/m/083vt'], 'f1cb3a916152a515': ['/m/01g317', '/m/032tl', '/m/0294jb'], 'f1e20f3a55505bfe': ['/m/03jm5', '/m/05wrt', '/m/0cgh4', '/m/02nfxt', '/m/0dx1j', '/m/0180xr', '/m/03nfmq', '/m/038t8_', '/m/01l0mw', '/m/01x314', '/m/0750y', '/m/02pvbb'], 'f1f0ccaa4dfc6061': ['/m/012mj', '/m/0271t', '/m/01599', '/m/04shl0', '/m/04qgp', '/m/044gvx', '/m/06z3v', '/m/0m09', '/m/04lc4'], 'f1f2cced356c94e3': ['/m/05h0n', '/m/04h4w', '/m/02l215', '/m/07j7r', '/m/0838f', '/m/07pw27b', '/m/023bbt', '/m/03ktm1', '/m/06cnp', '/m/02fm9k', '/m/02_ktj', '/m/0754v', '/m/086mh', '/m/04p25', '/m/093shy', '/m/04mx32', '/m/02hnx9', '/m/025s3q0', '/m/01b3kg', '/m/01b3l7', '/m/0184rb', '/m/0134l', '/m/0pvlz'], 'f1f34a3dc8f3b82e': ['/m/0k4j', '/m/07yv9', '/m/011l78'], 'f1f7ab97d85bfa23': ['/m/0hm03', '/m/09dv7', '/m/083mg', '/m/01f4td', '/m/01jm2n'], 'f1f92079ffc7ae9e': ['/m/068jd', '/m/016c4t', '/m/081hv', '/m/01pxgq', '/m/0ltfs', '/m/01txr2', '/m/01d40f', '/m/0ds4250'], 'f200f8ac84fa9c7e': ['/m/01sdr', '/m/019sc', '/m/068jd', '/m/0jg24', '/m/05wkw', '/m/088fh', '/m/0jjw', '/m/01dv4h', '/m/067408'], 'f203071e50b25286': ['/m/06ntj', '/m/026bk'], 'f21b7297a51be8b9': ['/m/05qjc', '/m/026bk', '/m/06ntj', '/m/02jjt', '/m/01350r', '/m/032km', '/m/081pkj', '/m/0557q'], 'f21c571f5b4f518a': ['/m/07yv9'], 'f21fba749ed3f05d': ['/m/01cbzq', '/m/018vpr', '/m/09d_r', '/m/025tn5c', '/m/036hv', '/m/01lxd', '/m/0ghpy', '/m/0h_m', '/m/06npx', '/m/0355cw', '/m/01v4jb', '/m/03k5cs'], 'f220dba4dce9c20b': ['/m/07bsy', '/m/07jdr', '/m/06d_3', '/m/07yv9', '/m/025s53m', '/m/01vk9q', '/m/01g50p', '/m/0467y7', '/m/017m8l'], 'f221bf71f0111a3a': ['/m/01yrx', '/m/068hy', '/m/04rky', '/m/09686', '/m/01l7qd', '/m/0jbk', '/m/038hg', '/m/035qhg', '/m/0k0pj', '/m/0307l', '/m/07k6w8', '/m/02cqfm', '/m/03dj64', '/m/03rbf6', '/m/012c9l'], 'f228dbb3f97b605d': ['/m/07jdr', '/m/07bsy', '/m/07yv9', '/m/06d_3', '/m/0py27', '/m/05zdp', '/m/0db2f', '/m/025s53m', '/m/0cb0xm', '/m/04h5c'], 'f22a027cadae9aec': [], 'f22edd980b40a7cd': [], 'f231e283d440c0cc': ['/m/06_dn', '/m/05fblh', '/m/086mh', '/m/07j7r', '/m/0866r', '/m/02py09', '/m/0754v', '/m/01c791', '/m/033kf', '/m/03vtj'], 'f24766f927fe52a0': ['/m/06cnp', '/m/03ktm1', '/m/02fm9k', '/m/06npx', '/m/019jd', '/m/07yv9', '/m/03m4wn', '/m/04ggh49', '/m/01lxd', '/m/017m8l'], 'f26028b5f23a1766': ['/m/015p6', '/m/05h0n', '/m/01c4rd', '/m/09686', '/m/01280g', '/m/0jbk', '/m/035qhg', '/m/0b5gs', '/m/01gxtf', '/m/0cjvf'], 'f26267664cef1ffa': ['/m/01g317', '/m/09j2d', '/m/01h6rj', '/m/012qdp'], 'f26562eec6ad45e9': ['/m/09g5pq', '/m/01g317', '/m/0ytgt', '/m/08g_yr'], 'f267c93467da1a26': ['/m/06l9r', '/m/04rky', '/m/09686', '/m/0jbk', '/m/01280g', '/m/035qhg', '/m/089v3'], 'f2777758ba09ff24': ['/m/05_5t0l', '/m/0cgh4', '/m/039jbq', '/m/03nfmq', '/m/01fdzj', '/m/01l7t2', '/m/01x314', '/m/079cl'], 'f28870fd92e28e70': ['/m/05fblh', '/m/05h0n', '/m/07j7r', '/m/02py09', '/m/05s2s', '/m/02zr8', '/m/0hnc1', '/m/09t49', '/m/01bwr', '/m/0b5gs', '/m/06z0n', '/m/0754v', '/m/0134l', '/m/02hnx9', '/m/0c9ph5'], 'f28b52257d567ad2': ['/m/03vt0', '/m/0jbk', '/m/0d_2m', '/m/088fh', '/m/03xxp', '/m/0cyf8', '/m/083s2'], 'f28d0605a6dbc4ff': ['/m/09g5pq', '/m/0557q'], 'f290fa2e8f837984': ['/m/05wrt', '/m/0cgh4', '/m/03jm5', '/m/03nfmq', '/m/0180xr', '/m/02nfxt', '/m/038t8_', '/m/01l0mw', '/m/01x314'], 'f29154c5343a26e7': ['/m/03mr6', '/m/03tmr', '/m/020m7t', '/m/06ntj', '/m/0wgys6n', '/m/03x045', '/m/02vzx9', '/m/052fxs', '/m/02qvl7', '/m/01f6l', '/m/012sbd', '/m/029g_9y'], 'f293c02cbf344a31': ['/m/07yr8h', '/m/0cgh4', '/m/05_5t0l', '/m/02nvjx', '/m/0cfs8'], 'f299b458494574c1': ['/m/05wkw', '/m/0ldpy', '/m/0c2lp'], 'f29a2271c7b202c6': ['/m/015p6', '/m/01dwxx', '/m/01c4rd', '/m/0jbk', '/m/09686', '/m/01pqfw', '/m/035qhg', '/m/012shk', '/m/0f115', '/m/02cqfm', '/m/01rr0k'], 'f29a9321129a6347': ['/m/01sdr', '/m/06fvc', '/m/0jjw', '/m/019sc6'], 'f2a5c731040eddde': ['/m/07s6nbt', '/m/03g3w'], 'f2ac744a1aa32246': ['/m/03bmqb', '/m/05h0n', '/m/0c9ph5', '/m/05s2s', '/m/01bwr', '/m/01v728', '/m/09t49', '/m/0gqbt', '/m/04sjm', '/m/0j7ty', '/m/03f35r', '/m/03rbf6', '/m/0134l'], 'f2ae260d350b86db': ['/m/02xwb', '/m/02wbm', '/m/05s2s', '/m/036qh8', '/m/0dxb5', '/m/03bmqb', '/m/019f1p', '/m/01v728', '/m/04sjm', '/m/033q04', '/m/0jhv_', '/m/03rbf6', '/m/0gqbt', '/m/0c9ph5', '/m/03j9j', '/m/01cz4w'], 'f2af365d87baef2d': ['/m/017r8p', '/m/033j3c', '/m/0hr8'], 'f2af58dc65867e48': ['/m/021dfr', '/m/011l78'], 'f2b37935856ecf4c': ['/m/06msq', '/m/0jjw', '/m/04yqq2', '/m/04hgtk', '/m/0djmp', '/m/01dv4h', '/m/02nnps', '/m/02csf', '/m/0jwzhtg', '/m/07glzq'], 'f2be8d5215051b50': ['/m/06fvc', '/m/07sn5gn', '/m/053f5'], 'f2befbbd762655b7': ['/m/038hg', '/m/07j7r', '/m/01bwr', '/m/0hnc1', '/m/0bl0l', '/m/02zr8', '/m/0h36z'], 'f2c025b2e4755b5f': ['/m/09g5pq', '/m/01b4q9', '/m/021dfr', '/m/01kt56', '/m/01qls', '/m/0bl0l'], 'f2c707609584e1ee': ['/m/05wrt', '/m/03jm5', '/m/02nfxt', '/m/020ys5', '/m/0cgh4', '/m/01l0mw', '/m/038t8_', '/m/01y8xw', '/m/0180xr', '/m/01x314', '/m/03nxtz', '/m/023907r', '/m/02pvbb', '/m/01nblt'], 'f2cd4bc46f085cb3': ['/m/01g317', '/m/01m0lg', '/m/021dfr', '/m/0ldpy', '/m/01h8n0', '/m/0ytgt', '/m/02jfc'], 'f2cf533f14af9430': ['/m/0k5j', '/m/07yv9', '/m/02l6bg', '/m/083s2', '/m/0cmf2'], 'f2dfe8c4d026cacd': ['/m/01vq3', '/m/025nd', '/m/05fc9mj', '/m/081pkj', '/m/03gkl'], 'f2e0719297b8f729': ['/m/09j5n', '/m/06rrc', '/m/083jv', '/m/06fvc', '/m/09kjlm', '/m/01jwgf', '/m/01fklc', '/m/09q2t', '/m/0hgrj75'], 'f2e6420861f07d3d': ['/m/01sdr', '/m/06fvc', '/m/0317s', '/m/03120', '/m/01vq3'], 'f2ea3473d8b1a62f': ['/m/09cx8', '/m/038hg', '/m/088fh', '/m/02cqfm', '/m/035r7c', '/m/023j4r', '/m/0k65p', '/m/0dzf4', '/m/03c0bxg', '/m/0hwky', '/m/09j5n', '/m/02cwm', '/m/03rbf6'], 'f2f0031e986e3eb3': ['/m/0jbk', '/m/038hg', '/m/01280g', '/m/035qhg', '/m/08t9c_', '/m/02wbm'], 'f2f2deab45b7ce01': ['/m/04_x4'], 'f2f3038c8a82ffc6': ['/m/03ybsm', '/m/0j6m2', '/m/05h0n', '/m/03ktm1', '/m/06cnp', '/m/01l56l', '/m/0838f', '/m/03kj4q', '/m/043rvww', '/m/023bbt', '/m/06gl1', '/m/0j2kx', '/m/02zr8', '/m/090j23', '/m/09t49', '/m/0134l', '/m/0d8cn'], 'f2fa5ee8b0524c53': ['/m/01gq53', '/m/01jddz', '/m/039v1', '/m/05qjc', '/m/09jwl', '/m/06mg_j', '/m/04rlf', '/m/0gbbt', '/m/02jjt', '/m/04_5hy', '/m/0d8lm', '/m/01350r', '/m/0342h', '/m/015lz1', '/m/018vs', '/m/081pkj', '/m/016z4k', '/m/0557q', '/m/011_f4'], 'f2fc0a86159bc019': ['/m/06fvc', '/m/01n5jq', '/m/011s0', '/m/0c9ph5'], 'f2fc50ddc1bc9d70': ['/m/01jwgf', '/m/06wtgq', '/m/0dkw5', '/m/0qmmr', '/m/06fgw'], 'f2feef6fa50dcfc6': ['/m/01lb5', '/m/0b42l9', '/m/015ll', '/m/03bt1gh', '/m/06ntj', '/m/03jj52', '/m/06bm2'], 'f300b5e9fa55d929': ['/m/03w7hp', '/m/03xbw', '/m/0wgq98_', '/m/09qf5', '/m/06ntj'], 'f3014f73a18a5231': ['/m/038hg', '/m/05s2s', '/m/09t49', '/m/01bwr', '/m/0b5gs', '/m/01v728', '/m/036qh8', '/m/0c9ph5', '/m/02xwb', '/m/02wbm', '/m/04sjm', '/m/0gqbt'], 'f30237b50951e209': ['/m/0pd7', '/m/01g317', '/m/09g5pq', '/m/01bq8v', '/m/01h6rj', '/m/04zm7_', '/m/012qdp', '/m/02h66g5', '/m/099md'], 'f30392ab8afd37f2': ['/m/04rky', '/m/01280g', '/m/07j7r', '/m/0jbk', '/m/068hy', '/m/0bt9lr', '/m/01z5f'], 'f304c13499a0e9a9': ['/m/0c9ph5', '/m/05s2s', '/m/03bmqb', '/m/07j7r', '/m/01bwr', '/m/01v728', '/m/09t49', '/m/04sjm', '/m/036qh8', '/m/0gqbt', '/m/03f35r'], 'f3093442051c3b2e': ['/m/01g317', '/m/012qdp', '/m/027k49j', '/m/063km', '/m/02h66g5', '/m/035y33', '/m/09x0r'], 'f30936807d1e61a6': ['/m/07j7r', '/m/05wrt', '/m/0180xr', '/m/05s2s', '/m/02nfxt', '/m/0lhr', '/m/02hnx9', '/m/038t8_', '/m/01l0mw', '/m/023907r', '/m/0c9ph5', '/m/0f0q9', '/m/0bl0l'], 'f30dddbe031efc41': ['/m/0342h', '/m/019sc', '/m/083jv', '/m/0fx80y', '/m/04szw', '/m/02sgy', '/m/018vs', '/m/011_f4', '/m/042v_gx', '/m/0d8lm', '/m/02cqfm'], 'f30f88f31c1b382b': ['/m/02wbm', '/m/0f4s2w', '/m/036qh8', '/m/05s2s', '/m/01v728', '/m/04sjm'], 'f312155ee4682c1a': ['/m/01sdr', '/m/0ds99lh', '/m/06pg22'], 'f3192d91415cca49': ['/m/037cyw', '/m/05wrt', '/m/06ht1', '/m/03gfsp', '/m/083vt', '/m/02rfdq', '/m/01l0mw', '/m/01n6fd', '/m/0d4v4', '/m/0h8lhsd', '/m/0k2n5'], 'f320b647d30413af': ['/m/083jv', '/m/01g6gs', '/m/03jm5', '/m/07j7r', '/m/086mh', '/m/0cgh4', '/m/01mwkf', '/m/03d49p1', '/m/06_dn', '/m/0754v', '/m/01f4td', '/m/02hnx9', '/m/01l0mw', '/m/038t8_'], 'f3220daa93946af5': ['/m/01bqvp', '/m/05fblh', '/m/0csby', '/m/0csh5', '/m/02py09', '/m/06npx', '/m/0d1n2', '/m/02fm9k', '/m/0b3yr', '/m/01ctry', '/m/05kq4', '/m/01lxd', '/m/099fz'], 'f322b682509d2a1a': ['/m/0dx1j', '/m/0fpdgl', '/m/02dkrm', '/m/010jjr', '/m/0f0q9'], 'f322ba257e4bbf89': [], 'f32331005072bd1c': ['/m/015p6', '/m/09686', '/m/01280g', '/m/035qhg', '/m/0jbk', '/m/02fm9k', '/m/0pvlz', '/m/012shk', '/m/06npx', '/m/01dwxx'], 'f324d7e7d71c60ad': ['/m/068jd', '/m/01g317', '/m/0jg24', '/m/04yx4', '/m/01dv4h', '/m/0jjw'], 'f32798e776de80da': ['/m/06msq', '/m/013_1c', '/m/0jjw', '/m/0dbs2', '/m/02ljgl'], 'f3282f4651db730c': ['/m/01d4b2', '/m/06fvc', '/m/05zsy', '/m/03lq2', '/m/019sc6', '/m/036qh8'], 'f32acadbf079bc10': ['/m/095yjj', '/m/06msq', '/m/013_1c', '/m/0jjw', '/m/02ljgl', '/m/0jwzhtg', '/m/02wtjj', '/m/0djmp', '/m/0df8xq'], 'f32b925b17e2ed0e': ['/m/01g5v', '/m/09qqq', '/m/03nfmq', '/m/0dpvm', '/m/02jwqh', '/m/0d4v4', '/m/038t8_', '/m/01cbzq', '/m/06npx'], 'f33297ee88498926': ['/m/0krfg', '/m/09qd1'], 'f3330ba515d74724': ['/m/01b4q9', '/m/0557q'], 'f335a8f89c20c0ea': ['/m/02q60ls', '/m/039l3v', '/m/02l7rx', '/m/09cynt', '/m/01h6cb'], 'f343580752f330e8': ['/m/09686', '/m/0jbk', '/m/06bt6', '/m/035qhg', '/m/09dzg', '/m/01vpyd', '/m/02cqfm', '/m/07bzdm'], 'f343ae3f4733f7ef': [], 'f346c1befda0a439': ['/m/01gq53', '/m/05qjc', '/m/02jjt', '/m/04_5hy', '/m/03qsdpk', '/m/0557q', '/m/04rlf', '/m/015lz1', '/m/033lpr'], 'f34b91bfaa886309': ['/m/01g317', '/m/09g5pq', '/m/01dv4h'], 'f34d452ba68963ee': ['/m/01r546', '/m/0404d', '/m/0463sg'], 'f350d0d46033dc08': ['/m/01fdzj', '/m/0n68_', '/m/05_5t0l', '/m/079cl', '/m/0vlys'], 'f352b59ef37238f0': ['/m/038hg', '/m/04jph85', '/m/06zsq', '/m/0bkqqh', '/m/011s0', '/m/02cwm'], 'f36943308e45b0c5': ['/m/06l8d', '/m/01nz0z', '/m/02rfdq', '/m/020fb2'], 'f36d04e06a2a8814': [], 'f36e44921fd8bce8': ['/m/0k4j', '/m/07yv9', '/m/012f08', '/m/01prls', '/m/025qfg', '/m/01xq49', '/m/083wq', '/m/02ht342', '/m/028c4_', '/m/02k_k3t', '/m/037n8x'], 'f370397a7969ce0e': ['/m/0bt9lr', '/m/068hy', '/m/04rky', '/m/0jbk', '/m/09686', '/m/0kpmf', '/m/06pq2r', '/m/03q44n', '/m/01z5f', '/m/0b6c67', '/m/047g84', '/m/026r9rb', '/m/074g8y', '/m/0363rs', '/m/02x2kwx', '/m/03svl1'], 'f37469e0db14d9a1': ['/m/07bx10', '/m/01h8n0', '/m/0krfg', '/m/0b_fd', '/m/09cynt'], 'f378b8903bda4380': ['/m/068jd', '/m/03bt1vf', '/m/02zsn', '/m/01g317', '/m/09g5pq', '/m/016c4t', '/m/0ltfs', '/m/01txr2', '/m/01pxgq'], 'f37ab47f24298bc8': ['/m/04_xn', '/m/0cgh4', '/m/05_5t0l', '/m/02nvjx', '/m/01wb7', '/m/01c6yl'], 'f37bc8f42da52c55': ['/m/0j_s4', '/m/020ys5', '/m/0vlys', '/m/02nfxt', '/m/05wrt', '/m/0180xr', '/m/01n32', '/m/039jbq', '/m/0cgh4', '/m/03nfmq', '/m/0fpdgl', '/m/01l7t2', '/m/03jm5', '/m/01x314', '/m/0750y', '/m/038t8_', '/m/079cl'], 'f37d6287968e276b': ['/m/02bbq', '/m/0jjw', '/m/03c0bxg', '/m/035r7c', '/m/0k65p'], 'f37e2b3013a0a3d3': ['/m/0jjw', '/m/01xmqj', '/m/013_1c', '/m/06msq', '/m/0c_jw', '/m/0138tl'], 'f380646fbedfb5f1': ['/m/0dzct', '/m/03q69', '/m/01g317', '/m/05wkw', '/m/01f43', '/m/0ds4x', '/m/06z04', '/m/04hgtk', '/m/01fklc', '/m/013y0j', '/m/0d1pc', '/m/02qbl1m', '/m/06pj2k'], 'f38ad62ef460fec8': ['/m/0215n', '/m/01n5jq'], 'f390833f79a9ef90': ['/m/0k4j', '/m/07yv9', '/m/01prls', '/m/01lcwm', '/m/033j3c', '/m/02ht342', '/m/02jxn5', '/m/01jp76'], 'f395be199ee0e390': ['/m/0b3yr', '/m/02fm9k', '/m/01lxd', '/m/06npx', '/m/03ktm1', '/m/07pw27b', '/m/05kq4', '/m/0d1n2', '/m/099fz', '/m/02p0sll', '/m/034srq', '/m/04ggh49'], 'f39cb39a7eb5cbd3': ['/m/09j2d', '/m/01fklc', '/m/02pkb8', '/m/05r655', '/m/016c68', '/m/03c0bxg', '/m/01d40f', '/m/035r7c', '/m/08y7p8', '/m/032tl', '/m/01j04m', '/m/0d1pc'], 'f39d6ee54ad60a1f': ['/m/09j2d', '/m/02wv6h6', '/m/01fklc', '/m/09ggk', '/m/01d40f', '/m/09gg3', '/m/0ckc5', '/m/08y7p8', '/m/05sfw_', '/m/04f62z', '/m/04ffcj', '/m/03xr7y', '/m/031vtq', '/m/01cmb2', '/m/02p1cnt'], 'f39dc92e42d0a091': ['/m/04k84', '/m/03nfmq', '/m/0k2n5', '/m/07c1v', '/m/01lynh', '/m/04szw'], 'f3a22b75b9bc7a03': ['/m/080hkjn', '/m/0n5v01m', '/m/0230w', '/m/0jjw', '/m/09q2t', '/m/0hwky', '/m/0dnr7', '/m/02cwm'], 'f3ae64f86f665c4b': ['/m/06gfj', '/m/0hr8', '/m/033j3c', '/m/0cz_0', '/m/01k0mv', '/m/0cnfpz', '/m/017kvv', '/m/0335j'], 'f3afa93aed55cf66': ['/m/0h36z', '/m/01vw0_', '/m/02ljgl', '/m/013_1c', '/m/02q3d5', '/m/06msq', '/m/02vk6x', '/m/0djmp'], 'f3b110dc1d5e9f28': ['/m/068jd', '/m/09g5pq', '/m/07j7r', '/m/05wkw', '/m/0754v', '/m/01txr2', '/m/02qbl1m', '/m/0134l'], 'f3b62a8dd16299d3': ['/m/05s2s', '/m/038hg', '/m/08t9c_', '/m/03bmqb', '/m/0c9ph5', '/m/09t49', '/m/01v728', '/m/01v327', '/m/0fkrk', '/m/04sjm', '/m/036qh8'], 'f3b720bdcdfa1952': ['/m/07yv9', '/m/01prls', '/m/0k4j', '/m/07bsy', '/m/079bkr', '/m/01bjv', '/m/01lgkm', '/m/025qfg', '/m/02ht342'], 'f3b991f89ac493ba': ['/m/01w5c_', '/m/08863x', '/m/0dx1j', '/m/02nfxt', '/m/05wkw', '/m/01n32', '/m/0180xr', '/m/034z7h', '/m/0fpdgl', '/m/0d1n2', '/m/0204fg', '/m/0750y', '/m/01ctry', '/m/04_5sg', '/m/01l7t2'], 'f3bcd0af9e7613c5': ['/m/03q69', '/m/0dzct', '/m/0ds4x', '/m/01f43', '/m/05wkw', '/m/04hgtk', '/m/02pd__z', '/m/02qbl1m', '/m/013y0j', '/m/0d1pc', '/m/032tl', '/m/0d2ww', '/m/014sv8', '/m/0404d', '/m/0jyfg', '/m/039xj_'], 'f3cd97d8beeeb079': [], 'f3cdb303eadb20b5': ['/m/09qqq', '/m/0l7_8', '/m/083vt', '/m/02rfdq', '/m/01c34b'], 'f3d75401ca396f5d': [], 'f3d75f5abebb38ad': ['/m/04hyxm', '/m/06ht1', '/m/04h8h', '/m/02jfc', '/m/075_ys', '/m/0191f8'], 'f3dba692210fbb61': ['/m/05s2s', '/m/0c9ph5', '/m/03bmqb', '/m/01bwr', '/m/01v728', '/m/04sjm', '/m/016q19', '/m/03f35r', '/m/0l5r', '/m/036qh8'], 'f3e17a218b128dbc': ['/m/0dflpy', '/m/0bwd_0j', '/m/01280g', '/m/04rky', '/m/035qhg', '/m/07kbbhf', '/m/0jbk', '/m/0199b0', '/m/01c7d3', '/m/04_r5c', '/m/0h_m'], 'f3e3bbc55c954853': ['/m/01sdr', '/m/068jd', '/m/02zsn', '/m/01g5v', '/m/0ltfs', '/m/03bt1vf', '/m/05wkw', '/m/01f43', '/m/01fklc', '/m/06z04', '/m/016c4t', '/m/09ggk', '/m/0c9ph5', '/m/081hv', '/m/01d40f'], 'f3ebd43af8214772': ['/m/0k4j', '/m/01jfm_', '/m/07yv9'], 'f3ef77fecefd6719': ['/m/06gfj', '/m/0dx1j', '/m/033j3c', '/m/01n32', '/m/0180xr', '/m/01c8br', '/m/039jbq', '/m/01l7t2', '/m/0fpdgl', '/m/02nfxt', '/m/03nfmq', '/m/017r8p', '/m/017kvv'], 'f3efe82a26c983e3': ['/m/07yv9', '/m/01ctry', '/m/0csby'], 'f3f8803fe3cb44f5': ['/m/0dpvm', '/m/04k84', '/m/03nfmq', '/m/01kyr8', '/m/02bqth', '/m/0f28m', '/m/0158vt'], 'f406d6fcc6fd5005': ['/m/040h04', '/m/02mhj', '/m/0gs32y', '/m/07sn5gn', '/m/0355cw', '/m/04_5sg', '/m/09d_r', '/m/07yxk', '/m/02mwzg', '/m/09dv7', '/m/0hkf', '/m/0hm03', '/m/020wcz'], 'f40873001e02a995': ['/m/01b2w5', '/m/07pw27b', '/m/05_5t0l', '/m/03thgk', '/m/01b3kg', '/m/01fdzj', '/m/0d1n2', '/m/01b2q6', '/m/02_ktj', '/m/01b3l7', '/m/04mx32', '/m/0204fg', '/m/034z7h', '/m/08g_yr'], 'f40dff2f5e970468': ['/m/03qtwd', '/m/09g5pq', '/m/0krfg'], 'f4119f76f9f2c475': ['/m/04g3r', '/m/01m0lg', '/m/015c4z', '/m/06wtgq', '/m/02jwqh', '/m/0c_jw', '/m/03c0bxg', '/m/01kt56', '/m/0hrcj2p', '/m/035r7c'], 'f41b0f39e4c60e40': ['/m/05_5t0l', '/m/02ljgl', '/m/02q3d5'], 'f41f92a799ca2f19': ['/m/068hy', '/m/0jbk', '/m/0bt9lr', '/m/017y8_'], 'f4290e7296a30ee9': ['/m/01g317'], 'f42a61cc05b392dd': ['/m/01sdr', '/m/01n32', '/m/0cx45'], 'f42e5ce250746f69': ['/m/01g317', '/m/0n5szg6'], 'f43733400c9c32dd': ['/m/019sc', '/m/083jv', '/m/01g6gs', '/m/068jd', '/m/0jg24', '/m/05wkw', '/m/03d49p1', '/m/01mwkf', '/m/01c8br', '/m/032tl', '/m/01txr2'], 'f43c8f89e0a696c8': ['/m/01sdr', '/m/06fvc', '/m/01nz0z', '/m/06l8d'], 'f442d5d09ab8e9c9': ['/m/07yv9', '/m/01prls', '/m/04h5c', '/m/07bsy', '/m/06d_3', '/m/07jdr', '/m/025s53m', '/m/01vk9q', '/m/01g50p', '/m/0467y7'], 'f442e7fe94d944e0': [], 'f448ad75d322018a': ['/m/01sdr', '/m/03q69', '/m/01k74n', '/m/0dzct', '/m/06fvc', '/m/01g317', '/m/02zsn', '/m/03bt1vf', '/m/09g5pq', '/m/01f43', '/m/019nj4', '/m/0ds4x', '/m/01fklc', '/m/01dv4h', '/m/02cqfm', '/m/0chml9', '/m/014sv8'], 'f44b4e20aa98b19f': ['/m/04rky', '/m/0g8p9'], 'f44b8149d6e5b053': ['/m/021dfr', '/m/09cynt', '/m/07bx10'], 'f45af4c70a5ac6fd': ['/m/038hg', '/m/03bmqb', '/m/05s2s', '/m/0184yy', '/m/01bwr', '/m/01cbzq', '/m/01v728', '/m/09dv7', '/m/09t49', '/m/0c9ph5', '/m/01tbcv', '/m/0bl0l', '/m/036qh8'], 'f461ea790318ea39': ['/m/07j7r', '/m/0180xr', '/m/01n32', '/m/02nfxt', '/m/038t8_', '/m/017m8l', '/m/0166ls'], 'f46d3084c6afe6d8': ['/m/06ht1', '/m/05wrt', '/m/01l0mw', '/m/0d4wf', '/m/02rfdq', '/m/03nxtz', '/m/0krfg'], 'f47403fb33d8f6c4': ['/m/020kz', '/m/06wyv', '/m/07yv9', '/m/083wq', '/m/013xlm'], 'f475bf28cf7861d4': ['/m/0n68_', '/m/06ntj', '/m/0bmgjqz', '/m/018lrm', '/m/0404y4', '/m/019cfy', '/m/06c4_m'], 'f476d7bb611de99e': ['/m/01mqdt', '/m/033j3c', '/m/06zsq', '/m/0bkqqh', '/m/02pv19', '/m/04jph85', '/m/011s0'], 'f477ca237fd1f6e2': ['/m/03qtwd', '/m/09g5pq', '/m/01nd_n', '/m/026yq0z', '/m/033lpr', '/m/02p1xh', '/m/02jfc', '/m/081pkj'], 'f483f7855cc07afa': ['/m/01n5jq', '/m/0jjw', '/m/0fq22vb', '/m/0490jd', '/m/02cwm', '/m/015r61', '/m/01cd9'], 'f487a213def2b1d8': ['/m/0271t', '/m/01nr56', '/m/09702', '/m/05dc8f', '/m/02vqfm', '/m/03fsht', '/m/0364jn', '/m/0296jp', '/m/02wbm', '/m/02n3dt'], 'f4a0dbe3f29864bb': ['/m/09j5n', '/m/083jv', '/m/06rrc', '/m/01jwgf', '/m/09kjlm', '/m/01cd9', '/m/0hgrj75'], 'f4a1f3fdcf31e5d8': ['/m/0jjw', '/m/056mk', '/m/04rd7', '/m/01n5jq', '/m/011s0'], 'f4a7b29ca1071afa': ['/m/0153bq', '/m/0138tl'], 'f4ad1ff298d69f45': ['/m/01g317', '/m/0490jd'], 'f4b8bfd1f40eaffe': ['/m/07j7r', '/m/038hg', '/m/08t9c_', '/m/01v327', '/m/0hnc1', '/m/09t49', '/m/0754v', '/m/02hnx9', '/m/0c9ph5', '/m/025st_8', '/m/0134l'], 'f4bda2862bd0b909': ['/m/0ch75fj', '/m/0dkw5', '/m/01b5w1'], 'f4c52f5999cd31af': ['/m/0jjw', '/m/05qdh', '/m/01n5jq'], 'f4c701490391ebdb': ['/m/038hg', '/m/0jjw', '/m/0c9ph5'], 'f4cec76803f5cc58': ['/m/0838f', '/m/023bbt', '/m/0j2kx', '/m/07sn5gn', '/m/090j23', '/m/02zr8', '/m/0j6m2', '/m/01cbzq', '/m/0hnc1'], 'f4d977af3e1bf671': ['/m/0k4j', '/m/07yv9', '/m/01prls', '/m/012mq4', '/m/068mqj', '/m/014f__', '/m/02ht342', '/m/01lcwm', '/m/0ncqpsr', '/m/06j11d', '/m/01r_pn'], 'f4e42d6ac486a071': ['/m/01gq53', '/m/09jwl', '/m/04rlf', '/m/02jjt', '/m/04_5hy', '/m/01jddz', '/m/0557q'], 'f4ed728449705096': ['/m/0l7_8', '/m/09qqq', '/m/0djmp', '/m/01c34b', '/m/08g_yr'], 'f4f38e24368201ae': ['/m/07p82rh', '/m/01g317', '/m/06ntj', '/m/0d38m', '/m/06h7j', '/m/0m931', '/m/0c02pp7', '/m/0bynt', '/m/03xwlw', '/m/019w6h', '/m/03zsp5', '/m/06bm2', '/m/05b0n7k', '/m/0bpxlzj', '/m/08t0vy', '/m/02l5zk', '/m/06d4_'], 'f4f7689556b2dbca': ['/m/03k3r', '/m/04rky', '/m/09686', '/m/0fy9p2', '/m/0jbk', '/m/02cqfm', '/m/01l7qd', '/m/02_fkk', '/m/04hgtk', '/m/02s3y', '/m/04f44c', '/m/0c0ygc'], 'f503ee0153175a5b': ['/m/033lpr', '/m/07bx10', '/m/09cynt', '/m/09x0r'], 'f504f4b208d2060d': ['/m/01280g', '/m/023bbt', '/m/035qhg', '/m/02mhj', '/m/0hnc1'], 'f50e04a551952019': ['/m/01bjv', '/m/07yv9', '/m/01prls', '/m/07bsy', '/m/079bkr', '/m/05zdp', '/m/033j3c'], 'f50f362aa947bf3c': ['/m/02wbm', '/m/0ggjrhd', '/m/036qh8', '/m/02hcw1', '/m/0f4s2w', '/m/0c9ph5', '/m/06gjp9', '/m/09y4pm'], 'f512d17f75ad1343': ['/m/038hg', '/m/035qhg', '/m/0jbk', '/m/03vt0', '/m/03rbf6', '/m/09t49', '/m/01bwr', '/m/02cqfm', '/m/05s2s', '/m/0cydv', '/m/03xxp', '/m/0d9_3', '/m/0c9ph5', '/m/0d_2m', '/m/01ttd6'], 'f516f0cc700e8248': ['/m/0n68_', '/m/043rvww', '/m/019cfy', '/m/0404y4', '/m/0bmgjqz', '/m/06c4_m', '/m/02vx4', '/m/018lrm', '/m/03v7tf', '/m/01hrk6', '/m/02vzx9'], 'f517a2c45d5ed727': ['/m/0krfg', '/m/0jfd5', '/m/02q08p0', '/m/0b_fd'], 'f5188c415639e4b7': ['/m/018jz', '/m/02h664g', '/m/027zgtw', '/m/06ntj', '/m/020m7t', '/m/018kg', '/m/04xc_d', '/m/02kdmz', '/m/03x045', '/m/03v7tf', '/m/02wszf', '/m/01z9v6', '/m/05v_4b', '/m/01445t'], 'f51e6becf25a1dd8': ['/m/07j7r', '/m/05s2s', '/m/02hnx9', '/m/09t49', '/m/0b5gs', '/m/02tcwp', '/m/0c9ph5'], 'f523f2c1f798cf39': ['/m/013_1c', '/m/015k7', '/m/02ljgl', '/m/088fh', '/m/06msq', '/m/0jjw', '/m/08g_yr', '/m/0djmp', '/m/0jwzhtg'], 'f5273c07bcaa6d62': ['/m/0jjw', '/m/09t49', '/m/07glzq', '/m/02csf', '/m/03vt0', '/m/01kr8f', '/m/0cyf8', '/m/0hwky'], 'f52f0ee98338e884': ['/m/04ndr', '/m/0138tl', '/m/01jwgf', '/m/06wtgq'], 'f5361a7262841195': ['/m/0j_s4', '/m/01n32', '/m/05_5t0l', '/m/07j7r', '/m/039jbq', '/m/0180xr', '/m/01klb9', '/m/0fpdgl', '/m/01l7t2', '/m/01wkk9', '/m/02nfxt', '/m/034z7h', '/m/0vlys', '/m/02q3d5'], 'f544069183fb4b68': ['/m/02wbm', '/m/02q08p0', '/m/036qh8', '/m/0f4s2w', '/m/05s2s', '/m/01v728', '/m/04sjm', '/m/01ykh'], 'f549733c380b1ddc': ['/m/07j7r', '/m/05s2s', '/m/02mhj', '/m/03bmqb', '/m/0fkrk', '/m/01bwr', '/m/08t9c_', '/m/01v728', '/m/0b5gs', '/m/02hnx9', '/m/0lhr', '/m/09t49', '/m/0cdl1', '/m/0c9ph5', '/m/016x44', '/m/04sjm', '/m/0hv3g', '/m/05yrmc'], 'f54f701320444422': ['/m/03qtwd', '/m/02bbq'], 'f551fd61e57ff0b0': ['/m/0sy84', '/m/0cgh4', '/m/05_5t0l', '/m/0grl_', '/m/01n32', '/m/03nfmq', '/m/0d5gx', '/m/038t8_', '/m/05zp8', '/m/01wkk9'], 'f5522470564ab7b0': ['/m/03cjrt', '/m/09d_r', '/m/05h0n', '/m/043rvww', '/m/01l56l', '/m/023bbt', '/m/07pw27b', '/m/0355cw', '/m/0csby', '/m/04wxr', '/m/04_5sg', '/m/0280nh', '/m/025s3q0', '/m/04p25', '/m/020wcz', '/m/07yxk', '/m/02mwzg', '/m/0h_m'], 'f552cc71a76ab586': ['/m/09j2d', '/m/01g317', '/m/0250x'], 'f55c13a89e8456ab': ['/m/0k4j', '/m/07yv9', '/m/01prls', '/m/012mq4', '/m/068mqj', '/m/014f__', '/m/02ht342', '/m/022ph9'], 'f55cd51dce357b98': ['/m/07yv9', '/m/0hr5k'], 'f569db52828439ba': [], 'f56ab4543fad51d9': ['/m/01g317', '/m/0ytgt', '/m/05zppz', '/m/01bgsw', '/m/06wtgq', '/m/0jnvp', '/m/01bl7v', '/m/0k65p'], 'f571f1c25e3a3e61': ['/m/02l215', '/m/01d74z', '/m/01n32', '/m/04k84', '/m/034z7h', '/m/0204fg', '/m/0fpdgl', '/m/04mx32', '/m/02_ktj', '/m/01b3l7', '/m/06z0n'], 'f5727673af6654bc': ['/m/04p25', '/m/07pw27b', '/m/04h4w', '/m/093shy', '/m/02l215', '/m/01lxd', '/m/06npx', '/m/02fm9k', '/m/09d_r', '/m/04ggh49'], 'f577e24568149354': ['/m/06gfj', '/m/033j3c', '/m/0dx1j', '/m/0180xr', '/m/01c8br', '/m/01n32', '/m/039jbq', '/m/01k0mv', '/m/0fpdgl', '/m/02nfxt', '/m/01l7t2', '/m/03nfmq', '/m/017kvv', '/m/017r8p'], 'f578b10466c7ec86': ['/m/02wbm', '/m/02q08p0', '/m/0hz4q', '/m/0krfg', '/m/0270h', '/m/036qh8', '/m/01v728'], 'f57b412a5eb2a39e': ['/m/01ft5b', '/m/0ytgt', '/m/02bbq', '/m/01bgsw', '/m/05_4_'], 'f57c8357644a008d': ['/m/03cjrt', '/m/09d_r', '/m/01l56l', '/m/043rvww', '/m/023bbt', '/m/0355cw', '/m/0280nh', '/m/01c7cq', '/m/04_5sg', '/m/04p25', '/m/04wxr', '/m/02mwzg', '/m/07yxk', '/m/025st_8', '/m/025s3q0', '/m/020wcz', '/m/04h4w', '/m/083mg', '/m/0h_m', '/m/0hm03'], 'f57dbada34e1c036': ['/m/0215n', '/m/03gq5hm', '/m/0jxy', '/m/012h24', '/m/04spm'], 'f58d00c6138e7c4f': ['/m/05_5t0l', '/m/0c9ph5', '/m/0cgh4', '/m/01n32', '/m/03nfmq', '/m/038t8_', '/m/07bxq', '/m/0bl0l', '/m/0grl_', '/m/05zp8', '/m/0166ls'], 'f59528c51b8cf8ef': ['/m/019sc', '/m/083jv', '/m/01g6gs', '/m/068jd', '/m/01g317', '/m/04yx4', '/m/09g5pq', '/m/05wkw', '/m/05zppz', '/m/01mwkf', '/m/03d49p1', '/m/01dv4h', '/m/0ds5b', '/m/0chml9'], 'f598973bd89e4b27': ['/m/0jjw'], 'f59db0ae04ba6c31': ['/m/025nd', '/m/05fc9mj', '/m/0g91zf', '/m/0c9ph5', '/m/01vq3', '/m/0b5gs', '/m/0138tl', '/m/03rbf6'], 'f5a66050a8d601dc': ['/m/07yv9', '/m/01tq2l', '/m/020dwk', '/m/06q74', '/m/01vbb5', '/m/06npx', '/m/01rzcn', '/m/03htg', '/m/019jd', '/m/03218s', '/m/01cs_p', '/m/0p1c1'], 'f5afe8a4ccd27571': ['/m/06ht1', '/m/02p413', '/m/0gjbg72', '/m/01jwgf', '/m/0c_jw', '/m/0h8n982', '/m/040b_t', '/m/01s105'], 'f5b03da5940d020d': ['/m/0cgh4', '/m/019sc6', '/m/02nvjx', '/m/0173tc', '/m/0cfs8', '/m/0dpvm'], 'f5b6910414425c17': ['/m/0k4j', '/m/07yv9', '/m/01prls', '/m/03vntj', '/m/0h8ls87', '/m/02ht342', '/m/021mp2', '/m/01h80k', '/m/02k_k3t', '/m/0lyw6', '/m/025qfg'], 'f5b6e1481c73ce0a': ['/m/0bt_c3', '/m/0cgh4', '/m/0c_jw', '/m/04h8h', '/m/08hnjb'], 'f5ba2bb42c8fc08d': ['/m/01b4q9', '/m/09j2d', '/m/03qtwd', '/m/0250x', '/m/0hr5k'], 'f5bbeff56a6c29ae': ['/m/0jjw', '/m/01n5jq', '/m/011s0', '/m/01cd9', '/m/0bkqqh', '/m/0m9cj', '/m/02cwm', '/m/04rd7'], 'f5be64adf6e88d8a': ['/m/0215n', '/m/01fklc', '/m/01kr8f'], 'f5bee8835790b695': ['/m/083wq', '/m/0bmgjqz', '/m/0dkw5'], 'f5bfafbfb54c04dd': ['/m/05fblh', '/m/07j7r', '/m/02zr8', '/m/0hnc1', '/m/01y3fy', '/m/0h8lhsd', '/m/0hkf', '/m/03qfpl7', '/m/02wg_p', '/m/0d8cn'], 'f5ce369fa1a386d9': ['/m/019jd', '/m/07yv9', '/m/0838f', '/m/056ks2', '/m/03m4wn', '/m/06npx', '/m/04h4w', '/m/02fm9k', '/m/065qfx'], 'f5e79590db383136': ['/m/01g317', '/m/04yx4', '/m/05zppz', '/m/04_fs', '/m/0ds5b', '/m/013y0j', '/m/0b_fd'], 'f5e88cbad8faebc5': ['/m/01gq53', '/m/06mg_j', '/m/03qtwd', '/m/05qjc', '/m/01jddz', '/m/04_5hy', '/m/02jjt', '/m/033lpr', '/m/01sg9l', '/m/0557q'], 'f5ea34efb029430f': ['/m/026z9', '/m/01sg9l', '/m/0nb89bq', '/m/0c2lp'], 'f5eafb239bfa8a30': ['/m/07yv9', '/m/04_sv', '/m/0k4j', '/m/01prls', '/m/083wq', '/m/0199g', '/m/02ht342'], 'f5eb6bcb5356db8d': ['/m/01bqvp', '/m/01ctry', '/m/03m9d0z', '/m/01515d', '/m/07yv9'], 'f5f138b147bc196d': ['/m/01g317', '/m/09x0r', '/m/063km', '/m/035y33'], 'f5f2ca8d2318d1bb': ['/m/0c9ph5', '/m/01sh8v', '/m/05s2s', '/m/01bwr', '/m/01v728', '/m/04sjm', '/m/025st_8', '/m/03f35r', '/m/024xsj', '/m/0brn2d', '/m/0hkvx', '/m/01qdtc'], 'f5f4bd08df6c7a85': ['/m/0jyfg'], 'f600851ed033cdb3': ['/m/05fblh', '/m/07j7r', '/m/023bbt', '/m/02py09', '/m/02mhj', '/m/05s2s', '/m/0754v', '/m/0hm03', '/m/02hnx9', '/m/02zr8', '/m/09dv7', '/m/0hnc1', '/m/083vt'], 'f60244b85e0827f8': ['/m/09g5pq', '/m/03qtwd'], 'f602fa52284f64ea': ['/m/0n68_', '/m/09qqq', '/m/03nfmq', '/m/01x314', '/m/02dgv', '/m/0d4v4', '/m/025rw19', '/m/0dpvm', '/m/01_m7'], 'f61151f833c1f908': ['/m/02cqfm', '/m/06msq', '/m/013_1c', '/m/04hgtk', '/m/0jjw', '/m/0jwzhtg', '/m/04lmyz', '/m/08g_yr'], 'f618441f4a5be492': ['/m/06gfj', '/m/0hr8', '/m/033j3c', '/m/01k0mv', '/m/01jm2n', '/m/02nfxt', '/m/016g8_', '/m/017kvv', '/m/0cz_0', '/m/04w8xt'], 'f61c1ff73b9c3bb8': ['/m/04rky', '/m/09686', '/m/0g0zc', '/m/0jzz1', '/m/01280g', '/m/035qhg', '/m/0jbk', '/m/01xq0k1', '/m/0dcyp', '/m/0cnyhnx', '/m/04lmyz'], 'f61c4b738911a776': ['/m/0838f', '/m/02jwqh', '/m/0b3yr'], 'f6241b21f0b35562': ['/m/079cl', '/m/0vlys', '/m/0n68_', '/m/0cgh4', '/m/056mk', '/m/03nfmq', '/m/03scnj', '/m/01x314', '/m/031bff', '/m/02rfdq', '/m/016nqd', '/m/0f28m', '/m/02cwm', '/m/0hwky'], 'f6348712300d53d6': ['/m/05wrt', '/m/03jm5', '/m/01l0mw', '/m/038t8_', '/m/03nfmq', '/m/01x314', '/m/02nfxt', '/m/023907r', '/m/01y8xw', '/m/0lf0n'], 'f638a39f8c8c200f': ['/m/03qtwd', '/m/09g5pq', '/m/01nd_n', '/m/026yq0z'], 'f63faa4b7e8aef99': ['/m/021dfr', '/m/01qls'], 'f64c894cfab8fe38': ['/m/03ty65', '/m/05wrt', '/m/07yr8h', '/m/0cx45', '/m/0cgh4', '/m/042fmw', '/m/02nvjx', '/m/02cwf_', '/m/023907r'], 'f64e11cbba725654': ['/m/01g317', '/m/032tl'], 'f6549a01827ebc7b': ['/m/01b4q9', '/m/09g5pq', '/m/021dfr'], 'f65d062cf5da2241': ['/m/03q69', '/m/07p82rh', '/m/0dzct', '/m/01g317', '/m/0k0pj', '/m/01f5gx', '/m/0ds4x', '/m/0283dt1', '/m/04hgtk', '/m/06z04', '/m/0cnxs6x', '/m/0ytgt', '/m/01bl7v', '/m/0ds5b', '/m/01bgsw', '/m/013y0j'], 'f65e369916dfa9c0': ['/m/03bt1gh', '/m/033lpr'], 'f65fd5b8471b5b06': ['/m/06_dn', '/m/0866r', '/m/07sn5gn', '/m/086mh'], 'f664792b6746ccc3': ['/m/02wbm', '/m/03p1r4', '/m/0270h', '/m/01fklc', '/m/0fszt', '/m/07bg4p', '/m/02qm2x', '/m/016q19', '/m/013y0j', '/m/05wgwh'], 'f6677e9b5963277f': ['/m/01c8br', '/m/0bpxlzj'], 'f67173a7ad43902a': ['/m/02w3hl'], 'f677180632317569': ['/m/0230w', '/m/01fklc', '/m/0jjw', '/m/047fr', '/m/0dnr7'], 'f679d768b88c7453': ['/m/05_5t0l', '/m/01n32', '/m/0dx1j', '/m/0cgh4', '/m/0180xr', '/m/039jbq', '/m/0fpdgl', '/m/03nfmq', '/m/01klb9', '/m/01l7t2', '/m/05zp8', '/m/01x314', '/m/01wkk9'], 'f67aa94963b8ea3f': ['/m/021dfr', '/m/09cynt', '/m/07bx10', '/m/02jfc'], 'f67b4454f8e2dd9c': ['/m/01g6gs', '/m/01lynh', '/m/03jm5', '/m/06ht1', '/m/01l0mw', '/m/01mwkf', '/m/02rfdq', '/m/02pvbb', '/m/03d49p1'], 'f686c8a2e4209be5': ['/m/01d74z', '/m/02l215', '/m/01kyr8', '/m/05_5t0l', '/m/04k84', '/m/04mx32', '/m/019sc6', '/m/01b3l7', '/m/06z0n', '/m/079cl'], 'f690ab733c62a83b': ['/m/01d74z', '/m/04k84', '/m/04mx32', '/m/01zbnw'], 'f6927ed3dc4a41a5': ['/m/05fblh', '/m/07pw27b', '/m/07j7r', '/m/04_5sg', '/m/02zr8', '/m/09d_r', '/m/01f4td', '/m/025s3q0', '/m/0d8cn'], 'f69dd4e4c115a05e': ['/m/09g5pq', '/m/01qls', '/m/01kt56'], 'f6a03ec2e22466f7': ['/m/0j_s4', '/m/07bsy', '/m/02nfxt', '/m/01n32', '/m/0180xr', '/m/033j3c', '/m/06gfj', '/m/0cgh4', '/m/01lqfm', '/m/039jbq', '/m/0fpdgl', '/m/03nfmq', '/m/01l7t2', '/m/01c8br', '/m/0750y', '/m/01x314', '/m/0vlys', '/m/05zdp'], 'f6a5d3d8c9b6de74': ['/m/01350r'], 'f6a8d58de5eba709': ['/m/01sdr', '/m/068jd', '/m/019sc', '/m/01g5v', '/m/0jg24', '/m/04k84', '/m/0jjw', '/m/0d4v4', '/m/016nqd', '/m/02l215'], 'f6ab1c6e4640540f': ['/m/068hy', '/m/0bt9lr', '/m/04rky', '/m/09686', '/m/0jbk', '/m/02x9dk', '/m/0l7_8', '/m/01z5f', '/m/0d7s3w', '/m/01c34b'], 'f6abc5060b738ded': ['/m/02wbm', '/m/0krfg', '/m/05xnqg', '/m/02q08p0', '/m/0b_fd', '/m/01ykh'], 'f6b0968eec866510': ['/m/019sc', '/m/083jv', '/m/068jd', '/m/01g6gs', '/m/01g317', '/m/0jg24', '/m/01mwkf', '/m/03d49p1', '/m/0jyfg', '/m/01dv4h'], 'f6b1394e9fb512b9': ['/m/09g5pq', '/m/0bwd_0j', '/m/0h_m', '/m/07kbbhf'], 'f6b2a9116bda6388': [], 'f6b4288194151de8': ['/m/07vwy6', '/m/034wh', '/m/0jjw', '/m/04rd7'], 'f6b48988d8f6daf5': ['/m/07j7r', '/m/0180xr', '/m/0dx1j', '/m/01n32', '/m/02nfxt', '/m/039jbq', '/m/0fpdgl', '/m/05s2s', '/m/01l7t2', '/m/02hnx9', '/m/0750y', '/m/0c9ph5', '/m/034z7h', '/m/038t8_', '/m/01wkk9'], 'f6ba9ea12b03ef1e': ['/m/0ltfs', '/m/068jd', '/m/01g6gs', '/m/03bt1vf', '/m/04yx4', '/m/0ds4250', '/m/081hv', '/m/016c4t', '/m/03d49p1', '/m/02c66t', '/m/0hgs7v4', '/m/0bp_2p', '/m/01mwkf', '/m/09qd1'], 'f6bfb7a1d0b69a6c': ['/m/05fblh', '/m/01fnns', '/m/05h0n', '/m/038hg', '/m/0hnc1', '/m/03bmqb', '/m/0c9ph5', '/m/02py09', '/m/02mhj', '/m/07j7r', '/m/025st_8', '/m/05s2s', '/m/02zr8', '/m/01bwr', '/m/08t9c_', '/m/09t49', '/m/03f35r', '/m/01f4td', '/m/0bl0l', '/m/06z0n', '/m/0d8cn'], 'f6c1acf57bb23d01': ['/m/06ncr', '/m/039v1', '/m/06w7v', '/m/09jwl', '/m/01gq53', '/m/04rlf', '/m/0gbbt', '/m/0d8lm', '/m/02jjt', '/m/018vs', '/m/04szw', '/m/0342h', '/m/016z4k', '/m/015lz1'], 'f6c7db35b81762dd': ['/m/0271t', '/m/012mj', '/m/02wbm', '/m/081qc', '/m/020vl'], 'f6c8869d9a5f6b87': ['/m/068jd', '/m/01g6gs', '/m/01b4q9', '/m/09g5pq', '/m/03d49p1', '/m/01mwkf', '/m/016c4t', '/m/081hv', '/m/0557q'], 'f6ce5a487ff02a38': ['/m/06ht1', '/m/039l3v', '/m/02q60ls', '/m/04hyxm'], 'f6d054883c496287': ['/m/06_dn', '/m/086mh', '/m/03vtj', '/m/09738', '/m/07yv9'], 'f6d5e2732cf5ded8': ['/m/02q08p0', '/m/0krfg', '/m/0jfd5', '/m/0hz4q', '/m/02wbm', '/m/0dw_m', '/m/01ykh', '/m/02qhwc4'], 'f6d954fc093729ae': ['/m/01qls', '/m/02jf28', '/m/09cynt'], 'f6e12811f0a7e246': ['/m/0c9ph5', '/m/03bmqb', '/m/05s2s', '/m/0ggjrhd', '/m/02hcw1', '/m/02p6k8p', '/m/01v728', '/m/06gjp9', '/m/04sjm'], 'f6e17dfd782f791d': ['/m/03233l'], 'f6e8b13217408704': ['/m/01bqvp', '/m/01g5v', '/m/0cmf2', '/m/02yjc', '/m/01ctry', '/m/0k5j', '/m/013m1', '/m/0117z', '/m/01515d', '/m/0fzyg', '/m/0f5lx', '/m/07yv9', '/m/0hf73', '/m/015y8h', '/m/083s2'], 'f6eb9509b6dffb0f': ['/m/03gq5hm', '/m/01jwgf', '/m/013y0j', '/m/01cd9', '/m/0b_fd'], 'f6f09ce9c7e8de73': ['/m/01n32', '/m/0180xr', '/m/039jbq', '/m/0fpdgl', '/m/01c8br', '/m/01l7t2', '/m/02q3d5', '/m/0h36z'], 'f6f3db4ebaf5427d': ['/m/01g5v', '/m/01kyr8', '/m/01ctsf', '/m/04k84', '/m/01d74z', '/m/019sc6', '/m/04mx32', '/m/01zbnw', '/m/01ft8k'], 'f6f6c70393a37b44': ['/m/09g5pq', '/m/05zppz', '/m/0ytgt', '/m/01bl7v'], 'f6fadfa9c0ae2ecd': [], 'f6fec131f25030fe': ['/m/04_5hy', '/m/07bx10', '/m/016nqd'], 'f6ffd53184f58758': ['/m/0271t', '/m/012mj', '/m/0krfg', '/m/02wbm'], 'f7007328cf2df5d8': ['/m/021dfr', '/m/01qls'], 'f702b21a7204a09c': ['/m/07j7r', '/m/05h0n', '/m/06fvc', '/m/05s2s', '/m/09t49', '/m/0134l', '/m/0754v', '/m/0cffdh', '/m/0b5gs', '/m/01rynr', '/m/02hnx9', '/m/01v728', '/m/06z0n', '/m/0c9ph5'], 'f703087d97f69227': ['/m/021dfr', '/m/033lpr', '/m/07bx10', '/m/03233l', '/m/031hrg'], 'f7061922bbd05058': ['/m/0k4j', '/m/012f08', '/m/07yv9', '/m/01prls', '/m/088l6h', '/m/01lcwm', '/m/01xq49', '/m/02ht342'], 'f70cbf8d1c4ea658': ['/m/083jv', '/m/0c9ph5', '/m/016q19', '/m/01v728', '/m/088fh', '/m/0l5r', '/m/04sjm'], 'f70f8fb0df26338f': ['/m/015kr', '/m/06cnp', '/m/017m8l', '/m/093shy'], 'f7113c9815f43ce6': ['/m/06_dn', '/m/086mh', '/m/0866r', '/m/01c791', '/m/0754v', '/m/07sn5gn', '/m/04cvjcd'], 'f71bd028e0f6caa5': ['/m/010jjr', '/m/01wt5r', '/m/0166ls', '/m/05b0n7k', '/m/01cs_p', '/m/07yv9', '/m/06bm2', '/m/02dkrm'], 'f71bd15bbb05d5e6': ['/m/0c9ph5', '/m/088fh', '/m/07j7r', '/m/05s2s', '/m/03bmqb', '/m/01bwr', '/m/0b5gs', '/m/09t49', '/m/06z0n', '/m/01v728', '/m/0754v', '/m/04sjm', '/m/0134l', '/m/0j7ty'], 'f71c3f56ef5e5d63': ['/m/083jv', '/m/019sc', '/m/068jd', '/m/01g6gs', '/m/01g317', '/m/09g5pq', '/m/05wkw', '/m/03d49p1', '/m/01mwkf'], 'f7268c1e49a0de36': ['/m/01g6gs', '/m/02yybg', '/m/02nfxt', '/m/03d49p1', '/m/086mh', '/m/01l0mw', '/m/01mwkf', '/m/0750y', '/m/02csf'], 'f72b9d375bf32bec': ['/m/05_5t0l', '/m/01fdzj'], 'f72e8cc27df25899': ['/m/0c9ph5', '/m/07j7r', '/m/05s2s', '/m/0j7ty', '/m/03bmqb', '/m/01bwr', '/m/0bl0l', '/m/02hnx9', '/m/01txr2', '/m/0166ls', '/m/0b5gs'], 'f72f062a7fb0a250': ['/m/01g317', '/m/01g5v', '/m/0ytgt'], 'f72fc529d2cb1f5f': ['/m/033lpr'], 'f7341130eb2d89d5': ['/m/04h8h', '/m/0h8n982', '/m/0c_jw', '/m/0gjbg72', '/m/03__z0', '/m/018w1s', '/m/0bt_c3'], 'f7391e22cc4b3acc': ['/m/09j2d', '/m/032tl', '/m/0250x'], 'f73c5033a1d110b7': ['/m/01vw0_', '/m/02vk6x', '/m/01g6gs', '/m/02ljgl', '/m/02q3d5', '/m/01mwkf'], 'f740efe0f62f1b29': ['/m/07bsy', '/m/07yv9'], 'f745b754eb84f2fa': ['/m/02wbm', '/m/05s2s', '/m/036qh8', '/m/09t49', '/m/0f4s2w', '/m/03gq1'], 'f745da12d82325b4': ['/m/083jv', '/m/019sc', '/m/01g6gs', '/m/068jd', '/m/01m0lg', '/m/01g317', '/m/09g5pq', '/m/015c4z', '/m/05wkw', '/m/0ytgt', '/m/01mwkf', '/m/03d49p1'], 'f74f6d08542fdcc0': ['/m/01rwk', '/m/06ntj', '/m/03qzgq', '/m/01bdg', '/m/0h_m', '/m/03bgj7', '/m/06bm2', '/m/08t0vy', '/m/05b0n7k', '/m/02pyg'], 'f74fac80b9eaa1e5': ['/m/03qtwd'], 'f75bd7cc326012f4': ['/m/05wrt', '/m/0b_rs', '/m/01y8xw', '/m/01y3fy', '/m/0bl0l'], 'f760efe2ca9de405': ['/m/0b3yr', '/m/06npx', '/m/03ktm1', '/m/0dx1j', '/m/01lxd', '/m/02jwqh', '/m/02fm9k', '/m/05kq4', '/m/04ggh49'], 'f764107a3f2c7820': ['/m/06msq', '/m/04yqq2', '/m/0jjw', '/m/013_1c', '/m/04hgtk'], 'f76c3b3a923a0321': ['/m/0180xr', '/m/0dx1j', '/m/06l8d', '/m/01l7t2', '/m/01l0mw'], 'f76cea6c48baa02e': ['/m/06wrt', '/m/0cc6_9k', '/m/019jd', '/m/0hsrw', '/m/0jp31', '/m/01kbw8', '/m/07yv9', '/m/06npx', '/m/0hsrd', '/m/0bp510f', '/m/08854', '/m/041q5g', '/m/06q74', '/m/07zs3l', '/m/01rzcn', '/m/06ntj', '/m/0lbf4'], 'f771f272791e649b': ['/m/01bqvp', '/m/0csby', '/m/01g5v', '/m/0csh5', '/m/01ctry', '/m/07yv9', '/m/01515d', '/m/0cmf2', '/m/0k5j', '/m/0fzyg'], 'f77a13d48afdd4d4': ['/m/0bt9lr', '/m/068hy', '/m/01g6gs', '/m/04rky', '/m/0k0pj', '/m/0jbk', '/m/016wkx', '/m/03d49p1', '/m/01z5f', '/m/01mwkf'], 'f77af607f5534e45': ['/m/09j2d', '/m/0jjw', '/m/0250x', '/m/0jyfg'], 'f77f83c80e981048': ['/m/03jm5', '/m/039jbq', '/m/09qqq', '/m/03nfmq', '/m/02nfxt', '/m/01l0mw', '/m/0jjw', '/m/083vt', '/m/01x314'], 'f78a1f130046d51c': ['/m/09qqq', '/m/0jjw', '/m/02csf', '/m/07glzq', '/m/04sk75', '/m/015r61', '/m/083vt', '/m/016nqd'], 'f78a8f68c924451f': ['/m/03q69', '/m/0dzct', '/m/027n3_', '/m/0294jb', '/m/0k0pj', '/m/037p5b', '/m/05wkw', '/m/0ds4x', '/m/02ksmb', '/m/02pd__z', '/m/04hgtk', '/m/0283dt1', '/m/06z04', '/m/016c68', '/m/06pj2k', '/m/013y0j', '/m/0dzd8', '/m/09cx8', '/m/014sv8', '/m/0k65p'], 'f7905c6c9410f65a': [], 'f7998395b6610a48': ['/m/0b5gs', '/m/01bwr', '/m/07glzq', '/m/09t49', '/m/0jjw', '/m/02csf', '/m/016nqt', '/m/0c9ph5', '/m/0hwky', '/m/0dnr7'], 'f79c3577a6489d94': ['/m/0jjw', '/m/02cwm'], 'f79dfd81d3399899': ['/m/07s6nbt', '/m/0gkxy13', '/m/03gq5hm', '/m/01540', '/m/081rb', '/m/015bv3', '/m/01cd9'], 'f7a46436196df283': ['/m/01jm2n', '/m/017m8l', '/m/02fm9k'], 'f7adc0378bec5695': ['/m/01txr2', '/m/025rw19', '/m/083vt', '/m/0blz9'], 'f7c1ef3b4f5331f2': ['/m/01g317', '/m/01qkbx'], 'f7c4ced78926280a': ['/m/023bbt', '/m/01cbzq', '/m/07j7r', '/m/02309j', '/m/09dv7', '/m/0308t8', '/m/0ghpy', '/m/01jnvt', '/m/036hv', '/m/025s3q0', '/m/0kh8w', '/m/07yxk', '/m/025tn5c'], 'f7c87e3e752d31c6': ['/m/013_1c', '/m/02ljgl', '/m/06msq', '/m/0jjw', '/m/01vw0_', '/m/02q3d5'], 'f7d28694334fb112': ['/m/02l8p9', '/m/0gd3n', '/m/04rky', '/m/09686', '/m/0gd2v', '/m/0jbk', '/m/035qhg', '/m/0gd36'], 'f7ddfab6d0fd8a90': ['/m/03qtwd', '/m/0n68_', '/m/0bmgjqz'], 'f7e7a0e612ed085b': ['/m/07yv9', '/m/07bsy', '/m/01prls', '/m/05zdp'], 'f7edaa710a96cf2f': ['/m/06fvc', '/m/09j5n', '/m/06ntj'], 'f7edb625e937b2f9': ['/m/0dx1j', '/m/0cgh4', '/m/05_5t0l', '/m/01wb7', '/m/03nfmq', '/m/0180xr', '/m/02nvjx', '/m/01x314', '/m/01l7t2', '/m/0cfs8'], 'f7efe1c77c4c0367': ['/m/0j272k5', '/m/03q69', '/m/017ftj', '/m/0dzct', '/m/0jyfg', '/m/0k0pj', '/m/0h8jxfl', '/m/0ds4x', '/m/0ds5b', '/m/015h_t', '/m/0bby24z'], 'f7f83bd6894a6587': ['/m/07bsy', '/m/05zdp', '/m/03nfmq', '/m/07yv9', '/m/07jdr', '/m/02rfdq', '/m/0cb0xm'], 'f80272511c401153': ['/m/02j091', '/m/01hffk', '/m/07yv9', '/m/01prls', '/m/018p4k', '/m/06wyv', '/m/025rw19', '/m/0pgl9'], 'f803b1124df0ea41': ['/m/02zsn', '/m/03bt1vf', '/m/09j2d', '/m/01fklc', '/m/01f43', '/m/01d40f', '/m/0ltfs', '/m/0jjw', '/m/0c9ph5', '/m/032tl'], 'f80c52ae93edf11f': ['/m/01sdr', '/m/0jjw'], 'f80c88078ab30109': ['/m/0k4j', '/m/07yv9', '/m/01prls', '/m/0h8ls87', '/m/02ht342', '/m/0crtnw', '/m/0xm0m9r', '/m/021mp2', '/m/01h80k', '/m/025qfg', '/m/02swz_', '/m/012mq4'], 'f8153fd8a9cd1744': ['/m/03nfmq', '/m/0djmp', '/m/0jwzhtg', '/m/0jjw', '/m/06msq', '/m/013_1c', '/m/02nvjx', '/m/01x314', '/m/0dpvm', '/m/025rw19', '/m/08g_yr'], 'f81e5f8ff65b2a7c': ['/m/0k4j', '/m/07yv9', '/m/01prls', '/m/04_sv', '/m/025sn53', '/m/02ht342', '/m/01tkqy', '/m/02pyg'], 'f81fb234783cc34f': ['/m/0838f', '/m/06cnp', '/m/03ktm1', '/m/02l215', '/m/04h4w', '/m/093shy', '/m/03h5wy', '/m/017m8l', '/m/04p25', '/m/03218s', '/m/0184rb'], 'f8218d4db94e4368': ['/m/0838f', '/m/0220r2', '/m/086mh', '/m/090j23', '/m/017m8l', '/m/06_dn'], 'f82ff746c139cab0': ['/m/07p82rh', '/m/01g317', '/m/01k74n', '/m/0jnvp', '/m/0ytgt', '/m/01m0lg', '/m/04yx4', '/m/05zppz', '/m/06z04', '/m/04_fs', '/m/0283dt1', '/m/01bgsw', '/m/01bl7v', '/m/015c4z', '/m/0k65p'], 'f830cbfd473249f4': ['/m/09j2d', '/m/02dl1y', '/m/05r655', '/m/01fklc', '/m/0ytgt', '/m/01bgsw', '/m/0463sg', '/m/01bl7v', '/m/01d40f', '/m/0jjw', '/m/02d46y'], 'f8366ab061382c5a': ['/m/016s_l', '/m/026yq0z'], 'f8391218da25686b': ['/m/06_dn', '/m/086mh', '/m/07j7r', '/m/0866r', '/m/0754v', '/m/039jbq', '/m/0180xr', '/m/01c791', '/m/02nfxt', '/m/03vtj', '/m/033kf'], 'f840c5db1fefc906': ['/m/02wbm', '/m/02q08p0', '/m/04scj', '/m/0bp3f6m', '/m/01ykh', '/m/0dxlf'], 'f841098851c684fa': ['/m/09g5pq'], 'f844120a4808b907': ['/m/01m0lg'], 'f8457a2577bf738f': ['/m/01l56l', '/m/043rvww', '/m/09d_r', '/m/04_5sg', '/m/018vpr', '/m/01cbzq', '/m/04wxr', '/m/02jwqh', '/m/025tn5c', '/m/025s3q0', '/m/03d1rd', '/m/02mwzg'], 'f847195266a942c6': ['/m/01bqvp', '/m/013vs', '/m/080dk2h', '/m/01b2w5', '/m/0d1n2', '/m/0csby', '/m/01b3kg', '/m/01b2q6', '/m/01b3l7', '/m/01ctsf', '/m/04mx32', '/m/02_ktj'], 'f84fa98712f089e0': ['/m/01d74z', '/m/033rq4', '/m/04k84', '/m/01n32', '/m/04mx32', '/m/019sc6', '/m/02_ktj', '/m/08jpwt', '/m/01b3l7'], 'f85ec13762e5bf2a': ['/m/0215n', '/m/01kr8f'], 'f85fc62aba2d9563': ['/m/01g317', '/m/07p82rh', '/m/0jnvp', '/m/0ytgt', '/m/06xzh', '/m/01bgsw', '/m/01jwgf', '/m/01bl7v', '/m/027s69l', '/m/05c1ypb', '/m/0k65p'], 'f86639f4e11b3565': ['/m/01d74z', '/m/04k84', '/m/01kyr8', '/m/01ctry', '/m/019sc6', '/m/016nqd'], 'f86cb0baf1a7ad12': ['/m/019sc', '/m/083jv', '/m/01g6gs', '/m/0j272k5', '/m/0jyfg', '/m/04yx4', '/m/01mwkf', '/m/05zppz', '/m/03d49p1', '/m/0h8jxfl', '/m/017ftj', '/m/071j9r', '/m/01dv4h', '/m/0ds4x', '/m/01bl7v', '/m/032tl', '/m/0ds5b', '/m/0d1pc', '/m/02xh1'], 'f86d0bc1f38a7bbb': ['/m/04rky', '/m/04cmwn', '/m/09686', '/m/03fwl', '/m/0jbk', '/m/07bgp', '/m/08hhz2'], 'f870c4859c0979fc': ['/m/09g5pq'], 'f87cf374d1df26ef': ['/m/038hg', '/m/0c_jw', '/m/083vt'], 'f882ed43865c0ede': ['/m/05zsy', '/m/01d4b2', '/m/01kyr8', '/m/0jwzhtg', '/m/03lq2', '/m/0134l'], 'f891ed28a29eea57': ['/m/0c9ph5', '/m/083jv', '/m/05s2s', '/m/03bmqb', '/m/02p6k8p', '/m/01v728', '/m/0j7ty', '/m/0ggjrhd', '/m/02cqfm', '/m/016q19', '/m/02hcw1', '/m/04sjm', '/m/03rbf6', '/m/06gjp9'], 'f892013ec3a217d2': ['/m/01g6gs', '/m/0cgh4', '/m/02nvjx', '/m/01wb7', '/m/01mwkf', '/m/03d49p1', '/m/0173tc'], 'f893f06011bbbda1': ['/m/0ngt1', '/m/0866r', '/m/0jb2l', '/m/0csby', '/m/0gms8', '/m/0csh5', '/m/0z71l'], 'f8a71de2a8c56b67': ['/m/083jv', '/m/019sc', '/m/01g6gs', '/m/068jd', '/m/07bsy', '/m/06gfj', '/m/01mwkf', '/m/03d49p1', '/m/039jbq', '/m/01c8br', '/m/017kvv'], 'f8a7d902746b4261': ['/m/0cmf2', '/m/07yv9', '/m/0k5j', '/m/0fzyg', '/m/0l8fl', '/m/0vg8', '/m/01ctry', '/m/015y8h', '/m/0j_5b', '/m/053scx', '/m/07txbq', '/m/013m1'], 'f8a9da3f4c19057d': ['/m/01d74z', '/m/01kyr8', '/m/04k84', '/m/019sc6', '/m/03cg49', '/m/06z0n'], 'f8ac38381d37a48c': ['/m/03qtwd', '/m/06gfj', '/m/01c8br', '/m/09g5pq', '/m/017r8p', '/m/01n32', '/m/039jbq', '/m/0180xr', '/m/0fpdgl', '/m/026yq0z', '/m/01l7t2', '/m/07bxq', '/m/017kvv', '/m/09y4pm'], 'f8b34cd31579e395': ['/m/01g6gs', '/m/019sc', '/m/07bsy', '/m/01mwkf', '/m/03d49p1', '/m/039jbq', '/m/07yv9', '/m/01d74z', '/m/01kyr8', '/m/05zdp', '/m/016nqd', '/m/0py27', '/m/03scnj'], 'f8b9a295e75ad85e': ['/m/01g317', '/m/063km', '/m/05xjb', '/m/0db79', '/m/035y33', '/m/01b7b'], 'f8be854990bc9396': ['/m/01g317', '/m/021dfr', '/m/01h8n0', '/m/033lpr', '/m/07bx10'], 'f8c2205125d5a9c3': ['/m/01bqvp', '/m/0csby', '/m/06gfj', '/m/0d1n2', '/m/01ctry', '/m/0cz_0', '/m/02_ktj', '/m/017kvv', '/m/01b2w5', '/m/01b3l7', '/m/04mx32', '/m/01515d', '/m/06z0n', '/m/01b3kg'], 'f8c779d4a183df31': ['/m/09g5pq', '/m/01g317', '/m/03c866', '/m/04n7gmg', '/m/04yx4', '/m/0ytgt', '/m/01bgsw', '/m/02bbq', '/m/01f5gx', '/m/09dhj', '/m/0jnvp'], 'f8c8ff8a5193a384': [], 'f8c9eebbb29f95bd': ['/m/09j2d', '/m/0250x'], 'f8caa3bbf3664105': ['/m/01b4q9', '/m/09jwl', '/m/01gq53', '/m/04rlf', '/m/02jjt', '/m/01jddz', '/m/015lz1', '/m/05229'], 'f8cadc6109c49ea7': ['/m/07yv9'], 'f8d3dc3961ad3394': ['/m/01gq53', '/m/05qjc', '/m/09jwl', '/m/01jddz', '/m/06mg_j', '/m/04rlf', '/m/02jjt', '/m/01350r', '/m/04_5hy', '/m/0gbbt', '/m/039v1', '/m/081pkj', '/m/015lz1', '/m/0557q', '/m/02hnl'], 'f8dc89a78d9c47f6': ['/m/05wrt', '/m/0cgh4', '/m/03jm5', '/m/0f0q9', '/m/038t8_', '/m/01f4td', '/m/03nxtz', '/m/0cfkj', '/m/01y8xw'], 'f8dceb1556f7ffb1': ['/m/03q69', '/m/068jd', '/m/038hg', '/m/02zsn', '/m/01g317', '/m/03bt1vf', '/m/05r655', '/m/01f43', '/m/05wkw', '/m/0c9ph5', '/m/06z04', '/m/01d40f', '/m/0ds4x', '/m/08t9c_', '/m/02pd__z', '/m/014sv8', '/m/02cqfm', '/m/0d1pc', '/m/01txr2', '/m/0chml9', '/m/0ltfs', '/m/01dv4h'], 'f8dd3b0af3cc5919': ['/m/068jd', '/m/01g317', '/m/09g5pq', '/m/05wkw'], 'f8e393f9b3ee7e7b': ['/m/0jjw', '/m/04rd7', '/m/0pgl9', '/m/0djmp', '/m/02cwm'], 'f8e77509ff03ee84': ['/m/09g5pq', '/m/01g317', '/m/0ytgt', '/m/09dhj'], 'f8ed034db42e3c2f': ['/m/0b03ql', '/m/0h8lhsd'], 'f8ed09c7038f4fdd': ['/m/01gq53', '/m/06mg_j', '/m/04k84', '/m/01kyr8', '/m/01d74z', '/m/05qjc', '/m/04_5hy', '/m/01jddz', '/m/01ctry'], 'f8f0848ddafe919e': ['/m/068jd', '/m/0jg24', '/m/05qdh', '/m/015r61', '/m/0jjw', '/m/01n5jq', '/m/06z37_'], 'f8f206f3d90fbdfd': ['/m/011s0'], 'f8f45e7072f8530e': ['/m/02wbm', '/m/0270h', '/m/088fh', '/m/02qm2x', '/m/01ww8y', '/m/052lwg6', '/m/036bks', '/m/03qtd73', '/m/0dv34'], 'f9019eaa2e8669ae': ['/m/09ct_', '/m/07yv9', '/m/0k5j', '/m/0f8cd2', '/m/0fzyg', '/m/01ctry', '/m/01zbnw'], 'f903e42f86727270': ['/m/016c4t', '/m/081hv', '/m/04ztj', '/m/09qd1'], 'f905191a89b4c4b3': ['/m/013_1c', '/m/06msq', '/m/02ljgl', '/m/0jjw', '/m/02q3d5'], 'f9081a3dd869c63d': ['/m/07s6nbt', '/m/03gq5hm', '/m/011s0', '/m/01jwgf', '/m/0m9cj', '/m/02v0m2', '/m/01cd9'], 'f90d4016ac7e99e7': ['/m/07bsy', '/m/033j3c', '/m/06gfj', '/m/039jbq', '/m/0jjw', '/m/01jfm_', '/m/01c8br', '/m/011s0', '/m/07yv9', '/m/05zdp', '/m/0btp2', '/m/017r8p', '/m/06zsq', '/m/01jp76'], 'f91582071bd75bfe': ['/m/02nfxt', '/m/0n68_', '/m/06gfj', '/m/01k0mv', '/m/0180xr', '/m/0750y', '/m/0hr8', '/m/0fpdgl', '/m/0bmgjqz'], 'f9159776431279b5': ['/m/0c9ph5', '/m/05h0n', '/m/03bmqb', '/m/03rbf6', '/m/05s2s', '/m/038hg', '/m/05wkw', '/m/02cqfm', '/m/0j7ty', '/m/01bwr', '/m/09t49', '/m/01v728', '/m/016q19', '/m/0by2r', '/m/04sjm', '/m/0b5gs', '/m/03f35r', '/m/01ttd6'], 'f92627c0fd08dd0b': ['/m/0krfg', '/m/03bt1gh', '/m/0jffp'], 'f92f08e3d7483af9': ['/m/0n68_', '/m/0gl2ny2', '/m/02vzx9', '/m/019cfy', '/m/0bmgjqz', '/m/02vx4', '/m/011l78', '/m/06ntj', '/m/0404y4', '/m/018lrm', '/m/090f96'], 'f932644ab3587bb3': ['/m/0c_jw', '/m/06ht1', '/m/0jjw', '/m/083vt', '/m/04bcr3'], 'f934b4aa3ddcfc2c': ['/m/01sdr', '/m/0dzct', '/m/019sc', '/m/083jv', '/m/01g6gs', '/m/0k0pj', '/m/04yx4', '/m/05wkw', '/m/05zppz', '/m/01dv4h', '/m/01f43', '/m/03d49p1', '/m/02cqfm', '/m/01mwkf', '/m/04hgtk', '/m/06z04', '/m/014sv8', '/m/013y0j'], 'f93547315508b82c': ['/m/02pkb8', '/m/01f43', '/m/01fklc', '/m/0jyfg', '/m/01txr2', '/m/0b_fd'], 'f93a8ac2d4869d3a': ['/m/083vt', '/m/06npx'], 'f94a35b2912e5ad1': ['/m/0184rb', '/m/02mhj', '/m/0bl0l', '/m/03kj4q', '/m/01bwr', '/m/049_3v', '/m/0hrcj2p', '/m/0j6m2', '/m/0hnc1', '/m/0c9ph5', '/m/01jm2n', '/m/0196s4'], 'f94eeb6429807115': ['/m/01g317'], 'f95019bb0ec08359': ['/m/05fblh', '/m/01l56l', '/m/043rvww', '/m/06cnp', '/m/07j7r', '/m/03ktm1', '/m/02mhj', '/m/09d_r', '/m/02zr8', '/m/04_5sg', '/m/025s3q0', '/m/093shy', '/m/04wxr', '/m/07yxk'], 'f95030e3f3c71f96': ['/m/07yv9', '/m/01prls', '/m/0j_s4', '/m/07bsy', '/m/07kfm', '/m/033j3c', '/m/05zdp', '/m/01bjv', '/m/02nfxt'], 'f952ae47047218e5': ['/m/05fblh', '/m/07j7r', '/m/02py09', '/m/0hnc1', '/m/042g2h', '/m/023bbt', '/m/02zr8', '/m/02mhj', '/m/05mk1s', '/m/01cv98', '/m/0d8cn', '/m/0hm03', '/m/02hnx9', '/m/01cv4r', '/m/0pvlz', '/m/01y3fy', '/m/01jb4'], 'f95bfb95bd60b28d': ['/m/07j7r', '/m/01bwr', '/m/0bl0l', '/m/0184rb', '/m/0hrcj2p', '/m/089v3', '/m/01y3fy'], 'f966c122f83f18b3': ['/m/01l56l', '/m/043rvww', '/m/02309j', '/m/01r8w', '/m/036hv', '/m/03k5cs'], 'f97176a4082b5f06': ['/m/07j7r', '/m/0jjw', '/m/09t49', '/m/0c9ph5', '/m/0134l'], 'f9805abe12c92786': ['/m/05hg54', '/m/0cgh4', '/m/01klb9', '/m/03nfmq', '/m/0vlys', '/m/01x314', '/m/02nfxt', '/m/037rzs', '/m/01l7t2', '/m/023907r'], 'f980f92d01f79aee': ['/m/0dkw5', '/m/0pgl9', '/m/0fzyg', '/m/014yck', '/m/07yv9', '/m/09cmq'], 'f9832e2a4f20d750': ['/m/04wxr', '/m/01l56l', '/m/09d_r', '/m/023bbt', '/m/0355cw', '/m/07yxk', '/m/019tzd', '/m/0lcd', '/m/020wcz', '/m/0h_m', '/m/03hfn0', '/m/06ntj', '/m/02pyg', '/m/083mg', '/m/012v4j', '/m/0hm03'], 'f98438440f6f1eb7': ['/m/03cjrt', '/m/09d_r', '/m/043rvww', '/m/01l56l', '/m/023bbt', '/m/04wxr', '/m/02mhj', '/m/01c7cq', '/m/04_5sg', '/m/0355cw', '/m/0280nh', '/m/025st_8', '/m/07yxk', '/m/02mwzg', '/m/025s3q0', '/m/01f4td'], 'f98ad2b3b192a4e0': ['/m/01bqvp', '/m/09d_r', '/m/06gfj', '/m/07pw27b', '/m/06_dn', '/m/0d1n2', '/m/0866r', '/m/0cz_0', '/m/0cnfpz', '/m/0csby', '/m/086mh', '/m/04_5sg', '/m/02_ktj', '/m/04wxr', '/m/01b3l7', '/m/01b3kg', '/m/04mx32', '/m/017kvv', '/m/025s3q0'], 'f9941acdbe686b23': ['/m/07yv9', '/m/019jd', '/m/01g5v', '/m/0hsrw', '/m/01rzcn', '/m/03psdn'], 'f9993b516f67c91c': ['/m/03q69', '/m/0dzct', '/m/0ds4x', '/m/04hgtk', '/m/016c68'], 'f99e8b3f0a323eb3': ['/m/0k4j', '/m/07yv9', '/m/01prls', '/m/012f08', '/m/025qfg', '/m/028c4_', '/m/01xq49', '/m/068mqj', '/m/083wq', '/m/01lcwm', '/m/02ht342', '/m/03y_qy', '/m/037n8x'], 'f9b3518022f86628': ['/m/0jjw', '/m/0hwky', '/m/0gmk4', '/m/0dnr7', '/m/0d4cc', '/m/0lym8'], 'f9b55ac593c227d3': ['/m/050k8', '/m/020fsy', '/m/02mf1n', '/m/02mrp', '/m/01jwgf', '/m/07c1v', '/m/0glmwd6', '/m/0bs7_0t', '/m/0k65p'], 'f9b6edefa2a5fe57': ['/m/09jwl', '/m/04rlf', '/m/015lz1'], 'f9cdccfc2a2cd5fc': ['/m/01bqvp', '/m/06gfj', '/m/05sm1', '/m/0d1n2', '/m/01c7cq', '/m/0cz_0', '/m/0csby', '/m/0hkvx', '/m/04_5sg', '/m/0brn2d', '/m/0hr8', '/m/0cnfpz', '/m/01f4td', '/m/017kvv', '/m/025s3q0', '/m/0f45l', '/m/02mwzg'], 'f9d0d1fd84d67d24': [], 'f9d77e1ea0253722': ['/m/02wbm', '/m/02q08p0', '/m/0hr1s_w', '/m/01z1m1x', '/m/01ykh', '/m/0krfg', '/m/01r1z5', '/m/08d_8c', '/m/0mfnf', '/m/027rch'], 'f9d9885867a07f85': ['/m/01gq53', '/m/01b4q9', '/m/09jwl', '/m/04rlf', '/m/01jddz', '/m/02jjt', '/m/05qjc', '/m/01350r', '/m/04_5hy', '/m/02hnl', '/m/09lbv', '/m/015lz1', '/m/05229'], 'f9dea7046eb26fa6': ['/m/09jwl', '/m/026t6', '/m/04szw', '/m/0l14md', '/m/011_dp', '/m/02p1xh', '/m/01w1x1', '/m/05229', '/m/032km', '/m/02hnl', '/m/0hr5k', '/m/09lbv'], 'f9e0e8f2f6eab567': ['/m/09j2d', '/m/0jg24', '/m/0b3yr', '/m/02jwqh', '/m/01g8j'], 'f9e34f336ea76ee9': ['/m/02wbm', '/m/0270h', '/m/0271t', '/m/09702', '/m/02vqfm', '/m/0ctfk', '/m/02q08p0'], 'f9e9d23ed4f24f6d': ['/m/05wrt', '/m/02nfxt', '/m/03jm5', '/m/01l0mw', '/m/0750y'], 'f9f28a8fde5ede2f': ['/m/03gfsp'], 'f9f2c619de15ff6b': ['/m/05wrt', '/m/02hcw1', '/m/0c9ph5', '/m/0lf0n'], 'f9f5e9072a4dee88': ['/m/0290t8', '/m/01n32', '/m/01lqfm', '/m/01h_1n', '/m/0fpdgl', '/m/0h8jmzl', '/m/06wtgq', '/m/06ntj', '/m/0wgq8gt', '/m/0wfrc8w'], 'fa02e36b2fafe4d6': ['/m/050vn', '/m/01sfb5', '/m/01540', '/m/01jypq', '/m/0l_br', '/m/0ctsx', '/m/03hl4l9', '/m/03xxp'], 'fa0f1cc4f8f49ccb': ['/m/0hwky', '/m/0jjw', '/m/02rfdq', '/m/02cwm', '/m/0dnr7', '/m/031bff', '/m/016nqd', '/m/0413y3'], 'fa0fd6ae05821ace': ['/m/05qjc', '/m/01350r', '/m/03qsdpk', '/m/02jjt', '/m/0557q', '/m/04_5hy'], 'fa176c10ff1eb177': ['/m/09jwl', '/m/081pkj', '/m/016s_l', '/m/02p1xh', '/m/0hr5k'], 'fa17f7a31e0072a4': ['/m/0d4v4', '/m/011s0', '/m/0jjw', '/m/01n5jq', '/m/04rd7', '/m/06z37_'], 'fa18279d452ef63e': ['/m/01jfm_', '/m/0h8ls87', '/m/06zsq'], 'fa1de09928e810f6': ['/m/07p82rh', '/m/04n7gmg', '/m/01g317', '/m/09g5pq', '/m/021dfr', '/m/0ldpy', '/m/016c68'], 'fa214ca8f2e242b5': ['/m/02ntc1', '/m/0jm_', '/m/0n68_', '/m/06ntj', '/m/011l78', '/m/02vx4', '/m/020m7t', '/m/02wg8', '/m/0bmgjqz'], 'fa2155951ab78027': ['/m/09g5pq', '/m/07bxq'], 'fa26aedf4b4b0c08': ['/m/01sdr', '/m/06fvc', '/m/01x314', '/m/0d4v4', '/m/02dgv', '/m/02rfdq', '/m/031bff'], 'fa285c31a8abf9cd': ['/m/068k4', '/m/039l3v', '/m/07bx10', '/m/01gs6f', '/m/031hrg', '/m/09x0r', '/m/033lpr'], 'fa2960544362857d': ['/m/06npx', '/m/07bxq', '/m/01fdzj', '/m/02jwqh', '/m/07yv9', '/m/017m8l'], 'fa2b9c8b383b2529': ['/m/06ht1', '/m/05wrt', '/m/0l7_8', '/m/02rfdq', '/m/03wb2z', '/m/03d2wd', '/m/03f6tq', '/m/03nxtz'], 'fa2e4c24170ba310': ['/m/06npx', '/m/07pw27b', '/m/0csby', '/m/0d1n2', '/m/0866r', '/m/02fm9k', '/m/05kq4', '/m/034srq', '/m/02p0sll', '/m/01ctry', '/m/01lxd', '/m/02_ktj', '/m/0b3yr', '/m/07yv9', '/m/01b3kg', '/m/01b2q6', '/m/01b3l7', '/m/01b2w5', '/m/03m9d0z'], 'fa2f9a3abc24db9e': ['/m/01n32', '/m/05_5t0l', '/m/039jbq', '/m/0204fg', '/m/0fpdgl', '/m/02nfxt', '/m/03nfmq', '/m/034z7h', '/m/015kr', '/m/01jm2n'], 'fa31edf2a681169f': ['/m/01g6gs', '/m/083jv', '/m/06npx', '/m/02fm9k', '/m/03d49p1', '/m/0838f', '/m/01mwkf', '/m/01lxd', '/m/01cbzq', '/m/04h4w', '/m/05kq4', '/m/04ggh49'], 'fa3737b6dbc8dc9b': ['/m/01llwg', '/m/0404d', '/m/0463sg', '/m/015m2', '/m/01krjr', '/m/0jjw'], 'fa378aa9b54f4c77': ['/m/07bx10', '/m/09cynt', '/m/01h6cb', '/m/033lpr'], 'fa43bac4ad9cb2bb': ['/m/03qtwd', '/m/026yq0z'], 'fa468c49cf3640d6': ['/m/05fblh', '/m/07j7r', '/m/0hnc1', '/m/042g2h', '/m/02py09', '/m/02zr8', '/m/023bbt', '/m/02mhj', '/m/03ljvf', '/m/05s2s', '/m/01cv98', '/m/01cv4r', '/m/02hnx9', '/m/0d8cn', '/m/02tcwp', '/m/0hlzt', '/m/01jb4'], 'fa46ea35f0579de4': ['/m/03tw93', '/m/06ht1', '/m/09qqq', '/m/06z37_', '/m/01224j', '/m/0d4v4', '/m/02rfdq', '/m/01w_gm'], 'fa4879b0f94ddc54': ['/m/01gd91', '/m/03vcw7', '/m/0jzz1', '/m/04rky', '/m/01xq0k1', '/m/03hh2k', '/m/0cnyhnx', '/m/035qhg', '/m/0jbk', '/m/01c7cq', '/m/08t9c_', '/m/025st_8', '/m/0brn2d', '/m/01qkg', '/m/0dcyp', '/m/0g8p9'], 'fa4a0fda3d6d252a': ['/m/01sdr', '/m/03q69', '/m/0j272k5', '/m/0dzct', '/m/017ftj', '/m/0jyfg', '/m/0k0pj', '/m/01g317', '/m/0h8jxfl', '/m/04yx4', '/m/0ds5b', '/m/02cqfm', '/m/019nj4', '/m/04hgtk', '/m/0ds4x', '/m/06z04', '/m/01dv4h', '/m/013y0j', '/m/014sv8', '/m/015h_t'], 'fa4d6dbf8e72dbb1': ['/m/0b44zl', '/m/04_fs', '/m/01zbnw', '/m/06msq', '/m/013_1c'], 'fa503aa38fed27f9': ['/m/07s6nbt', '/m/0gkxy13', '/m/081rb', '/m/03gq5hm', '/m/015bv3'], 'fa552bc5880641c3': ['/m/01g317'], 'fa5ea696a76543c9': ['/m/06z37_'], 'fa615bb5d3782483': ['/m/039jbq', '/m/0dx1j', '/m/01n32', '/m/0180xr', '/m/09qqq', '/m/0fpdgl', '/m/02nfxt', '/m/01c8br', '/m/01l7t2'], 'fa638b8e554dd1f2': ['/m/01n5jq', '/m/067408'], 'fa6713bc80a25a06': ['/m/09g5pq', '/m/03bt1vf', '/m/01f43', '/m/01d40f', '/m/016c4t', '/m/0754v', '/m/02jwqh'], 'fa69358453be913c': ['/m/019jd', '/m/07yv9', '/m/01fpmd', '/m/0838f', '/m/06npx', '/m/06q74', '/m/01rzcn', '/m/017m8l', '/m/02q13x7', '/m/02rlv9', '/m/03htg', '/m/01lxd'], 'fa6a03455785917c': ['/m/09qqq', '/m/031bff', '/m/018y_6'], 'fa6d1ea917210640': ['/m/0jjw', '/m/0bkqqh'], 'fa6f44cb4fd4b271': ['/m/09j2d', '/m/016c68', '/m/0250x'], 'fa731a215270dd64': ['/m/0hr8', '/m/07yv9'], 'fa7398626e0a99b5': ['/m/05_5t0l', '/m/0cgh4', '/m/0dx1j', '/m/03nfmq', '/m/0180xr', '/m/039jbq', '/m/01x314', '/m/03jm5', '/m/01l7t2'], 'fa86d273a646d769': ['/m/06gfj', '/m/03jm5', '/m/0dx1j', '/m/0180xr', '/m/039jbq', '/m/01n32', '/m/03nfmq', '/m/01c8br', '/m/09qqq', '/m/0fpdgl', '/m/01x314', '/m/02nfxt', '/m/01l7t2', '/m/01748f', '/m/017kvv', '/m/0d4v4'], 'fa89fdf853debb5a': ['/m/05fblh', '/m/0hnc1', '/m/02py09', '/m/07j7r', '/m/023bbt', '/m/02zr8', '/m/02mhj', '/m/042g2h', '/m/01cv98', '/m/0hm03', '/m/01cv4r', '/m/01jb4', '/m/0d8cn', '/m/01y3fy'], 'fa8f3e9faa700ccb': ['/m/0k4j', '/m/07yv9', '/m/01prls', '/m/09248h', '/m/02kmmg', '/m/068mqj', '/m/01lcwm', '/m/025qfg', '/m/092468', '/m/02ht342', '/m/012mq4', '/m/01xq49'], 'fa9193da05fa4015': ['/m/09g5pq', '/m/0jffp', '/m/0krfg', '/m/03ft6m', '/m/0jfd5', '/m/016c4t', '/m/06l8d', '/m/0hyyb', '/m/0b_fd', '/m/05_4_', '/m/09qd1'], 'fa938353b8db0e41': ['/m/0k4j', '/m/07yv9', '/m/01prls', '/m/012mq4', '/m/02nbfq4', '/m/0h8ls87', '/m/02ht342', '/m/083wq', '/m/021mp2', '/m/02mnkq'], 'fa968ba7833d75d8': ['/m/07j7r', '/m/02mhj', '/m/05s2s', '/m/01bwr', '/m/02zr8', '/m/0c9ph5', '/m/02hnx9', '/m/0bl0l', '/m/0hnc1', '/m/01y3fy', '/m/0d8cn'], 'fa97f0d965f7cd0e': [], 'fa9f183e57f1d143': ['/m/01b4q9', '/m/09jwl', '/m/021dfr', '/m/04rlf', '/m/09cynt', '/m/05229', '/m/05pd6'], 'faabf3608bddd52f': ['/m/01sdr', '/m/06ht1', '/m/0jjw', '/m/0dnr7', '/m/02cwm', '/m/0hwky', '/m/01l0y0'], 'fabc7d748f0d5828': ['/m/02wbm', '/m/02q08p0', '/m/01ykh', '/m/0hz4q', '/m/0krfg', '/m/0hr1s_w', '/m/01r1z5'], 'fabd56048f5d4289': ['/m/068jd', '/m/04yx4', '/m/01h8n0', '/m/09x0r', '/m/0b_fd'], 'fabe2a3a95820491': ['/m/05_5t0l', '/m/01klb9', '/m/01n32', '/m/0dx1j', '/m/01wkk9', '/m/039jbq', '/m/0fpdgl', '/m/03nfmq', '/m/01l7t2', '/m/034z7h', '/m/056mk', '/m/01fdzj', '/m/07bxq', '/m/02jwqh', '/m/01x314', '/m/0cfs8'], 'fac15d69487cfdda': ['/m/03nfmq', '/m/03jm5', '/m/0jjw', '/m/01l0mw', '/m/02rfdq'], 'faca0ed6059a2691': ['/m/01g317', '/m/01bq8v', '/m/099md', '/m/01h6rj', '/m/01pbjy', '/m/055sg', '/m/012qdp', '/m/0pd7', '/m/063km'], 'faccb2d532e3134b': ['/m/01b4q9', '/m/09g5pq', '/m/03qtwd', '/m/01c8br'], 'facf59ea75e2174a': ['/m/09g5pq', '/m/01bq8v'], 'facf9ab98d507185': ['/m/01gq53', '/m/01jddz', '/m/04rlf', '/m/039v1', '/m/09jwl'], 'fad15a5365480081': ['/m/0n68_', '/m/01c7cq', '/m/05sm1', '/m/01gd91', '/m/07j7r', '/m/0brn2d', '/m/04_5sg', '/m/08t9c_', '/m/0bmgjqz', '/m/0hkvx', '/m/02vk5tw', '/m/025st_8', '/m/01f4td', '/m/03gzqq', '/m/01v327', '/m/025s3q0', '/m/038t8_', '/m/02mwzg'], 'fad3bc4f21f428a4': ['/m/01b4q9', '/m/01gq53', '/m/05qjc', '/m/04rlf', '/m/02jjt', '/m/01350r', '/m/09jwl', '/m/015lz1', '/m/0557q', '/m/01jddz', '/m/04_5hy'], 'fad62600371c668f': ['/m/09j2d', '/m/0jjw', '/m/01d40f'], 'fadef24d9c25e6c8': ['/m/0bmgjqz', '/m/011s0', '/m/019cfy', '/m/017kvv'], 'fae57f3dfd1b3a24': ['/m/01g5v', '/m/083s2'], 'faecc87a7c1b820c': ['/m/0f1mq', '/m/05h0n', '/m/0ft9s', '/m/0h9h0', '/m/038hg', '/m/03vt0', '/m/03rbf6', '/m/0jbk', '/m/02cqfm', '/m/05wkw', '/m/035qhg', '/m/03xxp', '/m/0b5gs', '/m/09t49', '/m/01ttd6'], 'faf25ee92d172d10': ['/m/03tmr', '/m/03mr6', '/m/026qs53', '/m/06ntj', '/m/020m7t', '/m/0wgys6n', '/m/029g_9y', '/m/03x045', '/m/02qvl7', '/m/052fxs', '/m/01f6l', '/m/02vzx9'], 'faf4b27030f8857e': ['/m/03qtwd', '/m/09g5pq', '/m/026yq0z', '/m/01nd_n', '/m/02jfc'], 'faf69e36bf948e74': ['/m/06_dn', '/m/086mh', '/m/0866r', '/m/0csby', '/m/01ctry', '/m/09d_r', '/m/02pyg'], 'faffc9d68b389ce4': ['/m/01sdr', '/m/088fh', '/m/06ht1', '/m/09qqq', '/m/05qdh', '/m/0l7_8', '/m/03jm5', '/m/0jjw', '/m/0c_jw', '/m/04rd7', '/m/01l0mw', '/m/083vt', '/m/02rfdq', '/m/01c34b'], 'fb008a1c172de471': ['/m/08t9c_', '/m/06ntj', '/m/01ctry', '/m/0bmgjqz', '/m/019cfy'], 'fb04fdf82bd2f1cc': ['/m/01qls', '/m/0bpxlzj', '/m/06d4_'], 'fb09732c086ec117': ['/m/03vd46', '/m/0jzz1', '/m/01xq0k1', '/m/07yv9'], 'fb0a686d354f5212': ['/m/03qtwd', '/m/0jg24', '/m/09g5pq', '/m/0n68_', '/m/01gq53', '/m/0bmgjqz', '/m/04_5hy', '/m/033lpr', '/m/04mx32', '/m/019cfy'], 'fb0ffe109e24b938': ['/m/07vwy6', '/m/04rd7', '/m/0jjw', '/m/09qqq', '/m/039jbq', '/m/034wh', '/m/01c8br', '/m/011s0'], 'fb1099f2bd56849b': [], 'fb13c72cc8936b37': ['/m/09j2d', '/m/01g5v', '/m/09kxp', '/m/04f62z', '/m/0jjw', '/m/047vlmn', '/m/0463sg', '/m/0hwky', '/m/0dnr7', '/m/02cwm'], 'fb204bb37e9e7d13': ['/m/0dpvm', '/m/03nfmq', '/m/05_5t0l', '/m/0cgh4', '/m/01sqnx', '/m/016br2', '/m/0jjw', '/m/05zp8', '/m/01x314', '/m/0djmp', '/m/02nvjx'], 'fb3002b477f214f3': ['/m/04ndr', '/m/0138tl'], 'fb34aa7292920d36': ['/m/01d74z', '/m/06gfj', '/m/04k84', '/m/033j3c', '/m/04mx32', '/m/0btp2', '/m/01kyr8', '/m/0cz_0', '/m/019sc6', '/m/017kvv', '/m/01b3l7', '/m/034z7h'], 'fb36e242ea882a05': ['/m/06gfj', '/m/07sn5gn', '/m/06cnp', '/m/01f4td', '/m/017m8l', '/m/017kvv'], 'fb37933bb4ec95b6': ['/m/0n68_', '/m/0jjw', '/m/02q3d5', '/m/02ljgl'], 'fb4168e4e544f504': ['/m/01sdr', '/m/0jg24', '/m/01d74z', '/m/01kyr8', '/m/01zbnw'], 'fb595d8d8bd1a49e': ['/m/06ntj', '/m/06bqd', '/m/0gl2ny2', '/m/020m7t', '/m/02wg8', '/m/03x045', '/m/011l78', '/m/06f3l', '/m/02vzx9', '/m/06br8', '/m/02vx4', '/m/02k5b8', '/m/0z74'], 'fb5bcc6729ed2e87': ['/m/05fblh', '/m/05h0n', '/m/09d_r', '/m/043rvww', '/m/01l56l', '/m/04wxr', '/m/07j7r', '/m/023bbt', '/m/01gd91', '/m/01c7cq', '/m/04_5sg', '/m/025st_8', '/m/08t9c_', '/m/0csby', '/m/0355cw', '/m/01f4td', '/m/0lcd', '/m/02zr8', '/m/025s3q0', '/m/020wcz', '/m/07yxk', '/m/02mwzg'], 'fb5f6c1b20e157c2': ['/m/05wrt', '/m/03jm5', '/m/01l0mw', '/m/09qqq', '/m/0hrcj2p', '/m/0lf0n', '/m/083vt', '/m/01n6fd', '/m/0h8lhsd', '/m/049_3v', '/m/038t8_', '/m/02rfdq', '/m/03nxtz', '/m/01x314'], 'fb65a0b97b6d8872': ['/m/07bsy', '/m/07jdr', '/m/07yv9', '/m/025s53m', '/m/06d_3', '/m/01vk9q', '/m/04h5c', '/m/02nfxt'], 'fb66ef8c8451d2be': ['/m/0gd3n', '/m/04rky', '/m/09686', '/m/050vn', '/m/0jbk', '/m/0gd2v', '/m/0gd36', '/m/02l8p9', '/m/0k0pj', '/m/01l7qd', '/m/084tp'], 'fb697e0b16757985': ['/m/03jm5', '/m/039jbq', '/m/0dx1j', '/m/09qqq', '/m/0fpdgl', '/m/03nfmq', '/m/0djmp', '/m/03d1rd'], 'fb6ed71c10dc39f2': ['/m/0vllx', '/m/03jm5', '/m/0cgh4', '/m/01f4td', '/m/0g8p9', '/m/083vt', '/m/01l0mw', '/m/08yp1s', '/m/080sjd', '/m/0hkvx', '/m/03nxtz', '/m/05y1k_'], 'fb739767952f5316': ['/m/05fblh', '/m/023bbt', '/m/043rvww', '/m/02py09', '/m/04p25', '/m/04h4w', '/m/0pvlz', '/m/093shy', '/m/025s3q0', '/m/02mwzg', '/m/09d_r', '/m/036hv', '/m/07yxk'], 'fb74147d8f421128': ['/m/01lb5', '/m/0b42l9', '/m/015ll', '/m/03bt1gh', '/m/06ntj', '/m/06bm2', '/m/06wtgq', '/m/03jj52'], 'fb779eb31339f9ec': ['/m/02jfc'], 'fb787ee25d83edab': ['/m/038hg', '/m/016nqd'], 'fb919652e12ee2d9': ['/m/0n68_', '/m/02vzx9', '/m/0gl2ny2', '/m/019cfy', '/m/0bmgjqz', '/m/02vx4', '/m/0404y4', '/m/011l78', '/m/01hrk6', '/m/06ntj', '/m/090f96', '/m/0dpm1v', '/m/018lrm'], 'fb96bf0880878c3b': ['/m/0dzf4', '/m/03c0bxg', '/m/0k65p', '/m/0b_fd'], 'fba34ce7b1f47d2b': ['/m/01gq53', '/m/01jddz', '/m/09jwl', '/m/04rlf', '/m/02jjt', '/m/04_5hy', '/m/05qjc', '/m/039v1', '/m/0gbbt', '/m/09lbv'], 'fba40923068fae88': ['/m/01yrx', '/m/068hy', '/m/04rky', '/m/0jbk', '/m/09686', '/m/0307l', '/m/01l7qd', '/m/07k6w8', '/m/0cb37', '/m/0hjzp', '/m/012c9l'], 'fbaec6e4d14be3c1': ['/m/01ctry', '/m/02q3d5'], 'fbaf4662d76b0d15': ['/m/07bsy', '/m/01vk9q', '/m/07yv9'], 'fbb23fed241f3a5b': ['/m/02gx17', '/m/07yv9', '/m/01jnzj', '/m/03rnh', '/m/01v50j'], 'fbb2b44c3ab7d927': ['/m/09j5n', '/m/06rrc', '/m/02r456g', '/m/04lbp', '/m/01s56h', '/m/09q2t', '/m/0dnr7', '/m/0hgrj75'], 'fbb369548e37ff5b': ['/m/01bjxx', '/m/019sc', '/m/01g6gs', '/m/0ggjh_8', '/m/0dv5r', '/m/05wkw', '/m/07bjf', '/m/01mwkf', '/m/03d49p1', '/m/0118ms9c'], 'fbb51d21911cca1c': ['/m/02phwj2', '/m/01d74z', '/m/0jjw'], 'fbb6d62134c7c426': ['/m/01g317', '/m/0ds4x', '/m/04zx3q1'], 'fbb8881175f33ae3': ['/m/033lpr', '/m/04_5hy', '/m/0557q', '/m/07bx10', '/m/015lz1'], 'fbba0c313be3997f': ['/m/09j2d', '/m/0250x'], 'fbc1a3c07e9ebbc0': ['/m/07yv9', '/m/06npx', '/m/019jd', '/m/05kq4'], 'fbc53c5d23090417': ['/m/06gfj', '/m/01g6gs', '/m/083jv', '/m/019sc', '/m/068jd', '/m/01c8br', '/m/0jg24', '/m/06pg22', '/m/05wkw', '/m/01mwkf', '/m/03d49p1', '/m/039jbq', '/m/017kvv', '/m/016nqd'], 'fbc6b2c8100e493c': ['/m/02wbm', '/m/04y7xr', '/m/0krfg', '/m/02wv6th', '/m/07qn8g', '/m/0b_fd', '/m/01qkbx'], 'fbd9253e73544697': ['/m/01bqvp', '/m/06fvc', '/m/01g5v', '/m/01ctry', '/m/0c9ph5', '/m/0ch_b9', '/m/0138tl', '/m/02pyg'], 'fbd961df95bd6d89': ['/m/08b4k2', '/m/05s2s', '/m/02wbm', '/m/016rbg', '/m/036qh8', '/m/01v728', '/m/025s89', '/m/04sjm', '/m/02g387', '/m/01wdp', '/m/018xm', '/m/0kpt_'], 'fbe5822e5560a022': ['/m/07p82rh', '/m/01g317', '/m/06ntj', '/m/06h7j', '/m/0hm03', '/m/01syxg', '/m/02ngb1', '/m/05b0n7k', '/m/083mg', '/m/06bm2', '/m/019w6h'], 'fbe7c7de1d719cff': ['/m/011s0', '/m/0bmgjqz', '/m/0bkqqh', '/m/0m9cj'], 'fbfd3dadd908c143': ['/m/05wrt', '/m/07bsy', '/m/09qqq', '/m/07yv9', '/m/01748f', '/m/0d4v4', '/m/02rfdq'], 'fc03f7e27460888b': ['/m/019sc', '/m/083jv', '/m/06gfj', '/m/01g6gs', '/m/01lwf0', '/m/03jm5', '/m/01c8br', '/m/01mwkf', '/m/04k84', '/m/039jbq', '/m/09qqq', '/m/01kyr8', '/m/03nfmq', '/m/03d49p1', '/m/019sc6', '/m/017kvv', '/m/016nqd', '/m/01x314'], 'fc096a38b4140108': ['/m/01k74n', '/m/0dzct', '/m/019sc', '/m/083jv', '/m/01g317', '/m/01g6gs', '/m/02zsn', '/m/0k0pj', '/m/05wkw', '/m/05r655', '/m/014sv8', '/m/01f43', '/m/02cqfm', '/m/01dv4h', '/m/03d49p1', '/m/019nj4', '/m/0ytgt', '/m/01mwkf', '/m/06z04', '/m/04hgtk', '/m/0chml9', '/m/013y0j', '/m/0d1pc', '/m/02tjx', '/m/0294jb'], 'fc157e7a1e033dbe': ['/m/02wbm'], 'fc1694b1fe3d75ad': ['/m/02l215', '/m/05h0n', '/m/07pw27b', '/m/04h4w', '/m/0838f', '/m/01b2w5', '/m/03ktm1', '/m/06cnp', '/m/01b3kg', '/m/02_ktj', '/m/01b2q6', '/m/0csby', '/m/04mx32', '/m/01b3l7', '/m/019jd', '/m/06npx', '/m/02fm9k'], 'fc200bfdca25cb71': ['/m/0d_2m', '/m/0hlhl', '/m/03vt0', '/m/0jbk', '/m/035qhg', '/m/03xxp', '/m/09t49', '/m/02cqfm', '/m/03rbf6', '/m/0ql23', '/m/0cyf8'], 'fc2c574dd72e3738': ['/m/07bsy', '/m/01jfkf', '/m/07yv9', '/m/0hr8', '/m/02gx17'], 'fc2d35b3fc283944': ['/m/03c79', '/m/0jjw'], 'fc309ca5e673474e': ['/m/0n68_', '/m/015kr', '/m/0bmgjqz', '/m/0157l1', '/m/02l215', '/m/07yv9', '/m/019cfy', '/m/03psdn', '/m/03218s'], 'fc3142e8c4e7c28e': ['/m/0jg24', '/m/01m0lg', '/m/06pg22', '/m/01350r', '/m/01d40f', '/m/032tl'], 'fc34f127139fa988': ['/m/0b03ql', '/m/06hyd', '/m/0py27', '/m/0h8lhsd'], 'fc37dc8efa3bb4f8': ['/m/0dzct', '/m/03q69', '/m/0k0pj', '/m/01g317', '/m/0f9swq', '/m/04yx4', '/m/04hgtk', '/m/06z04', '/m/0283dt1', '/m/016c68', '/m/0ds5b', '/m/0ds4x', '/m/0dzf4', '/m/09cx8', '/m/0k65p', '/m/0b_fd'], 'fc399f6c4253238f': ['/m/06ht1', '/m/04k84', '/m/0c_jw', '/m/019sc6', '/m/04bcr3', '/m/083vt', '/m/01y9k5', '/m/02cwm', '/m/02rfdq'], 'fc46fb4b4fa7620a': ['/m/01bqvp', '/m/07j7r', '/m/0866r', '/m/0lhr', '/m/04mx32', '/m/01b3l7'], 'fc4962b753eb6729': ['/m/07bsy', '/m/01n32', '/m/0dx1j', '/m/039jbq', '/m/0180xr', '/m/0fpdgl', '/m/07yv9', '/m/01c8br', '/m/01l7t2', '/m/017kvv'], 'fc4a0dd7f345ed9d': ['/m/01jwgf', '/m/01540', '/m/0dkw5'], 'fc4ed412ae694f6f': ['/m/02wbm', '/m/0270h', '/m/0fszt', '/m/026pc7x', '/m/0b6w2z', '/m/02czv8', '/m/02r_57s', '/m/052lwg6', '/m/02qm2x'], 'fc522231c4e09e45': ['/m/06ht1', '/m/04bcr3', '/m/0krfg', '/m/0c_jw', '/m/03f6tq'], 'fc55174bf9239a07': ['/m/05wrt', '/m/0cgh4', '/m/03jm5', '/m/01l0mw', '/m/038t8_', '/m/023907r', '/m/03nxtz', '/m/01y8xw', '/m/0h8lhsd', '/m/04m6gz'], 'fc553a5019bfdd94': ['/m/025nd', '/m/01vq3', '/m/05fc9mj'], 'fc6711f1a902d8bf': ['/m/0b3yr', '/m/0d1n2', '/m/06npx', '/m/01b2w5', '/m/05kq4', '/m/02fm9k', '/m/01b2q6', '/m/01lxd', '/m/0csby', '/m/01b3kg', '/m/02_ktj', '/m/01b3l7', '/m/04mx32', '/m/013vs', '/m/02p0sll', '/m/034srq', '/m/099fz'], 'fc6719dc074538ec': ['/m/06wtgq'], 'fc6756124100dc11': ['/m/09j2d', '/m/02pkb8', '/m/032tl', '/m/0jjw', '/m/01txr2', '/m/01gl_m'], 'fc6a9d557eabfab1': ['/m/09j2d', '/m/01d40f', '/m/0490jd'], 'fc71842924f0932d': ['/m/039jbq', '/m/01c8br', '/m/01x314', '/m/0d4v4'], 'fc7292c4706de2c8': ['/m/09j2d', '/m/0250x', '/m/09ggk'], 'fc7fd74fce7d4b89': ['/m/07s6nbt', '/m/01n5jq', '/m/067408'], 'fc8306c41fae4ba5': ['/m/01sdr', '/m/0jjw'], 'fc8749592711faf7': ['/m/09j2d', '/m/09q2t', '/m/01rkbr', '/m/0463sg', '/m/0dzf4', '/m/04mkbj', '/m/0k65p', '/m/0dnr7', '/m/04pzb_', '/m/04lbp', '/m/09ggk'], 'fc8c31b3aab29a86': ['/m/035qhg', '/m/07j7r', '/m/015p6', '/m/01280g', '/m/0b5gs'], 'fc8ce020fe1488cf': ['/m/0grl_', '/m/0cgh4', '/m/038t8_', '/m/0sy84', '/m/017m8l', '/m/026gg32', '/m/05zp8', '/m/01pvk', '/m/07bxq', '/m/02pvbb', '/m/039_j3'], 'fc903a11cbe3d12d': ['/m/0jg24', '/m/029zz6', '/m/0bkqqh'], 'fc998c67e54e1cf5': ['/m/03q69', '/m/01k74n', '/m/0dzct', '/m/01g317', '/m/02zsn', '/m/0k0pj', '/m/03bt1vf', '/m/0294jb', '/m/05r655', '/m/02pkb8', '/m/019nj4', '/m/01f43', '/m/0ds4x', '/m/02cqfm', '/m/02ksmb', '/m/0ldpy', '/m/06z04', '/m/04hgtk', '/m/02pd__z', '/m/01dv4h', '/m/014sv8', '/m/02tjx', '/m/0chml9'], 'fc99ea2ad847c9ca': ['/m/0c9ph5', '/m/05s2s', '/m/03bmqb', '/m/01bwr', '/m/01v728', '/m/04sjm', '/m/016q19', '/m/02hcw1', '/m/0j7ty', '/m/01ymmt'], 'fc9f1b4d771fca89': ['/m/0215j4', '/m/0dkw5', '/m/07bjf', '/m/03r8gp', '/m/0dgd_', '/m/0118ms9c'], 'fc9fc4b28b77de30': ['/m/0ch75fj', '/m/025rw19'], 'fca0988e851ec28e': ['/m/07bsy', '/m/0n68_', '/m/0cgh4', '/m/05zdp', '/m/0bmgjqz', '/m/07yv9', '/m/07jdr', '/m/019cfy'], 'fca27c4f6bbd22ac': ['/m/0k4j', '/m/07yv9', '/m/04_sv', '/m/01prls', '/m/025sn53', '/m/02ht342'], 'fca315c7eee0f2fa': ['/m/01sdr', '/m/01g5v', '/m/038hg', '/m/0n68_', '/m/03nfmq', '/m/04k84', '/m/079cl', '/m/0k2n5', '/m/01x314', '/m/02cwm', '/m/02l215', '/m/019sc6', '/m/016nqd', '/m/0f28m', '/m/02rfdq', '/m/03gfsp'], 'fca5b1c285daf0a3': ['/m/09j5n', '/m/06rrc', '/m/035r7c', '/m/03c0bxg', '/m/04_fs', '/m/0dzf4', '/m/032tl', '/m/01j04m'], 'fca8cb9c8c710bc8': ['/m/0k4j', '/m/07yv9', '/m/01prls', '/m/0ncqpsr', '/m/04mmdd', '/m/02t69s', '/m/0dr19', '/m/040kqv', '/m/068mqj', '/m/012mq4', '/m/083wq', '/m/02ht342', '/m/02k_k3t', '/m/0ltv', '/m/01j0xm', '/m/021mp2', '/m/037n8x', '/m/0dfbw'], 'fcaa6fe0a7401524': ['/m/0jjw', '/m/01jwgf'], 'fcb4f5eb29017c5d': ['/m/03q69', '/m/09j2d', '/m/0294jb', '/m/0ds4x', '/m/02dy7v', '/m/0jyfg', '/m/01g8j', '/m/01gkx_', '/m/0hr5k'], 'fcba041b84a3ed4e': ['/m/0jjw', '/m/0f1tz'], 'fcc7aa22d550f92d': ['/m/0k4j', '/m/07yv9', '/m/07r04'], 'fccf3966bc433c5a': ['/m/01cbzq', '/m/09dv7'], 'fcd697375bf4484e': ['/m/04rky', '/m/01280g', '/m/09686', '/m/0jbk', '/m/035qhg', '/m/02r0zt', '/m/01gd91', '/m/01c7cq', '/m/09kx5', '/m/03hh2k', '/m/01v4ld', '/m/0hkvx', '/m/025st_8'], 'fcd97da16318be46': ['/m/0k4j', '/m/07yv9', '/m/012f08', '/m/01prls', '/m/01xq49', '/m/025qfg', '/m/02ht342', '/m/01lcwm', '/m/02k_k3t', '/m/037n8x'], 'fcdf6021b9aef9dd': ['/m/015p6', '/m/05h0n', '/m/01c4rd', '/m/09686', '/m/038hg', '/m/0jbk', '/m/035qhg', '/m/01280g', '/m/0cjvf', '/m/07h17', '/m/0b5gs'], 'fce2b2a3e9f75882': ['/m/011s0', '/m/03gq5hm', '/m/0m9cj', '/m/01cd9', '/m/06zsq', '/m/0bkqqh'], 'fce78a41e3d6b919': ['/m/0c9ph5', '/m/01fklc', '/m/05s2s', '/m/03bmqb', '/m/04cckt', '/m/03rbf6', '/m/05wkw', '/m/02cqfm', '/m/01v728', '/m/016q19', '/m/0l5r', '/m/04sjm', '/m/04c38s', '/m/02hcw1', '/m/0j7ty'], 'fce9f160c47fbb19': ['/m/02q08p0', '/m/02wbm', '/m/019t6d', '/m/01ykh', '/m/036qh8', '/m/0270h', '/m/0krfg'], 'fcee34ded8a38ec5': ['/m/05tfch', '/m/01sgl', '/m/09rgp', '/m/03hr1p', '/m/03hs7k', '/m/0199g', '/m/0bpm4bq', '/m/06ntj', '/m/07yv9', '/m/03hrb5', '/m/07jmf', '/m/03hs6w', '/m/0dfbw', '/m/03hrn8', '/m/05b0n7k', '/m/06bm2', '/m/06d4_', '/m/05y5lj'], 'fcf0ab325db2d52f': ['/m/019sc', '/m/083jv', '/m/01g6gs', '/m/068jd', '/m/06pg22', '/m/05wkw', '/m/06gfj', '/m/03d49p1', '/m/01mwkf', '/m/01c8br', '/m/017kvv'], 'fcfae58df520a111': ['/m/03d1rd', '/m/07yr8h', '/m/012ww9', '/m/0cgh4', '/m/03nfmq', '/m/0djmp', '/m/0dpvm', '/m/01czv3', '/m/01cbzq', '/m/0cfkj', '/m/0nsv', '/m/02nvjx'], 'fcff0000ffc704a9': ['/m/07glzq', '/m/0jjw', '/m/02csf'], 'fd082988dc6c580a': ['/m/05h0n', '/m/07j7r', '/m/07pw27b', '/m/0866r', '/m/04k84', '/m/0b5gs', '/m/05s2s', '/m/06z0n', '/m/02hnx9', '/m/086mh', '/m/02_ktj', '/m/02zr8', '/m/09t49'], 'fd0a41659a07c3ef': ['/m/07bsy', '/m/02500f', '/m/05zdp', '/m/015kr', '/m/03nfmq', '/m/07yv9', '/m/025s53m', '/m/019cfy', '/m/01x314', '/m/07jdr'], 'fd1181433c87755b': ['/m/07bsy', '/m/07yv9', '/m/01jm2n', '/m/03y3sg', '/m/01phq4', '/m/015kr', '/m/07bxq', '/m/017m8l', '/m/06npx', '/m/05zdp'], 'fd1a694076535768': ['/m/01gq53', '/m/05qjc', '/m/02jjt', '/m/04rlf', '/m/04_5hy', '/m/03qsdpk'], 'fd1e2908e3e46395': ['/m/0jg24', '/m/09g5pq', '/m/03qtwd', '/m/010jjr', '/m/02jwqh', '/m/02dkrm', '/m/07bxq', '/m/09b1k', '/m/02bbq', '/m/08g_yr', '/m/0166ls'], 'fd29976254f0ae1a': ['/m/02wbm', '/m/0270h', '/m/0k65p'], 'fd32d12045dc8708': ['/m/01g317', '/m/09g5pq', '/m/0jnvp', '/m/0ytgt', '/m/01m0lg', '/m/06z04', '/m/016c68', '/m/027s69l', '/m/06xzh', '/m/0k65p'], 'fd3437f9db9a41f5': ['/m/01g317', '/m/04yx4', '/m/09g5pq', '/m/05zppz', '/m/0283dt1', '/m/04_fs', '/m/01xgsv', '/m/01bl7v', '/m/016c68', '/m/035r7c', '/m/03c0bxg', '/m/01ckgp', '/m/0k65p', '/m/0jnvp'], 'fd3e8a2f0e4e5be2': ['/m/01sdr', '/m/07pw27b', '/m/06gfj', '/m/01d74z', '/m/0866r', '/m/033j3c', '/m/01k0mv', '/m/04k84', '/m/02_ktj', '/m/039jbq', '/m/04mx32', '/m/06z0n', '/m/01c8br', '/m/01kyr8', '/m/0754v', '/m/01lwf0', '/m/06mb1', '/m/0134l'], 'fd3eb754ca85b90b': ['/m/0k4j', '/m/07yv9', '/m/0csby', '/m/02ht342'], 'fd400a3abb17ff65': [], 'fd44203004ee7422': ['/m/01g317', '/m/02q08p0', '/m/0krfg', '/m/02wbm', '/m/01f5gx', '/m/01qkbx', '/m/0jfd5', '/m/01ykh', '/m/04y7xr', '/m/0b_fd', '/m/07qn8g'], 'fd453091f3850b22': ['/m/05qjc', '/m/026bk', '/m/081pkj'], 'fd49d115c58a5935': ['/m/05qdh', '/m/015r61', '/m/06z37_', '/m/0jjw', '/m/0djmp', '/m/01spzs'], 'fd518fde189db66a': ['/m/01f43', '/m/01350r', '/m/012h24', '/m/032tl', '/m/0jjw'], 'fd5229a6a2580abc': ['/m/0dzct', '/m/01k74n', '/m/03q69', '/m/01g317', '/m/04yx4', '/m/0k0pj', '/m/09g5pq', '/m/0ds5b', '/m/05zppz', '/m/04hgtk', '/m/01xgsv', '/m/016c68', '/m/01h8n0', '/m/015h_t', '/m/0sgh53y'], 'fd528e78c6ffc919': ['/m/01n5jq', '/m/01vnb', '/m/012h24'], 'fd538115ab346146': ['/m/05h0n', '/m/03bmqb', '/m/0c9ph5', '/m/05s2s', '/m/08t9c_', '/m/01bwr', '/m/01v728', '/m/0hkvx', '/m/025st_8', '/m/0j7ty', '/m/03f35r', '/m/04sjm', '/m/04ffcj'], 'fd5a72d32f8b521b': [], 'fd5ea8bffc26e84e': ['/m/09g5pq', '/m/01qls'], 'fd6724ed6d317d84': ['/m/03qtwd', '/m/01b4q9', '/m/09g5pq', '/m/033lpr', '/m/026yq0z', '/m/02jfc'], 'fd6a68e3f97360c4': ['/m/04rky', '/m/021mh_', '/m/0138tl', '/m/068hy'], 'fd74a155d12b16c8': ['/m/07bx10', '/m/09cynt', '/m/01s8fx', '/m/02cwm'], 'fd7f73f13ebb2c63': ['/m/01g5v'], 'fd8641893e2dbb7e': ['/m/068hy', '/m/0bt9lr', '/m/04rky', '/m/0k0pj', '/m/0jbk', '/m/0d7s3w', '/m/013y0j', '/m/071jj', '/m/02cqfm', '/m/01z5f'], 'fd87d5ee68f8dab4': ['/m/0dzct', '/m/01k74n', '/m/01g317', '/m/0k0pj', '/m/02zsn', '/m/03bt1vf', '/m/05r655', '/m/019nj4', '/m/01f43', '/m/0ytgt', '/m/01dv4h', '/m/0283dt1', '/m/02cqfm', '/m/06z04', '/m/04hgtk', '/m/0ldpy', '/m/014sv8', '/m/0ds4x', '/m/013y0j', '/m/0chml9', '/m/02tjx', '/m/0b_fd', '/m/01j3sz'], 'fd8ebad60200faad': ['/m/019sc', '/m/083jv', '/m/01g6gs', '/m/01g317', '/m/05wkw', '/m/01kyr8', '/m/03d49p1', '/m/01mwkf', '/m/015lz1', '/m/01dv4h', '/m/02cqfm', '/m/039v1'], 'fd916c82dc53378f': ['/m/06_dn', '/m/086mh', '/m/0866r', '/m/07pw27b', '/m/07j7r', '/m/0754v', '/m/033kf', '/m/01c791', '/m/02_ktj'], 'fd9547868c616517': ['/m/01sdr', '/m/07p82rh', '/m/01g5v', '/m/01g317', '/m/05r655', '/m/01f43', '/m/06z04', '/m/04hgtk', '/m/03c0bxg', '/m/013y0j', '/m/09cx8', '/m/01txr2', '/m/0k65p', '/m/035r7c', '/m/0b_fd'], 'fd96e026de5d1a85': ['/m/01bqvp', '/m/043rvww', '/m/07pw27b', '/m/0d1n2', '/m/09d_r', '/m/01n32', '/m/0204fg', '/m/0dx1j', '/m/0fpdgl', '/m/034z7h', '/m/02_ktj', '/m/01ctry', '/m/01b3l7', '/m/04mx32', '/m/04_5sg', '/m/04wxr', '/m/01lxd', '/m/01b2w5', '/m/01b3kg'], 'fd9983825ca2882e': ['/m/04rky', '/m/09686', '/m/0jbk', '/m/01280g', '/m/035qhg', '/m/06lk1', '/m/04k_6h', '/m/052bc', '/m/04rmv'], 'fd9c3616ecb38633': ['/m/01g6gs', '/m/03qtwd', '/m/09g5pq', '/m/01mwkf', '/m/03d49p1'], 'fda851d2c9263555': ['/m/019sc', '/m/083jv', '/m/01g6gs', '/m/068jd', '/m/0jjw', '/m/03d49p1', '/m/01mwkf', '/m/07vwy6', '/m/034wh', '/m/01c8br', '/m/06msq'], 'fdabe689749c1654': ['/m/05h0n', '/m/0838f', '/m/01cbzq', '/m/090j23', '/m/0j2kx', '/m/02p0sll', '/m/02l215', '/m/0j6m2'], 'fdafb737c7e179d1': ['/m/07bs0', '/m/06ntj', '/m/0n68_', '/m/020m7t', '/m/01qhp_', '/m/0bmgjqz', '/m/02xhr73', '/m/03v7tf', '/m/012sbd', '/m/09515x', '/m/08t0vy'], 'fdb4a45518368c02': ['/m/07j7r', '/m/05s2s', '/m/03bmqb', '/m/01bwr', '/m/0b5gs', '/m/0c9ph5', '/m/02hnx9', '/m/0hnc1', '/m/01v728', '/m/09t49', '/m/01f4td', '/m/09wzt'], 'fdb7fd4b36112812': ['/m/0k4j', '/m/07yv9', '/m/012f08', '/m/01prls', '/m/046d80l', '/m/0369ss', '/m/068mqj', '/m/0h8ls87', '/m/083wq', '/m/01lcwm', '/m/02ht342', '/m/0539n0', '/m/0ctrp', '/m/02mnkq', '/m/02swz_', '/m/03txxp'], 'fdbd774f804b89b4': ['/m/01g6gs', '/m/05_5t0l', '/m/0djmp', '/m/01mwkf', '/m/02ljgl', '/m/013_1c', '/m/0jjw', '/m/03d49p1', '/m/0cx45', '/m/06y_bg', '/m/08g_yr', '/m/02nvjx', '/m/06msq'], 'fdbe497639920a7e': ['/m/03bt1gh'], 'fdc073e8b1850418': ['/m/0c9ph5', '/m/01sdr', '/m/03bmqb', '/m/05h0n', '/m/05s2s', '/m/01g5v', '/m/03rbf6', '/m/05wkw', '/m/01bwr', '/m/02cqfm', '/m/09ggk', '/m/0j7ty', '/m/01v728', '/m/016q19', '/m/09t49', '/m/04sjm', '/m/03f35r', '/m/014sv8', '/m/01ttd6'], 'fdc11394ce335f68': ['/m/05_5t0l', '/m/0cgh4', '/m/01n32', '/m/0fpdgl', '/m/03nfmq', '/m/07bxq', '/m/0cx45', '/m/0dvg9', '/m/0djmp', '/m/01klb9'], 'fdcb56c1ec6a2f02': ['/m/01dv4h', '/m/06n0gv'], 'fdcb85b5b82dc773': ['/m/01n32', '/m/0dx1j', '/m/039jbq', '/m/034z7h', '/m/03htg', '/m/01cs_p', '/m/0fpdgl', '/m/03218s', '/m/086mh', '/m/01l7t2', '/m/0p1c1', '/m/07yv9', '/m/06npx', '/m/0204fg'], 'fdcc6a4f8857e8c1': ['/m/06fvc', '/m/0271t', '/m/01cd9'], 'fdcdb3c12bac2a69': ['/m/01bqvp', '/m/0n68_', '/m/06gfj', '/m/01d74z', '/m/04k84', '/m/02_ktj', '/m/03nfmq', '/m/04mx32', '/m/01ctry', '/m/015kr', '/m/019sc6', '/m/06z0n', '/m/01b2w5', '/m/017kvv', '/m/01b3l7', '/m/016nqd'], 'fdcee6d0aced8f23': ['/m/09686', '/m/04rky', '/m/01g5v', '/m/050vn', '/m/0jbk', '/m/0gd2v', '/m/0ch_cf', '/m/02hj4', '/m/01540', '/m/024pk'], 'fdd35234bb5caa94': ['/m/015p6', '/m/05h0n', '/m/01c4rd', '/m/09686', '/m/01280g', '/m/038hg', '/m/0jbk', '/m/035qhg', '/m/0b5gs', '/m/02cqfm', '/m/0cjvf'], 'fdd3b637fb6dc453': ['/m/0k4j', '/m/07yv9', '/m/01prls', '/m/03y_qy', '/m/012mq4', '/m/068mqj', '/m/02ht342', '/m/06j11d', '/m/01r_pn', '/m/0ltv', '/m/025qfg', '/m/0dfbw'], 'fdd971cf54eda3be': ['/m/0271t', '/m/01599', '/m/088fh', '/m/012mj', '/m/06qrr', '/m/0b_fd', '/m/02wbm'], 'fddbda07bd355d81': ['/m/038hg', '/m/05s2s', '/m/0c9ph5', '/m/01bwr', '/m/0bl0l', '/m/01v728', '/m/036qh8', '/m/09t49', '/m/04sjm', '/m/02wbm', '/m/03gq1'], 'fdfb412295a2fa39': ['/m/07bsy', '/m/07yv9', '/m/0dx1j', '/m/06gfj', '/m/0180xr', '/m/0j_s4', '/m/01c8br', '/m/02nfxt', '/m/07kfm', '/m/025s53m', '/m/01x314'], 'fe01fb857cb07057': ['/m/068jd', '/m/01g6gs', '/m/019sc', '/m/0jg24', '/m/05wkw', '/m/01mwkf', '/m/03d49p1'], 'fe05696d0ae6313f': ['/m/01fdzj', '/m/05_5t0l', '/m/0cgh4', '/m/02wc6z', '/m/02qd_7', '/m/0cfs8', '/m/051rmm', '/m/01c6yl', '/m/02nvjx'], 'fe1024f2df296129': ['/m/068jd', '/m/0jg24', '/m/086mh', '/m/05wkw', '/m/06_dn', '/m/0754v', '/m/01txr2', '/m/0ytgt', '/m/02tjx'], 'fe1bd4af4dc54d74': ['/m/09g5pq', '/m/03qtwd', '/m/01qls', '/m/01c8br', '/m/0ytgt', '/m/01txr2'], 'fe1e2b7866672a7d': ['/m/07s6nbt', '/m/0215n', '/m/03gq5hm', '/m/07glzq', '/m/02csf', '/m/01cd9', '/m/01n5jq'], 'fe217b3a03bae4a0': ['/m/01bqvp', '/m/0csby', '/m/0ngt1', '/m/0866r', '/m/0jb2l', '/m/01kyr8', '/m/01ctsf', '/m/0z71l', '/m/0gms8', '/m/01b3l7'], 'fe22024fe0f688b0': ['/m/03k3r', '/m/0549d_', '/m/0jxw5', '/m/07h51', '/m/06ntj', '/m/07s053t', '/m/0wfrc8w', '/m/07hgcp', '/m/02s3y', '/m/0h6hb8', '/m/01pvc5', '/m/0d1tm'], 'fe250d34be019540': ['/m/01bjv', '/m/07yv9', '/m/03n9vx', '/m/01prls', '/m/07bsy', '/m/02w11w8', '/m/079bkr', '/m/05zdp'], 'fe25c953b373d175': ['/m/0c9ph5', '/m/05s2s', '/m/01fklc', '/m/03bmqb', '/m/01bwr', '/m/0ds61d1', '/m/01v728', '/m/016q19', '/m/0jjw', '/m/09t49', '/m/04sjm', '/m/0b5gs', '/m/04ffcj'], 'fe3baf38a5cb6320': [], 'fe4112729a245058': ['/m/038hg', '/m/0c9ph5', '/m/0bl0l', '/m/08t9c_', '/m/0hrcj2p', '/m/01v327', '/m/049_3v'], 'fe48543f6a2b49ca': ['/m/01g317', '/m/04zm7_', '/m/012qdp', '/m/01h6rj', '/m/02h66g5', '/m/035y33'], 'fe4f4121ee6fd2b3': ['/m/01bqvp', '/m/01g5v', '/m/07j7r', '/m/01fdzj', '/m/05s2s', '/m/0lhr', '/m/02hnx9', '/m/0c9ph5', '/m/0cdl1'], 'fe52b7b0237b7505': ['/m/016c4t', '/m/01pxgq', '/m/0ltfs', '/m/01ckgp', '/m/0ds4250'], 'fe5b356512214708': ['/m/03qtwd', '/m/01qls', '/m/01klb9', '/m/01wkk9'], 'fe5b8f71ff0ef7d2': ['/m/01g317'], 'fe5f93ad2390182a': ['/m/02q08p0', '/m/02wbm', '/m/01ykh', '/m/036qh8', '/m/0hr1s_w'], 'fe627a12c2dc19dc': ['/m/05fblh', '/m/07j7r', '/m/05h0n', '/m/02py09', '/m/02zr8', '/m/0hnc1', '/m/02mhj', '/m/05s2s', '/m/03ljvf', '/m/0134l', '/m/0754v', '/m/09t49', '/m/06z0n', '/m/02hnx9', '/m/0hlzt', '/m/02tcwp'], 'fe653ad0ddfbac0a': ['/m/01g317'], 'fe681ae0af0be6ef': ['/m/01vw0_', '/m/0ch75fj', '/m/02vk6x', '/m/03931h'], 'fe693f795976e44b': ['/m/027n3_', '/m/01sdr', '/m/0dzct', '/m/014sv8', '/m/01g5v', '/m/0k0pj', '/m/03f52z', '/m/01f43', '/m/02cqfm', '/m/013y0j', '/m/037p5b', '/m/02q9ddz', '/m/06z04', '/m/04hgtk', '/m/09q2t', '/m/02p0tk3'], 'fe71b92eec993d1f': ['/m/0h36z', '/m/01vw0_', '/m/043rvww', '/m/02vk6x'], 'fe74409b825efd12': ['/m/06ntj', '/m/026bk', '/m/05qjc', '/m/02jjt', '/m/027x7n', '/m/04_fs', '/m/081pkj'], 'fe76259784030de6': ['/m/0jjw'], 'fe87929bd8bcc3b4': ['/m/019jd', '/m/07yv9', '/m/0ddnl', '/m/01rzcn'], 'fe8798dc79773e57': ['/m/0dpvm', '/m/03nfmq', '/m/038t8_', '/m/0djmp', '/m/0d4v4'], 'fe8bc2c7c03e8344': [], 'fe91e637ae78ed3d': ['/m/0163q8', '/m/015p6', '/m/09686', '/m/0gg8brk', '/m/0jbk', '/m/01c4rd', '/m/035qhg', '/m/089v3'], 'fe977a1878d8d377': ['/m/05dlb', '/m/07yv9', '/m/01hr1w', '/m/02fj9', '/m/06q74', '/m/031dt', '/m/01rzcn', '/m/03d0crb', '/m/0dytr', '/m/06npx'], 'fe9899b8b2311bd9': ['/m/01sdr', '/m/01d74z', '/m/026z9', '/m/01sg9l'], 'fea35631b6f9b5f9': ['/m/01x314', '/m/01l7t2'], 'feb0c1ad20c7e630': ['/m/083jv', '/m/019sc', '/m/068jd', '/m/01g6gs', '/m/0ltfs', '/m/03bt1vf', '/m/05wkw', '/m/01m0lg', '/m/03d49p1', '/m/01mwkf', '/m/016c4t', '/m/01d40f', '/m/0ds4250'], 'feb26043335b592b': ['/m/039jbq', '/m/01c8br', '/m/0jjw', '/m/01x314'], 'feb636b56a1e3152': ['/m/07s6nbt', '/m/03gq5hm', '/m/086nh', '/m/015bv3', '/m/01cd9', '/m/03scnj', '/m/01zbnw'], 'fec05f347bde33cd': ['/m/07bsy', '/m/07j7r', '/m/06gfj', '/m/01vk9q', '/m/017kvv', '/m/07yv9'], 'fec09deab9916fac': ['/m/015p6', '/m/05h0n', '/m/01280g', '/m/01c4rd', '/m/09686', '/m/0jbk', '/m/035qhg', '/m/08t9c_', '/m/03bmqb', '/m/01gxtf', '/m/0fq15', '/m/0hkvx', '/m/0c9ph5', '/m/025st_8', '/m/0hscv', '/m/0cjvf', '/m/0fkrk'], 'fec453266bbf47f5': ['/m/081rb', '/m/09cx8', '/m/02cqfm', '/m/0k65p', '/m/01cd9', '/m/015bv3', '/m/02cwm'], 'fec48984469984f2': ['/m/033lpr', '/m/09x0r'], 'fec9785349def6c6': ['/m/04mx32', '/m/01zbnw'], 'fecfe749c48ac6f4': ['/m/016c4t', '/m/032tl', '/m/081pkj', '/m/026bk', '/m/0557q'], 'fed541b987bba40c': ['/m/02q08p0', '/m/0krfg', '/m/02wbm', '/m/0pqdc', '/m/0dw_m', '/m/0hz4q', '/m/0jfd5', '/m/01ykh', '/m/01_bhs', '/m/03vc65', '/m/0b_fd'], 'fed55fa37b4ebecf': ['/m/0k4j', '/m/07yv9', '/m/01prls', '/m/02k_k3t', '/m/021mp2', '/m/02ht342', '/m/0crtnw', '/m/0ncqpsr', '/m/02swz_'], 'fed70b5fa6017e81': ['/m/07yv9', '/m/01tq2l', '/m/06q74', '/m/020dwk', '/m/093q8j', '/m/01rzcn', '/m/0261m', '/m/08854', '/m/01vbb5'], 'fed761be43eff15c': ['/m/0n68_', '/m/09qqq', '/m/083vt', '/m/0jjw', '/m/025rw19', '/m/02rfdq'], 'fedad844adfdd9ee': ['/m/02q08p0', '/m/02wbm', '/m/0270h', '/m/0284d', '/m/02qm2x', '/m/0b6w2z', '/m/0cxn2'], 'fedcb8083a4278c5': ['/m/03jm5', '/m/01l0mw', '/m/0cgh4', '/m/038t8_', '/m/02zkn_', '/m/01f4td', '/m/03nxtz', '/m/05y1k_', '/m/08yp1s', '/m/083vt', '/m/080sjd'], 'fee185d5b406f83f': ['/m/0ch75fj'], 'fee2c59ab028aa11': ['/m/09j2d', '/m/0250x', '/m/0557q', '/m/09cynt'], 'fee4e06c1ff11ed1': ['/m/01qls'], 'feefde0e2a2e7ab4': ['/m/01vnb', '/m/012h24', '/m/0jjw', '/m/01n5jq', '/m/067408'], 'fef1f6d300876c4c': ['/m/01b4q9', '/m/09g5pq', '/m/011l78'], 'fef6ae7fd1a39610': ['/m/038hg', '/m/08t9c_', '/m/07j7r', '/m/01v327', '/m/05s2s', '/m/09qqq', '/m/01bwr', '/m/01xxn0', '/m/0bl0l', '/m/09t49', '/m/02hnx9', '/m/088fh', '/m/0c9ph5', '/m/0gqbt', '/m/01c34b'], 'fef7d80cb193724e': ['/m/011l78', '/m/09g5pq', '/m/01g6gs', '/m/09dhj', '/m/075_ys'], 'ff0b3077756cfcd6': ['/m/09g5pq', '/m/0krfg'], 'ff1c11d95f6490b2': ['/m/04rlf'], 'ff1cd35c193812e0': ['/m/02jwqh', '/m/0754v', '/m/09d_r'], 'ff1d8bc614eece52': ['/m/01g5v', '/m/04k84', '/m/029zz6', '/m/02l215', '/m/02rfdq', '/m/019sc6', '/m/0d4v4', '/m/01zbnw', '/m/031bff'], 'ff24566636dfe2b0': ['/m/01nr56', '/m/02vqfm', '/m/09702', '/m/07ptj3n', '/m/0271t', '/m/02p5f1q', '/m/0296jp', '/m/03fsht', '/m/06jdrl', '/m/01_7l', '/m/0364jn', '/m/02wbm', '/m/0ctfk', '/m/087bpd', '/m/02pjqs'], 'ff2bc13faeccc7fd': ['/m/07bsy', '/m/05wrt', '/m/0cgh4', '/m/03jm5', '/m/01f4td', '/m/05y1k_', '/m/01l0mw', '/m/038t8_', '/m/023907r', '/m/0vllx', '/m/0g8p9', '/m/03nxtz'], 'ff3e72c209331965': ['/m/015p6', '/m/09686', '/m/01c4rd', '/m/0jbk', '/m/035qhg', '/m/01280g', '/m/0b5gs', '/m/0fp7c'], 'ff424ac2bc10dd15': ['/m/02wbm', '/m/02q08p0', '/m/01ykh', '/m/01r1z5', '/m/04scj', '/m/01xw9', '/m/02flbl', '/m/01z45gc', '/m/01lzzr'], 'ff45d0941f65bdf3': ['/m/0dzct', '/m/03q69', '/m/01g317', '/m/01g6gs', '/m/0k0pj', '/m/04yx4', '/m/0jyfg', '/m/01dv4h', '/m/04hgtk', '/m/0ds4x', '/m/0ds5b', '/m/0bby24z', '/m/02csf', '/m/0h8jxfl'], 'ff4610f53618e0dd': ['/m/03qtwd', '/m/01g6gs', '/m/06gfj', '/m/09g5pq', '/m/01c8br', '/m/01mwkf', '/m/03d49p1', '/m/017kvv'], 'ff468857b1940e35': ['/m/06_dn', '/m/09j5n', '/m/086mh', '/m/017ndv', '/m/07sn5gn', '/m/0cl9t3p', '/m/071p9', '/m/06ntj', '/m/09qf5', '/m/02pyg', '/m/09d_r', '/m/0l_yv', '/m/06z4ng'], 'ff4946d3baa8fa6c': ['/m/0cgh4', '/m/05_5t0l', '/m/03nfmq', '/m/01x314', '/m/0vlys', '/m/026y56', '/m/037rzs', '/m/01qkbx', '/m/079cl'], 'ff4cebecba2474a2': ['/m/0ytgt', '/m/02jfc'], 'ff4ff0c1b6503538': ['/m/05fblh', '/m/07pw27b', '/m/02l215', '/m/02py09', '/m/02mhj', '/m/04h4w', '/m/0pvlz', '/m/016nsr', '/m/02_ktj', '/m/02fm9k', '/m/0184rb'], 'ff546452612c3c42': ['/m/0180xr', '/m/01n32', '/m/07j7r', '/m/033j3c', '/m/06gfj', '/m/0dx1j', '/m/039jbq', '/m/02nfxt', '/m/01l7t2', '/m/0fpdgl', '/m/01c8br', '/m/03nfmq', '/m/01wkk9'], 'ff565b209cc31914': ['/m/06gfj', '/m/0dx1j', '/m/01c8br', '/m/01n32', '/m/039jbq', '/m/0fpdgl', '/m/0180xr', '/m/01d74z', '/m/09y4pm', '/m/01l7t2', '/m/017kvv', '/m/017r8p', '/m/04mx32', '/m/0hhdb'], 'ff56c997ae15f623': ['/m/015p6', '/m/01c4rd', '/m/09686', '/m/0jbk', '/m/0838f', '/m/09ddx', '/m/02l215', '/m/035qhg', '/m/01280g', '/m/0gg8brk', '/m/01c_0l', '/m/02p0_xl', '/m/01fmbp'], 'ff5806a20735b2ae': [], 'ff59112cc5155b4a': ['/m/0cgh4', '/m/02nvjx', '/m/038t8_', '/m/0cx45', '/m/01wb7'], 'ff5fc7f0186f8f51': ['/m/04k84', '/m/01d74z', '/m/01kyr8', '/m/069rbw', '/m/02y2l_'], 'ff619e4a072e61b4': ['/m/0cgh4', '/m/02nvjx', '/m/05zp8', '/m/01wb7', '/m/0173tc', '/m/0f85g'], 'ff66477fbd3da2d7': ['/m/06npx', '/m/01lxd', '/m/04_5sg', '/m/0b3yr', '/m/02fm9k', '/m/04p25', '/m/09d_r', '/m/04ggh49', '/m/04h4w', '/m/01f4td', '/m/093shy'], 'ff667d267615eac7': ['/m/01bqvp', '/m/013vs', '/m/01b2w5', '/m/080dk2h', '/m/0d1n2', '/m/01b2q6', '/m/06npx', '/m/01b3kg', '/m/0csby', '/m/05kq4', '/m/01b3l7', '/m/02_ktj', '/m/04mx32', '/m/01ctsf', '/m/06m_p', '/m/01lxd'], 'ff73179e46991f19': ['/m/068hy', '/m/0bt9lr', '/m/04rky', '/m/0kpmf', '/m/09686', '/m/0jbk', '/m/0d7s3w', '/m/01z5f', '/m/05zmzn1', '/m/0g0rch'], 'ff7524b89dfe2df7': ['/m/019sc6'], 'ff7c40590a5ac82e': ['/m/088fh', '/m/0jjw', '/m/0jc_p', '/m/02cwm'], 'ff7f1ad667a0fbf8': ['/m/09j2d', '/m/04yx4', '/m/05zppz', '/m/0ds4250', '/m/01txr2'], 'ff8d832478c88f43': ['/m/0k4j', '/m/012f08', '/m/07yv9', '/m/088l6h', '/m/0h8ls87', '/m/083wq', '/m/01lcwm', '/m/02ht342', '/m/0crtnw', '/m/0kw6d', '/m/02swz_'], 'ff9633598f3367e0': ['/m/09g5pq', '/m/011l78', '/m/02w3hl'], 'ff9a749a14acef0d': ['/m/05qjc', '/m/02jjt', '/m/01350r', '/m/0557q', '/m/04_5hy', '/m/03qsdpk', '/m/026bk'], 'ff9fccacaf44aef8': ['/m/01g317', '/m/01g6gs', '/m/012qdp', '/m/02h66g5', '/m/01mwkf', '/m/099md', '/m/03d49p1', '/m/019p5q'], 'ffa5accf3277b3d2': ['/m/03qtwd', '/m/01g317', '/m/09jwl', '/m/02p1xh', '/m/026yq0z', '/m/017r8p'], 'ffa616e43eaa60c0': [], 'ffa71f2b801aadc2': ['/m/06l8d', '/m/01d74z', '/m/019sc6'], 'ffa8f055dc28b52d': ['/m/0k4j', '/m/01g6gs', '/m/07yv9', '/m/083wq', '/m/01mwkf', '/m/03d49p1', '/m/02ht342', '/m/02mk9', '/m/0h9mv'], 'ffaa38caefa2967b': ['/m/05h0n', '/m/04rky', '/m/01280g', '/m/09686', '/m/035qhg', '/m/0jbk', '/m/0kt8p', '/m/09dv7'], 'ffabc4852176ce2e': ['/m/083jv', '/m/01g6gs', '/m/01g317', '/m/05wkw', '/m/01f43', '/m/03d49p1', '/m/01mwkf', '/m/032tl', '/m/019p5q'], 'ffbccc119e26e349': ['/m/01g317', '/m/02_5_z', '/m/01zbnw', '/m/099md', '/m/04tr8s', '/m/0jq47'], 'ffc80369087ab7cc': ['/m/0k4j', '/m/07yv9', '/m/01prls', '/m/0ctrp', '/m/02ht342', '/m/0539n0', '/m/057gn', '/m/03p66g'], 'ffcebfbf646f4017': ['/m/0191_7', '/m/08790l', '/m/0hhdb', '/m/02rfdq'], 'ffd45421becd314b': ['/m/01sdr', '/m/09l9f', '/m/08g_yr', '/m/0hr5k', '/m/07djv'], 'ffd55ffb6bf1e70c': ['/m/0krfg'], 'ffd659218e551ee0': ['/m/01nd_n', '/m/026yq0z', '/m/02p1xh'], 'ffd6a3ab606cd71d': ['/m/015p6', '/m/01c4rd', '/m/09686', '/m/0jbk', '/m/035qhg', '/m/01280g', '/m/0j4rl'], 'ffe2b153edf12f98': ['/m/05h0n', '/m/05s2s', '/m/03bmqb', '/m/038hg', '/m/025_v', '/m/035qhg', '/m/01bwr', '/m/03rbf6', '/m/04gvnx', '/m/02cqfm', '/m/01v728', '/m/025rm5', '/m/0c9ph5', '/m/09t49', '/m/0403mwp', '/m/036qh8', '/m/04sjm', '/m/07j5dt', '/m/01ttd6'], 'ffeca64c66f5b4be': ['/m/09qqq', '/m/039jbq', '/m/0jjw', '/m/04rd7', '/m/02cwm', '/m/0pgl9'], 'ffeec4f98d8cfda4': ['/m/07j7r', '/m/02yybg', '/m/03ktm1', '/m/02mhj', '/m/0184rb', '/m/02l215', '/m/06cnp', '/m/017m8l', '/m/04h4w', '/m/02hnx9', '/m/0pvlz', '/m/05qb9l1', '/m/01pvk'], 'fff150e4c8a5fefa': ['/m/01k0mv', '/m/09qqq', '/m/0hr8', '/m/0l7_8', '/m/06_dn', '/m/083vt', '/m/06hyd', '/m/025rw19', '/m/01c34b'], 'fff1c14a00ae5a55': ['/m/01bjv', '/m/07yv9', '/m/01prls', '/m/07bsy', '/m/02yvhj', '/m/0fkwjg', '/m/045jsc', '/m/05zdp'], 'fff70817125707cd': ['/m/038hg', '/m/07j7r', '/m/06msq', '/m/0jjw', '/m/013_1c', '/m/0b5gs'], 'fff7e50f2824afe0': ['/m/068hy', '/m/04rky', '/m/0k0pj', '/m/09686', '/m/0jbk', '/m/01yrx', '/m/01l7qd', '/m/02xl47d', '/m/02cqfm', '/m/0bt9lr', '/m/07k6w8'], 'fff912ecfaa2494e': ['/m/088fh', '/m/03bmqb', '/m/09t49', '/m/01bwr', '/m/05s2s', '/m/0b5gs', '/m/0c9ph5', '/m/036qh8', '/m/05qdh']}\n"
     ]
    }
   ],
   "source": [
    "with open('./data/train.pkl', 'rb') as handle:\n",
    "    data = pickle.load(handle)\n",
    "    \n",
    "    print (data)"
   ]
  },
  {
   "cell_type": "code",
   "execution_count": 18,
   "metadata": {},
   "outputs": [],
   "source": [
    "# do the multi-hot encoding\n",
    "def multi_hot_encode(x, num_classes):\n",
    "    labels_encoded = np.zeros(num_classes)\n",
    "    \n",
    "    for label in x:\n",
    "        if label in labels_index:\n",
    "            label = labels_index[label]\n",
    "            labels_encoded[label] = 1    \n",
    "        \n",
    "    return labels_encoded"
   ]
  },
  {
   "cell_type": "code",
   "execution_count": 19,
   "metadata": {},
   "outputs": [
    {
     "name": "stdout",
     "output_type": "stream",
     "text": [
      "8.0\n"
     ]
    }
   ],
   "source": [
    "print (np.sum(multi_hot_encode(data['f001f505a3549449'], num_labels)))"
   ]
  },
  {
   "cell_type": "code",
   "execution_count": 20,
   "metadata": {},
   "outputs": [],
   "source": [
    "# split the samples to train and validation sets\n",
    "from sklearn.model_selection import train_test_split\n",
    "train_samples, validation_samples = train_test_split(scaled_train_images, test_size=0.1)"
   ]
  },
  {
   "cell_type": "code",
   "execution_count": 21,
   "metadata": {},
   "outputs": [
    {
     "name": "stdout",
     "output_type": "stream",
     "text": [
      "['fb204bb37e9e7d13.jpg', 'fec48984469984f2.jpg', 'f4f38e24368201ae.jpg', 'f8c2205125d5a9c3.jpg', 'f0b41ec06b15a76f.jpg', 'fbc53c5d23090417.jpg', 'fe91e637ae78ed3d.jpg', 'f10f703bdd6bdf6f.jpg', 'fbd9253e73544697.jpg', 'fee2c59ab028aa11.jpg', 'fdb4a45518368c02.jpg', 'ff468857b1940e35.jpg', 'f37ab47f24298bc8.jpg', 'f6f3db4ebaf5427d.jpg', 'fb13c72cc8936b37.jpg', 'f577e24568149354.jpg', 'f74fac80b9eaa1e5.jpg', 'f293c02cbf344a31.jpg', 'f3330ba515d74724.jpg', 'f90d4016ac7e99e7.jpg', 'f95030e3f3c71f96.jpg', 'f3282f4651db730c.jpg', 'fa2f9a3abc24db9e.jpg', 'ffa71f2b801aadc2.jpg', 'f41b0f39e4c60e40.jpg', 'ffaa38caefa2967b.jpg', 'f9b3518022f86628.jpg', 'fbb2b44c3ab7d927.jpg', 'f6241b21f0b35562.jpg', 'f8c779d4a183df31.jpg', 'facf59ea75e2174a.jpg', 'f8dc89a78d9c47f6.jpg', 'fda851d2c9263555.jpg', 'fed55fa37b4ebecf.jpg', 'fa0fd6ae05821ace.jpg', 'feb0c1ad20c7e630.jpg', 'faca0ed6059a2691.jpg', 'ff5fc7f0186f8f51.jpg', 'fff7e50f2824afe0.jpg', 'f28870fd92e28e70.jpg', 'fb36e242ea882a05.jpg', 'feb636b56a1e3152.jpg', 'f19c560a96e1dbc6.jpg', 'fbba0c313be3997f.jpg', 'fb6ed71c10dc39f2.jpg', 'fb1099f2bd56849b.jpg', 'f4ad1ff298d69f45.jpg', 'fff150e4c8a5fefa.jpg', 'fe5f93ad2390182a.jpg', 'f549733c380b1ddc.jpg', 'f73c5033a1d110b7.jpg', 'f6348712300d53d6.jpg', 'f8a9da3f4c19057d.jpg', 'fa378aa9b54f4c77.jpg', 'f2c025b2e4755b5f.jpg', 'ff424ac2bc10dd15.jpg', 'f3bcd0af9e7613c5.jpg', 'fd538115ab346146.jpg', 'f41f92a799ca2f19.jpg', 'f85ec13762e5bf2a.jpg', 'ff1d8bc614eece52.jpg', 'f6b0968eec866510.jpg', 'f65e369916dfa9c0.jpg', 'fb0a686d354f5212.jpg', 'fe250d34be019540.jpg', 'f36d04e06a2a8814.jpg', 'f37bc8f42da52c55.jpg', 'f95bfb95bd60b28d.jpg', 'fa5ea696a76543c9.jpg', 'ff4946d3baa8fa6c.jpg', 'f343580752f330e8.jpg', 'fc553a5019bfdd94.jpg', 'fd8641893e2dbb7e.jpg', 'f55cd51dce357b98.jpg', 'f0fc5835c4105b84.jpg', 'f21fba749ed3f05d.jpg', 'f380646fbedfb5f1.jpg', 'f9019eaa2e8669ae.jpg', 'f352b59ef37238f0.jpg', 'fc4a0dd7f345ed9d.jpg', 'f6c8869d9a5f6b87.jpg', 'fa4d6dbf8e72dbb1.jpg', 'f745b754eb84f2fa.jpg', 'f745da12d82325b4.jpg']\n"
     ]
    }
   ],
   "source": [
    "print (validation_samples)"
   ]
  },
  {
   "cell_type": "code",
   "execution_count": 22,
   "metadata": {},
   "outputs": [],
   "source": [
    "import cv2"
   ]
  },
  {
   "cell_type": "code",
   "execution_count": 23,
   "metadata": {},
   "outputs": [],
   "source": [
    "# define the generator method which loads images in a batches\n",
    "def generator(samples, batch_size=32):\n",
    "    num_samples = len(samples)\n",
    "    while 1: # Loop forever so the generator never terminates\n",
    "        sklearn.utils.shuffle(samples)\n",
    "        for offset in range(0, num_samples, batch_size):\n",
    "            batch_samples = samples[offset:offset+batch_size]\n",
    "\n",
    "            images = []\n",
    "            labels = []\n",
    "            \n",
    "            for batch_sample in batch_samples:\n",
    "                image_name = train_images_dir + batch_sample\n",
    "                image = cv2.imread(image_name)\n",
    "                image = cv2.cvtColor(image, cv2.COLOR_BGR2RGB)\n",
    "                image = cv2.resize(image, (300,300))\n",
    "                key = batch_sample[:-4]\n",
    "                label = multi_hot_encode(data[key], num_labels)\n",
    "                \n",
    "                images.append(image)\n",
    "                labels.append(label)\n",
    "\n",
    "            X_train = np.array(images)\n",
    "            y_train = np.array(labels)\n",
    "            yield sklearn.utils.shuffle(X_train, y_train)"
   ]
  },
  {
   "cell_type": "code",
   "execution_count": 24,
   "metadata": {},
   "outputs": [
    {
     "name": "stderr",
     "output_type": "stream",
     "text": [
      "Using TensorFlow backend.\n"
     ]
    }
   ],
   "source": [
    "from models.darknet53 import darknet_classifier"
   ]
  },
  {
   "cell_type": "code",
   "execution_count": 25,
   "metadata": {},
   "outputs": [],
   "source": [
    "input_shape = (300, 300, 3)\n"
   ]
  },
  {
   "cell_type": "code",
   "execution_count": 26,
   "metadata": {},
   "outputs": [
    {
     "name": "stdout",
     "output_type": "stream",
     "text": [
      "__________________________________________________________________________________________________\n",
      "Layer (type)                    Output Shape         Param #     Connected to                     \n",
      "==================================================================================================\n",
      "input_1 (InputLayer)            (None, 300, 300, 3)  0                                            \n",
      "__________________________________________________________________________________________________\n",
      "lambda_1 (Lambda)               (None, 300, 300, 3)  0           input_1[0][0]                    \n",
      "__________________________________________________________________________________________________\n",
      "conv2d_1 (Conv2D)               (None, 300, 300, 32) 864         lambda_1[0][0]                   \n",
      "__________________________________________________________________________________________________\n",
      "batch_normalization_1 (BatchNor (None, 300, 300, 32) 128         conv2d_1[0][0]                   \n",
      "__________________________________________________________________________________________________\n",
      "leaky_re_lu_1 (LeakyReLU)       (None, 300, 300, 32) 0           batch_normalization_1[0][0]      \n",
      "__________________________________________________________________________________________________\n",
      "zero_padding2d_1 (ZeroPadding2D (None, 301, 301, 32) 0           leaky_re_lu_1[0][0]              \n",
      "__________________________________________________________________________________________________\n",
      "conv2d_2 (Conv2D)               (None, 150, 150, 64) 18432       zero_padding2d_1[0][0]           \n",
      "__________________________________________________________________________________________________\n",
      "batch_normalization_2 (BatchNor (None, 150, 150, 64) 256         conv2d_2[0][0]                   \n",
      "__________________________________________________________________________________________________\n",
      "leaky_re_lu_2 (LeakyReLU)       (None, 150, 150, 64) 0           batch_normalization_2[0][0]      \n",
      "__________________________________________________________________________________________________\n",
      "conv2d_3 (Conv2D)               (None, 150, 150, 32) 2048        leaky_re_lu_2[0][0]              \n",
      "__________________________________________________________________________________________________\n",
      "batch_normalization_3 (BatchNor (None, 150, 150, 32) 128         conv2d_3[0][0]                   \n",
      "__________________________________________________________________________________________________\n",
      "leaky_re_lu_3 (LeakyReLU)       (None, 150, 150, 32) 0           batch_normalization_3[0][0]      \n",
      "__________________________________________________________________________________________________\n",
      "conv2d_4 (Conv2D)               (None, 150, 150, 64) 18432       leaky_re_lu_3[0][0]              \n",
      "__________________________________________________________________________________________________\n",
      "batch_normalization_4 (BatchNor (None, 150, 150, 64) 256         conv2d_4[0][0]                   \n",
      "__________________________________________________________________________________________________\n",
      "leaky_re_lu_4 (LeakyReLU)       (None, 150, 150, 64) 0           batch_normalization_4[0][0]      \n",
      "__________________________________________________________________________________________________\n",
      "add_1 (Add)                     (None, 150, 150, 64) 0           leaky_re_lu_2[0][0]              \n",
      "                                                                 leaky_re_lu_4[0][0]              \n",
      "__________________________________________________________________________________________________\n",
      "zero_padding2d_2 (ZeroPadding2D (None, 151, 151, 64) 0           add_1[0][0]                      \n",
      "__________________________________________________________________________________________________\n",
      "conv2d_5 (Conv2D)               (None, 75, 75, 128)  73728       zero_padding2d_2[0][0]           \n",
      "__________________________________________________________________________________________________\n",
      "batch_normalization_5 (BatchNor (None, 75, 75, 128)  512         conv2d_5[0][0]                   \n",
      "__________________________________________________________________________________________________\n",
      "leaky_re_lu_5 (LeakyReLU)       (None, 75, 75, 128)  0           batch_normalization_5[0][0]      \n",
      "__________________________________________________________________________________________________\n",
      "conv2d_6 (Conv2D)               (None, 75, 75, 64)   8192        leaky_re_lu_5[0][0]              \n",
      "__________________________________________________________________________________________________\n",
      "batch_normalization_6 (BatchNor (None, 75, 75, 64)   256         conv2d_6[0][0]                   \n",
      "__________________________________________________________________________________________________\n",
      "leaky_re_lu_6 (LeakyReLU)       (None, 75, 75, 64)   0           batch_normalization_6[0][0]      \n",
      "__________________________________________________________________________________________________\n",
      "conv2d_7 (Conv2D)               (None, 75, 75, 128)  73728       leaky_re_lu_6[0][0]              \n",
      "__________________________________________________________________________________________________\n",
      "batch_normalization_7 (BatchNor (None, 75, 75, 128)  512         conv2d_7[0][0]                   \n",
      "__________________________________________________________________________________________________\n",
      "leaky_re_lu_7 (LeakyReLU)       (None, 75, 75, 128)  0           batch_normalization_7[0][0]      \n",
      "__________________________________________________________________________________________________\n",
      "add_2 (Add)                     (None, 75, 75, 128)  0           leaky_re_lu_5[0][0]              \n",
      "                                                                 leaky_re_lu_7[0][0]              \n",
      "__________________________________________________________________________________________________\n",
      "conv2d_8 (Conv2D)               (None, 75, 75, 64)   8192        add_2[0][0]                      \n",
      "__________________________________________________________________________________________________\n",
      "batch_normalization_8 (BatchNor (None, 75, 75, 64)   256         conv2d_8[0][0]                   \n",
      "__________________________________________________________________________________________________\n",
      "leaky_re_lu_8 (LeakyReLU)       (None, 75, 75, 64)   0           batch_normalization_8[0][0]      \n",
      "__________________________________________________________________________________________________\n",
      "conv2d_9 (Conv2D)               (None, 75, 75, 128)  73728       leaky_re_lu_8[0][0]              \n",
      "__________________________________________________________________________________________________\n",
      "batch_normalization_9 (BatchNor (None, 75, 75, 128)  512         conv2d_9[0][0]                   \n",
      "__________________________________________________________________________________________________\n",
      "leaky_re_lu_9 (LeakyReLU)       (None, 75, 75, 128)  0           batch_normalization_9[0][0]      \n",
      "__________________________________________________________________________________________________\n",
      "add_3 (Add)                     (None, 75, 75, 128)  0           add_2[0][0]                      \n",
      "                                                                 leaky_re_lu_9[0][0]              \n",
      "__________________________________________________________________________________________________\n",
      "zero_padding2d_3 (ZeroPadding2D (None, 76, 76, 128)  0           add_3[0][0]                      \n",
      "__________________________________________________________________________________________________\n",
      "conv2d_10 (Conv2D)              (None, 37, 37, 256)  294912      zero_padding2d_3[0][0]           \n",
      "__________________________________________________________________________________________________\n",
      "batch_normalization_10 (BatchNo (None, 37, 37, 256)  1024        conv2d_10[0][0]                  \n",
      "__________________________________________________________________________________________________\n",
      "leaky_re_lu_10 (LeakyReLU)      (None, 37, 37, 256)  0           batch_normalization_10[0][0]     \n",
      "__________________________________________________________________________________________________\n",
      "conv2d_11 (Conv2D)              (None, 37, 37, 128)  32768       leaky_re_lu_10[0][0]             \n",
      "__________________________________________________________________________________________________\n",
      "batch_normalization_11 (BatchNo (None, 37, 37, 128)  512         conv2d_11[0][0]                  \n",
      "__________________________________________________________________________________________________\n",
      "leaky_re_lu_11 (LeakyReLU)      (None, 37, 37, 128)  0           batch_normalization_11[0][0]     \n",
      "__________________________________________________________________________________________________\n",
      "conv2d_12 (Conv2D)              (None, 37, 37, 256)  294912      leaky_re_lu_11[0][0]             \n",
      "__________________________________________________________________________________________________\n",
      "batch_normalization_12 (BatchNo (None, 37, 37, 256)  1024        conv2d_12[0][0]                  \n",
      "__________________________________________________________________________________________________\n",
      "leaky_re_lu_12 (LeakyReLU)      (None, 37, 37, 256)  0           batch_normalization_12[0][0]     \n",
      "__________________________________________________________________________________________________\n",
      "add_4 (Add)                     (None, 37, 37, 256)  0           leaky_re_lu_10[0][0]             \n",
      "                                                                 leaky_re_lu_12[0][0]             \n",
      "__________________________________________________________________________________________________\n",
      "conv2d_13 (Conv2D)              (None, 37, 37, 128)  32768       add_4[0][0]                      \n",
      "__________________________________________________________________________________________________\n",
      "batch_normalization_13 (BatchNo (None, 37, 37, 128)  512         conv2d_13[0][0]                  \n",
      "__________________________________________________________________________________________________\n",
      "leaky_re_lu_13 (LeakyReLU)      (None, 37, 37, 128)  0           batch_normalization_13[0][0]     \n",
      "__________________________________________________________________________________________________\n",
      "conv2d_14 (Conv2D)              (None, 37, 37, 256)  294912      leaky_re_lu_13[0][0]             \n",
      "__________________________________________________________________________________________________\n",
      "batch_normalization_14 (BatchNo (None, 37, 37, 256)  1024        conv2d_14[0][0]                  \n",
      "__________________________________________________________________________________________________\n",
      "leaky_re_lu_14 (LeakyReLU)      (None, 37, 37, 256)  0           batch_normalization_14[0][0]     \n",
      "__________________________________________________________________________________________________\n",
      "add_5 (Add)                     (None, 37, 37, 256)  0           add_4[0][0]                      \n",
      "                                                                 leaky_re_lu_14[0][0]             \n",
      "__________________________________________________________________________________________________\n",
      "conv2d_15 (Conv2D)              (None, 37, 37, 128)  32768       add_5[0][0]                      \n",
      "__________________________________________________________________________________________________\n",
      "batch_normalization_15 (BatchNo (None, 37, 37, 128)  512         conv2d_15[0][0]                  \n",
      "__________________________________________________________________________________________________\n",
      "leaky_re_lu_15 (LeakyReLU)      (None, 37, 37, 128)  0           batch_normalization_15[0][0]     \n",
      "__________________________________________________________________________________________________\n",
      "conv2d_16 (Conv2D)              (None, 37, 37, 256)  294912      leaky_re_lu_15[0][0]             \n",
      "__________________________________________________________________________________________________\n",
      "batch_normalization_16 (BatchNo (None, 37, 37, 256)  1024        conv2d_16[0][0]                  \n",
      "__________________________________________________________________________________________________\n",
      "leaky_re_lu_16 (LeakyReLU)      (None, 37, 37, 256)  0           batch_normalization_16[0][0]     \n",
      "__________________________________________________________________________________________________\n",
      "add_6 (Add)                     (None, 37, 37, 256)  0           add_5[0][0]                      \n",
      "                                                                 leaky_re_lu_16[0][0]             \n",
      "__________________________________________________________________________________________________\n",
      "conv2d_17 (Conv2D)              (None, 37, 37, 128)  32768       add_6[0][0]                      \n",
      "__________________________________________________________________________________________________\n",
      "batch_normalization_17 (BatchNo (None, 37, 37, 128)  512         conv2d_17[0][0]                  \n",
      "__________________________________________________________________________________________________\n",
      "leaky_re_lu_17 (LeakyReLU)      (None, 37, 37, 128)  0           batch_normalization_17[0][0]     \n",
      "__________________________________________________________________________________________________\n",
      "conv2d_18 (Conv2D)              (None, 37, 37, 256)  294912      leaky_re_lu_17[0][0]             \n",
      "__________________________________________________________________________________________________\n",
      "batch_normalization_18 (BatchNo (None, 37, 37, 256)  1024        conv2d_18[0][0]                  \n",
      "__________________________________________________________________________________________________\n",
      "leaky_re_lu_18 (LeakyReLU)      (None, 37, 37, 256)  0           batch_normalization_18[0][0]     \n",
      "__________________________________________________________________________________________________\n",
      "add_7 (Add)                     (None, 37, 37, 256)  0           add_6[0][0]                      \n",
      "                                                                 leaky_re_lu_18[0][0]             \n",
      "__________________________________________________________________________________________________\n",
      "conv2d_19 (Conv2D)              (None, 37, 37, 128)  32768       add_7[0][0]                      \n",
      "__________________________________________________________________________________________________\n",
      "batch_normalization_19 (BatchNo (None, 37, 37, 128)  512         conv2d_19[0][0]                  \n",
      "__________________________________________________________________________________________________\n",
      "leaky_re_lu_19 (LeakyReLU)      (None, 37, 37, 128)  0           batch_normalization_19[0][0]     \n",
      "__________________________________________________________________________________________________\n",
      "conv2d_20 (Conv2D)              (None, 37, 37, 256)  294912      leaky_re_lu_19[0][0]             \n",
      "__________________________________________________________________________________________________\n",
      "batch_normalization_20 (BatchNo (None, 37, 37, 256)  1024        conv2d_20[0][0]                  \n",
      "__________________________________________________________________________________________________\n",
      "leaky_re_lu_20 (LeakyReLU)      (None, 37, 37, 256)  0           batch_normalization_20[0][0]     \n",
      "__________________________________________________________________________________________________\n",
      "add_8 (Add)                     (None, 37, 37, 256)  0           add_7[0][0]                      \n",
      "                                                                 leaky_re_lu_20[0][0]             \n",
      "__________________________________________________________________________________________________\n",
      "conv2d_21 (Conv2D)              (None, 37, 37, 128)  32768       add_8[0][0]                      \n",
      "__________________________________________________________________________________________________\n",
      "batch_normalization_21 (BatchNo (None, 37, 37, 128)  512         conv2d_21[0][0]                  \n",
      "__________________________________________________________________________________________________\n",
      "leaky_re_lu_21 (LeakyReLU)      (None, 37, 37, 128)  0           batch_normalization_21[0][0]     \n",
      "__________________________________________________________________________________________________\n",
      "conv2d_22 (Conv2D)              (None, 37, 37, 256)  294912      leaky_re_lu_21[0][0]             \n",
      "__________________________________________________________________________________________________\n",
      "batch_normalization_22 (BatchNo (None, 37, 37, 256)  1024        conv2d_22[0][0]                  \n",
      "__________________________________________________________________________________________________\n",
      "leaky_re_lu_22 (LeakyReLU)      (None, 37, 37, 256)  0           batch_normalization_22[0][0]     \n",
      "__________________________________________________________________________________________________\n",
      "add_9 (Add)                     (None, 37, 37, 256)  0           add_8[0][0]                      \n",
      "                                                                 leaky_re_lu_22[0][0]             \n",
      "__________________________________________________________________________________________________\n",
      "conv2d_23 (Conv2D)              (None, 37, 37, 128)  32768       add_9[0][0]                      \n",
      "__________________________________________________________________________________________________\n",
      "batch_normalization_23 (BatchNo (None, 37, 37, 128)  512         conv2d_23[0][0]                  \n",
      "__________________________________________________________________________________________________\n",
      "leaky_re_lu_23 (LeakyReLU)      (None, 37, 37, 128)  0           batch_normalization_23[0][0]     \n",
      "__________________________________________________________________________________________________\n",
      "conv2d_24 (Conv2D)              (None, 37, 37, 256)  294912      leaky_re_lu_23[0][0]             \n",
      "__________________________________________________________________________________________________\n",
      "batch_normalization_24 (BatchNo (None, 37, 37, 256)  1024        conv2d_24[0][0]                  \n",
      "__________________________________________________________________________________________________\n",
      "leaky_re_lu_24 (LeakyReLU)      (None, 37, 37, 256)  0           batch_normalization_24[0][0]     \n",
      "__________________________________________________________________________________________________\n",
      "add_10 (Add)                    (None, 37, 37, 256)  0           add_9[0][0]                      \n",
      "                                                                 leaky_re_lu_24[0][0]             \n",
      "__________________________________________________________________________________________________\n",
      "conv2d_25 (Conv2D)              (None, 37, 37, 128)  32768       add_10[0][0]                     \n",
      "__________________________________________________________________________________________________\n",
      "batch_normalization_25 (BatchNo (None, 37, 37, 128)  512         conv2d_25[0][0]                  \n",
      "__________________________________________________________________________________________________\n",
      "leaky_re_lu_25 (LeakyReLU)      (None, 37, 37, 128)  0           batch_normalization_25[0][0]     \n",
      "__________________________________________________________________________________________________\n",
      "conv2d_26 (Conv2D)              (None, 37, 37, 256)  294912      leaky_re_lu_25[0][0]             \n",
      "__________________________________________________________________________________________________\n",
      "batch_normalization_26 (BatchNo (None, 37, 37, 256)  1024        conv2d_26[0][0]                  \n",
      "__________________________________________________________________________________________________\n",
      "leaky_re_lu_26 (LeakyReLU)      (None, 37, 37, 256)  0           batch_normalization_26[0][0]     \n",
      "__________________________________________________________________________________________________\n",
      "add_11 (Add)                    (None, 37, 37, 256)  0           add_10[0][0]                     \n",
      "                                                                 leaky_re_lu_26[0][0]             \n",
      "__________________________________________________________________________________________________\n",
      "zero_padding2d_4 (ZeroPadding2D (None, 38, 38, 256)  0           add_11[0][0]                     \n",
      "__________________________________________________________________________________________________\n",
      "conv2d_27 (Conv2D)              (None, 18, 18, 512)  1179648     zero_padding2d_4[0][0]           \n",
      "__________________________________________________________________________________________________\n",
      "batch_normalization_27 (BatchNo (None, 18, 18, 512)  2048        conv2d_27[0][0]                  \n",
      "__________________________________________________________________________________________________\n",
      "leaky_re_lu_27 (LeakyReLU)      (None, 18, 18, 512)  0           batch_normalization_27[0][0]     \n",
      "__________________________________________________________________________________________________\n",
      "conv2d_28 (Conv2D)              (None, 18, 18, 256)  131072      leaky_re_lu_27[0][0]             \n",
      "__________________________________________________________________________________________________\n",
      "batch_normalization_28 (BatchNo (None, 18, 18, 256)  1024        conv2d_28[0][0]                  \n",
      "__________________________________________________________________________________________________\n",
      "leaky_re_lu_28 (LeakyReLU)      (None, 18, 18, 256)  0           batch_normalization_28[0][0]     \n",
      "__________________________________________________________________________________________________\n",
      "conv2d_29 (Conv2D)              (None, 18, 18, 512)  1179648     leaky_re_lu_28[0][0]             \n",
      "__________________________________________________________________________________________________\n",
      "batch_normalization_29 (BatchNo (None, 18, 18, 512)  2048        conv2d_29[0][0]                  \n",
      "__________________________________________________________________________________________________\n",
      "leaky_re_lu_29 (LeakyReLU)      (None, 18, 18, 512)  0           batch_normalization_29[0][0]     \n",
      "__________________________________________________________________________________________________\n",
      "add_12 (Add)                    (None, 18, 18, 512)  0           leaky_re_lu_27[0][0]             \n",
      "                                                                 leaky_re_lu_29[0][0]             \n",
      "__________________________________________________________________________________________________\n",
      "conv2d_30 (Conv2D)              (None, 18, 18, 256)  131072      add_12[0][0]                     \n",
      "__________________________________________________________________________________________________\n",
      "batch_normalization_30 (BatchNo (None, 18, 18, 256)  1024        conv2d_30[0][0]                  \n",
      "__________________________________________________________________________________________________\n",
      "leaky_re_lu_30 (LeakyReLU)      (None, 18, 18, 256)  0           batch_normalization_30[0][0]     \n",
      "__________________________________________________________________________________________________\n",
      "conv2d_31 (Conv2D)              (None, 18, 18, 512)  1179648     leaky_re_lu_30[0][0]             \n",
      "__________________________________________________________________________________________________\n",
      "batch_normalization_31 (BatchNo (None, 18, 18, 512)  2048        conv2d_31[0][0]                  \n",
      "__________________________________________________________________________________________________\n",
      "leaky_re_lu_31 (LeakyReLU)      (None, 18, 18, 512)  0           batch_normalization_31[0][0]     \n",
      "__________________________________________________________________________________________________\n",
      "add_13 (Add)                    (None, 18, 18, 512)  0           add_12[0][0]                     \n",
      "                                                                 leaky_re_lu_31[0][0]             \n",
      "__________________________________________________________________________________________________\n",
      "conv2d_32 (Conv2D)              (None, 18, 18, 256)  131072      add_13[0][0]                     \n",
      "__________________________________________________________________________________________________\n",
      "batch_normalization_32 (BatchNo (None, 18, 18, 256)  1024        conv2d_32[0][0]                  \n",
      "__________________________________________________________________________________________________\n",
      "leaky_re_lu_32 (LeakyReLU)      (None, 18, 18, 256)  0           batch_normalization_32[0][0]     \n",
      "__________________________________________________________________________________________________\n",
      "conv2d_33 (Conv2D)              (None, 18, 18, 512)  1179648     leaky_re_lu_32[0][0]             \n",
      "__________________________________________________________________________________________________\n",
      "batch_normalization_33 (BatchNo (None, 18, 18, 512)  2048        conv2d_33[0][0]                  \n",
      "__________________________________________________________________________________________________\n",
      "leaky_re_lu_33 (LeakyReLU)      (None, 18, 18, 512)  0           batch_normalization_33[0][0]     \n",
      "__________________________________________________________________________________________________\n",
      "add_14 (Add)                    (None, 18, 18, 512)  0           add_13[0][0]                     \n",
      "                                                                 leaky_re_lu_33[0][0]             \n",
      "__________________________________________________________________________________________________\n",
      "conv2d_34 (Conv2D)              (None, 18, 18, 256)  131072      add_14[0][0]                     \n",
      "__________________________________________________________________________________________________\n",
      "batch_normalization_34 (BatchNo (None, 18, 18, 256)  1024        conv2d_34[0][0]                  \n",
      "__________________________________________________________________________________________________\n",
      "leaky_re_lu_34 (LeakyReLU)      (None, 18, 18, 256)  0           batch_normalization_34[0][0]     \n",
      "__________________________________________________________________________________________________\n",
      "conv2d_35 (Conv2D)              (None, 18, 18, 512)  1179648     leaky_re_lu_34[0][0]             \n",
      "__________________________________________________________________________________________________\n",
      "batch_normalization_35 (BatchNo (None, 18, 18, 512)  2048        conv2d_35[0][0]                  \n",
      "__________________________________________________________________________________________________\n",
      "leaky_re_lu_35 (LeakyReLU)      (None, 18, 18, 512)  0           batch_normalization_35[0][0]     \n",
      "__________________________________________________________________________________________________\n",
      "add_15 (Add)                    (None, 18, 18, 512)  0           add_14[0][0]                     \n",
      "                                                                 leaky_re_lu_35[0][0]             \n",
      "__________________________________________________________________________________________________\n",
      "conv2d_36 (Conv2D)              (None, 18, 18, 256)  131072      add_15[0][0]                     \n",
      "__________________________________________________________________________________________________\n",
      "batch_normalization_36 (BatchNo (None, 18, 18, 256)  1024        conv2d_36[0][0]                  \n",
      "__________________________________________________________________________________________________\n",
      "leaky_re_lu_36 (LeakyReLU)      (None, 18, 18, 256)  0           batch_normalization_36[0][0]     \n",
      "__________________________________________________________________________________________________\n",
      "conv2d_37 (Conv2D)              (None, 18, 18, 512)  1179648     leaky_re_lu_36[0][0]             \n",
      "__________________________________________________________________________________________________\n",
      "batch_normalization_37 (BatchNo (None, 18, 18, 512)  2048        conv2d_37[0][0]                  \n",
      "__________________________________________________________________________________________________\n",
      "leaky_re_lu_37 (LeakyReLU)      (None, 18, 18, 512)  0           batch_normalization_37[0][0]     \n",
      "__________________________________________________________________________________________________\n",
      "add_16 (Add)                    (None, 18, 18, 512)  0           add_15[0][0]                     \n",
      "                                                                 leaky_re_lu_37[0][0]             \n",
      "__________________________________________________________________________________________________\n",
      "conv2d_38 (Conv2D)              (None, 18, 18, 256)  131072      add_16[0][0]                     \n",
      "__________________________________________________________________________________________________\n",
      "batch_normalization_38 (BatchNo (None, 18, 18, 256)  1024        conv2d_38[0][0]                  \n",
      "__________________________________________________________________________________________________\n",
      "leaky_re_lu_38 (LeakyReLU)      (None, 18, 18, 256)  0           batch_normalization_38[0][0]     \n",
      "__________________________________________________________________________________________________\n",
      "conv2d_39 (Conv2D)              (None, 18, 18, 512)  1179648     leaky_re_lu_38[0][0]             \n",
      "__________________________________________________________________________________________________\n",
      "batch_normalization_39 (BatchNo (None, 18, 18, 512)  2048        conv2d_39[0][0]                  \n",
      "__________________________________________________________________________________________________\n",
      "leaky_re_lu_39 (LeakyReLU)      (None, 18, 18, 512)  0           batch_normalization_39[0][0]     \n",
      "__________________________________________________________________________________________________\n",
      "add_17 (Add)                    (None, 18, 18, 512)  0           add_16[0][0]                     \n",
      "                                                                 leaky_re_lu_39[0][0]             \n",
      "__________________________________________________________________________________________________\n",
      "conv2d_40 (Conv2D)              (None, 18, 18, 256)  131072      add_17[0][0]                     \n",
      "__________________________________________________________________________________________________\n",
      "batch_normalization_40 (BatchNo (None, 18, 18, 256)  1024        conv2d_40[0][0]                  \n",
      "__________________________________________________________________________________________________\n",
      "leaky_re_lu_40 (LeakyReLU)      (None, 18, 18, 256)  0           batch_normalization_40[0][0]     \n",
      "__________________________________________________________________________________________________\n",
      "conv2d_41 (Conv2D)              (None, 18, 18, 512)  1179648     leaky_re_lu_40[0][0]             \n",
      "__________________________________________________________________________________________________\n",
      "batch_normalization_41 (BatchNo (None, 18, 18, 512)  2048        conv2d_41[0][0]                  \n",
      "__________________________________________________________________________________________________\n",
      "leaky_re_lu_41 (LeakyReLU)      (None, 18, 18, 512)  0           batch_normalization_41[0][0]     \n",
      "__________________________________________________________________________________________________\n",
      "add_18 (Add)                    (None, 18, 18, 512)  0           add_17[0][0]                     \n",
      "                                                                 leaky_re_lu_41[0][0]             \n",
      "__________________________________________________________________________________________________\n",
      "conv2d_42 (Conv2D)              (None, 18, 18, 256)  131072      add_18[0][0]                     \n",
      "__________________________________________________________________________________________________\n",
      "batch_normalization_42 (BatchNo (None, 18, 18, 256)  1024        conv2d_42[0][0]                  \n",
      "__________________________________________________________________________________________________\n",
      "leaky_re_lu_42 (LeakyReLU)      (None, 18, 18, 256)  0           batch_normalization_42[0][0]     \n",
      "__________________________________________________________________________________________________\n",
      "conv2d_43 (Conv2D)              (None, 18, 18, 512)  1179648     leaky_re_lu_42[0][0]             \n",
      "__________________________________________________________________________________________________\n",
      "batch_normalization_43 (BatchNo (None, 18, 18, 512)  2048        conv2d_43[0][0]                  \n",
      "__________________________________________________________________________________________________\n",
      "leaky_re_lu_43 (LeakyReLU)      (None, 18, 18, 512)  0           batch_normalization_43[0][0]     \n",
      "__________________________________________________________________________________________________\n",
      "add_19 (Add)                    (None, 18, 18, 512)  0           add_18[0][0]                     \n",
      "                                                                 leaky_re_lu_43[0][0]             \n",
      "__________________________________________________________________________________________________\n",
      "zero_padding2d_5 (ZeroPadding2D (None, 19, 19, 512)  0           add_19[0][0]                     \n",
      "__________________________________________________________________________________________________\n",
      "conv2d_44 (Conv2D)              (None, 9, 9, 1024)   4718592     zero_padding2d_5[0][0]           \n",
      "__________________________________________________________________________________________________\n",
      "batch_normalization_44 (BatchNo (None, 9, 9, 1024)   4096        conv2d_44[0][0]                  \n",
      "__________________________________________________________________________________________________\n",
      "leaky_re_lu_44 (LeakyReLU)      (None, 9, 9, 1024)   0           batch_normalization_44[0][0]     \n",
      "__________________________________________________________________________________________________\n",
      "conv2d_45 (Conv2D)              (None, 9, 9, 512)    524288      leaky_re_lu_44[0][0]             \n",
      "__________________________________________________________________________________________________\n",
      "batch_normalization_45 (BatchNo (None, 9, 9, 512)    2048        conv2d_45[0][0]                  \n",
      "__________________________________________________________________________________________________\n",
      "leaky_re_lu_45 (LeakyReLU)      (None, 9, 9, 512)    0           batch_normalization_45[0][0]     \n",
      "__________________________________________________________________________________________________\n",
      "conv2d_46 (Conv2D)              (None, 9, 9, 1024)   4718592     leaky_re_lu_45[0][0]             \n",
      "__________________________________________________________________________________________________\n",
      "batch_normalization_46 (BatchNo (None, 9, 9, 1024)   4096        conv2d_46[0][0]                  \n",
      "__________________________________________________________________________________________________\n",
      "leaky_re_lu_46 (LeakyReLU)      (None, 9, 9, 1024)   0           batch_normalization_46[0][0]     \n",
      "__________________________________________________________________________________________________\n",
      "add_20 (Add)                    (None, 9, 9, 1024)   0           leaky_re_lu_44[0][0]             \n",
      "                                                                 leaky_re_lu_46[0][0]             \n",
      "__________________________________________________________________________________________________\n",
      "conv2d_47 (Conv2D)              (None, 9, 9, 512)    524288      add_20[0][0]                     \n",
      "__________________________________________________________________________________________________\n",
      "batch_normalization_47 (BatchNo (None, 9, 9, 512)    2048        conv2d_47[0][0]                  \n",
      "__________________________________________________________________________________________________\n",
      "leaky_re_lu_47 (LeakyReLU)      (None, 9, 9, 512)    0           batch_normalization_47[0][0]     \n",
      "__________________________________________________________________________________________________\n",
      "conv2d_48 (Conv2D)              (None, 9, 9, 1024)   4718592     leaky_re_lu_47[0][0]             \n",
      "__________________________________________________________________________________________________\n",
      "batch_normalization_48 (BatchNo (None, 9, 9, 1024)   4096        conv2d_48[0][0]                  \n",
      "__________________________________________________________________________________________________\n",
      "leaky_re_lu_48 (LeakyReLU)      (None, 9, 9, 1024)   0           batch_normalization_48[0][0]     \n",
      "__________________________________________________________________________________________________\n",
      "add_21 (Add)                    (None, 9, 9, 1024)   0           add_20[0][0]                     \n",
      "                                                                 leaky_re_lu_48[0][0]             \n",
      "__________________________________________________________________________________________________\n",
      "conv2d_49 (Conv2D)              (None, 9, 9, 512)    524288      add_21[0][0]                     \n",
      "__________________________________________________________________________________________________\n",
      "batch_normalization_49 (BatchNo (None, 9, 9, 512)    2048        conv2d_49[0][0]                  \n",
      "__________________________________________________________________________________________________\n",
      "leaky_re_lu_49 (LeakyReLU)      (None, 9, 9, 512)    0           batch_normalization_49[0][0]     \n",
      "__________________________________________________________________________________________________\n",
      "conv2d_50 (Conv2D)              (None, 9, 9, 1024)   4718592     leaky_re_lu_49[0][0]             \n",
      "__________________________________________________________________________________________________\n",
      "batch_normalization_50 (BatchNo (None, 9, 9, 1024)   4096        conv2d_50[0][0]                  \n",
      "__________________________________________________________________________________________________\n",
      "leaky_re_lu_50 (LeakyReLU)      (None, 9, 9, 1024)   0           batch_normalization_50[0][0]     \n",
      "__________________________________________________________________________________________________\n",
      "add_22 (Add)                    (None, 9, 9, 1024)   0           add_21[0][0]                     \n",
      "                                                                 leaky_re_lu_50[0][0]             \n",
      "__________________________________________________________________________________________________\n",
      "conv2d_51 (Conv2D)              (None, 9, 9, 512)    524288      add_22[0][0]                     \n",
      "__________________________________________________________________________________________________\n",
      "batch_normalization_51 (BatchNo (None, 9, 9, 512)    2048        conv2d_51[0][0]                  \n",
      "__________________________________________________________________________________________________\n",
      "leaky_re_lu_51 (LeakyReLU)      (None, 9, 9, 512)    0           batch_normalization_51[0][0]     \n",
      "__________________________________________________________________________________________________\n",
      "conv2d_52 (Conv2D)              (None, 9, 9, 1024)   4718592     leaky_re_lu_51[0][0]             \n",
      "__________________________________________________________________________________________________\n",
      "batch_normalization_52 (BatchNo (None, 9, 9, 1024)   4096        conv2d_52[0][0]                  \n",
      "__________________________________________________________________________________________________\n",
      "leaky_re_lu_52 (LeakyReLU)      (None, 9, 9, 1024)   0           batch_normalization_52[0][0]     \n",
      "__________________________________________________________________________________________________\n",
      "add_23 (Add)                    (None, 9, 9, 1024)   0           add_22[0][0]                     \n",
      "                                                                 leaky_re_lu_52[0][0]             \n",
      "__________________________________________________________________________________________________\n",
      "flatten_1 (Flatten)             (None, 82944)        0           add_23[0][0]                     \n",
      "__________________________________________________________________________________________________\n",
      "dense_1 (Dense)                 (None, 7178)         595379210   flatten_1[0][0]                  \n",
      "__________________________________________________________________________________________________\n",
      "dense_2 (Dense)                 (None, 7178)         51530862    dense_1[0][0]                    \n",
      "__________________________________________________________________________________________________\n",
      "activation_1 (Activation)       (None, 7178)         0           dense_2[0][0]                    \n",
      "==================================================================================================\n",
      "Total params: 687,530,712\n",
      "Trainable params: 687,495,000\n",
      "Non-trainable params: 35,712\n",
      "__________________________________________________________________________________________________\n"
     ]
    }
   ],
   "source": [
    "model = darknet_classifier(input_shape, num_labels)\n",
    "model.compile(loss=\"binary_crossentropy\", optimizer='rmsprop', metrics=[\"accuracy\"], learn)\n",
    "model.summary()"
   ]
  },
  {
   "cell_type": "code",
   "execution_count": 27,
   "metadata": {},
   "outputs": [],
   "source": [
    "num_epochs = 2"
   ]
  },
  {
   "cell_type": "code",
   "execution_count": 28,
   "metadata": {},
   "outputs": [],
   "source": [
    "batch_size = 8"
   ]
  },
  {
   "cell_type": "code",
   "execution_count": 29,
   "metadata": {},
   "outputs": [],
   "source": [
    "from keras.callbacks import ModelCheckpoint, EarlyStopping"
   ]
  },
  {
   "cell_type": "code",
   "execution_count": 30,
   "metadata": {},
   "outputs": [],
   "source": [
    "# trains the model\n",
    "# defined 2 callbacks: early stopping and checkpoint to save the model if the validation loss has been improved\n",
    "def train_model(model, train_generator, validation_generator, epochs=3):\n",
    "    early_stopping_callback = EarlyStopping(monitor='val_loss', patience=1)\n",
    "    checkpoint_callback = ModelCheckpoint('model.h5', monitor='val_loss', verbose=1, save_best_only=True, mode='min')\n",
    "\n",
    "    model.fit_generator(train_generator, steps_per_epoch=len(train_samples)//batch_size, validation_data=validation_generator, validation_steps=len(validation_samples)//batch_size, epochs=epochs, callbacks=[early_stopping_callback, checkpoint_callback], )"
   ]
  },
  {
   "cell_type": "code",
   "execution_count": 31,
   "metadata": {},
   "outputs": [],
   "source": [
    "# compile and train the model using the generator function\n",
    "train_generator = generator(train_samples, batch_size=batch_size)\n",
    "validation_generator = generator(validation_samples, batch_size=batch_size)"
   ]
  },
  {
   "cell_type": "code",
   "execution_count": null,
   "metadata": {},
   "outputs": [
    {
     "name": "stdout",
     "output_type": "stream",
     "text": [
      "Epoch 1/2\n",
      "20/94 [=====>........................] - ETA: 5:13:03 - loss: 8.0754 - acc: 0.9139"
     ]
    }
   ],
   "source": [
    "train_model(model, train_generator, validation_generator, num_epochs)"
   ]
  },
  {
   "cell_type": "code",
   "execution_count": null,
   "metadata": {},
   "outputs": [],
   "source": []
  }
 ],
 "metadata": {
  "kernelspec": {
   "display_name": "Python 3",
   "language": "python",
   "name": "python3"
  },
  "language_info": {
   "codemirror_mode": {
    "name": "ipython",
    "version": 3
   },
   "file_extension": ".py",
   "mimetype": "text/x-python",
   "name": "python",
   "nbconvert_exporter": "python",
   "pygments_lexer": "ipython3",
   "version": "3.6.6"
  }
 },
 "nbformat": 4,
 "nbformat_minor": 1
}
